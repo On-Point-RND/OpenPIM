{
 "cells": [
  {
   "cell_type": "code",
   "execution_count": 1,
   "id": "afbdd9cd-ee43-4b5d-bf57-a9ec4ba12ef9",
   "metadata": {},
   "outputs": [
    {
     "name": "stdout",
     "output_type": "stream",
     "text": [
      "::: Are Deterministic Algorithms Enabled:  False\n",
      "--------------------------------------------------------------------\n",
      "####################################################################################################\n",
      "# Step: Train PA                                                                                   #\n",
      "####################################################################################################\n",
      "::: Available GPUs: None\n",
      "--------------------------------------------------------------------\n",
      "here\n",
      "len(sequence):  7680\n",
      "self.nperseg:  2560\n",
      "here\n",
      "len(sequence):  7680\n",
      "self.nperseg:  2560\n",
      "here\n",
      "len(sequence):  7680\n",
      "self.nperseg:  2560\n",
      "here\n",
      "len(sequence):  7680\n",
      "self.nperseg:  2560\n",
      "Backbone Initialized...\n",
      "::: Number of PA Model Parameters:  486\n",
      "::: Best Model Save Path:  ./save/DPA_200MHz/train_pa/PA_S_0_M_DGRU_H_8_F_50_P_486.pt\n",
      "::: Log-History     Path:  ./log/DPA_200MHz/train_pa/history/PA_S_0_M_DGRU_H_8_F_50_P_486.csv\n",
      "::: Log-Best        Path:  ./log/DPA_200MHz/train_pa/best/PA_S_0_M_DGRU_H_8_F_50_P_486.csv\n"
     ]
    },
    {
     "name": "stderr",
     "output_type": "stream",
     "text": [
      "/opt/anaconda3/lib/python3.12/site-packages/torch/optim/lr_scheduler.py:60: UserWarning: The verbose parameter is deprecated. Please use get_last_lr() to access the learning rate.\n",
      "  warnings.warn(\n"
     ]
    },
    {
     "name": "stdout",
     "output_type": "stream",
     "text": [
      "Starting training...\n"
     ]
    },
    {
     "name": "stderr",
     "output_type": "stream",
     "text": [
      "100%|████████████████████████████████████████| 360/360 [00:02<00:00, 134.98it/s]\n",
      "100%|█████████████████████████████████████████████| 1/1 [00:00<00:00, 25.56it/s]\n",
      "100%|█████████████████████████████████████████████| 1/1 [00:00<00:00, 11.94it/s]\n"
     ]
    },
    {
     "name": "stdout",
     "output_type": "stream",
     "text": [
      "{'EPOCH': 0, 'N_EPOCH': 3, 'TIME:': '0.04679630', 'LR': '0.00100000', 'BATCH_SIZE': 64, 'N_PARAM': 486, 'FRAME_LENGTH': 50, 'BACKBONE': 'dgru', 'HIDDEN_SIZE': 8, 'TRAIN_LOSS': '0.16320597', 'VAL_LOSS': '0.05377724', 'VAL_NMSE': -10.563895, 'TEST_LOSS': '0.06271068', 'TEST_NMSE': -10.360659}\n",
      ">>> saving best model (-10.563895 -> -10.563895 NMSE) from epoch 0 to ./save/DPA_200MHz/train_pa/PA_S_0_M_DGRU_H_8_F_50_P_486.pt\n"
     ]
    },
    {
     "name": "stderr",
     "output_type": "stream",
     "text": [
      "100%|█████████████████████████████████████████| 360/360 [00:03<00:00, 95.59it/s]\n",
      "100%|█████████████████████████████████████████████| 1/1 [00:00<00:00, 16.77it/s]\n",
      "100%|█████████████████████████████████████████████| 1/1 [00:00<00:00, 28.67it/s]\n"
     ]
    },
    {
     "name": "stdout",
     "output_type": "stream",
     "text": [
      "{'EPOCH': 1, 'N_EPOCH': 3, 'TIME:': '0.11133872', 'LR': '0.00100000', 'BATCH_SIZE': 64, 'N_PARAM': 486, 'FRAME_LENGTH': 50, 'BACKBONE': 'dgru', 'HIDDEN_SIZE': 8, 'TRAIN_LOSS': '0.02420543', 'VAL_LOSS': '0.00721508', 'VAL_NMSE': -19.28064, 'TEST_LOSS': '0.00845000', 'TEST_NMSE': -19.06302}\n",
      ">>> saving best model (-10.563895 -> -19.280640 NMSE) from epoch 1 to ./save/DPA_200MHz/train_pa/PA_S_0_M_DGRU_H_8_F_50_P_486.pt\n"
     ]
    },
    {
     "name": "stderr",
     "output_type": "stream",
     "text": [
      "100%|████████████████████████████████████████| 360/360 [00:02<00:00, 129.26it/s]\n",
      "100%|█████████████████████████████████████████████| 1/1 [00:00<00:00, 22.27it/s]\n",
      "100%|█████████████████████████████████████████████| 1/1 [00:00<00:00, 23.25it/s]"
     ]
    },
    {
     "name": "stdout",
     "output_type": "stream",
     "text": [
      "{'EPOCH': 2, 'N_EPOCH': 3, 'TIME:': '0.15932245', 'LR': '0.00100000', 'BATCH_SIZE': 64, 'N_PARAM': 486, 'FRAME_LENGTH': 50, 'BACKBONE': 'dgru', 'HIDDEN_SIZE': 8, 'TRAIN_LOSS': '0.00490643', 'VAL_LOSS': '0.00279374', 'VAL_NMSE': -23.395273, 'TEST_LOSS': '0.00318895', 'TEST_NMSE': -23.279068}\n",
      ">>> saving best model (-19.280640 -> -23.395273 NMSE) from epoch 2 to ./save/DPA_200MHz/train_pa/PA_S_0_M_DGRU_H_8_F_50_P_486.pt\n",
      "Training Completed...\n",
      " \n"
     ]
    },
    {
     "name": "stderr",
     "output_type": "stream",
     "text": [
      "\n"
     ]
    }
   ],
   "source": [
    "run ../main.py --dataset_path ../datasets/DPD --dataset_name DPA_200MHz --step train_pa --accelerator cpu"
   ]
  },
  {
   "cell_type": "code",
   "execution_count": 2,
   "id": "99645f28-717a-4633-9627-2d3fac57faa0",
   "metadata": {},
   "outputs": [
    {
     "name": "stderr",
     "output_type": "stream",
     "text": [
      "/Users/svetlanakuzakina/Documents/Python Scripts/Сколтех/PIM/CNNs/OpenPIM/steps/train_dpd.py:38: FutureWarning: You are using `torch.load` with `weights_only=False` (the current default value), which uses the default pickle module implicitly. It is possible to construct malicious pickle data which will execute arbitrary code during unpickling (See https://github.com/pytorch/pytorch/blob/main/SECURITY.md#untrusted-models for more details). In a future release, the default value for `weights_only` will be flipped to `True`. This limits the functions that could be executed during unpickling. Arbitrary objects will no longer be allowed to be loaded via this mode unless they are explicitly allowlisted by the user via `torch.serialization.add_safe_globals`. We recommend you start setting `weights_only=True` for any use case where you don't have full control of the loaded file. Please open an issue on GitHub for any issues related to this experimental feature.\n",
      "  net_pa.load_state_dict(torch.load(path_pa_model))\n",
      "/opt/anaconda3/lib/python3.12/site-packages/torch/optim/lr_scheduler.py:60: UserWarning: The verbose parameter is deprecated. Please use get_last_lr() to access the learning rate.\n",
      "  warnings.warn(\n"
     ]
    },
    {
     "name": "stdout",
     "output_type": "stream",
     "text": [
      "::: Are Deterministic Algorithms Enabled:  False\n",
      "--------------------------------------------------------------------\n",
      "####################################################################################################\n",
      "# Step: Train DPD                                                                                  #\n",
      "####################################################################################################\n",
      "::: Available GPUs: None\n",
      "--------------------------------------------------------------------\n",
      "here\n",
      "len(sequence):  7680\n",
      "self.nperseg:  2560\n",
      "here\n",
      "len(sequence):  7680\n",
      "self.nperseg:  2560\n",
      "here\n",
      "len(sequence):  7680\n",
      "self.nperseg:  2560\n",
      "here\n",
      "len(sequence):  7680\n",
      "self.nperseg:  2560\n",
      "Backbone Initialized...\n",
      "::: Number of PA Model Parameters:  486\n",
      "Backbone Initialized...\n",
      "::: DPD Model:  CoreModel(\n",
      "  (backbone): DGRU(\n",
      "    (rnn): GRU(6, 8, num_layers=2, batch_first=True)\n",
      "    (fc_out): Linear(in_features=14, out_features=2, bias=True)\n",
      "    (fc_hid): Linear(in_features=8, out_features=8, bias=True)\n",
      "  )\n",
      ")\n",
      "::: Number of DPD Model Parameters:  918\n",
      "::: Best Model Save Path:  ./save/DPA_200MHz/train_dpd/DPD_S_0_M_DGRU_H_8_F_50_P_918.pt\n",
      "::: Log-History     Path:  ./log/DPA_200MHz/train_dpd/history/DPD_S_0_M_DGRU_H_8_F_50_P_918.csv\n",
      "::: Log-Best        Path:  ./log/DPA_200MHz/train_dpd/best/DPD_S_0_M_DGRU_H_8_F_50_P_918.csv\n",
      "Starting training...\n"
     ]
    },
    {
     "name": "stderr",
     "output_type": "stream",
     "text": [
      "100%|█████████████████████████████████████████| 360/360 [00:07<00:00, 50.00it/s]\n",
      "100%|█████████████████████████████████████████████| 1/1 [00:00<00:00,  8.03it/s]\n",
      "100%|█████████████████████████████████████████████| 1/1 [00:00<00:00,  9.21it/s]\n"
     ]
    },
    {
     "name": "stdout",
     "output_type": "stream",
     "text": [
      "{'EPOCH': 0, 'N_EPOCH': 3, 'TIME:': '0.12401497', 'LR': '0.00100000', 'BATCH_SIZE': 64, 'N_PARAM': 1404, 'FRAME_LENGTH': 50, 'BACKBONE': 'dgru', 'HIDDEN_SIZE': 8, 'TRAIN_LOSS': '0.27788685', 'VAL_LOSS': '0.01714642', 'VAL_NMSE': -13.529073, 'TEST_LOSS': '0.01893640', 'TEST_NMSE': -13.547}\n",
      ">>> saving best model (-13.529073 -> -13.529073 NMSE) from epoch 0 to ./save/DPA_200MHz/train_dpd/DPD_S_0_M_DGRU_H_8_F_50_P_918.pt\n"
     ]
    },
    {
     "name": "stderr",
     "output_type": "stream",
     "text": [
      "100%|█████████████████████████████████████████| 360/360 [00:06<00:00, 52.66it/s]\n",
      "100%|█████████████████████████████████████████████| 1/1 [00:00<00:00,  8.93it/s]\n",
      "100%|█████████████████████████████████████████████| 1/1 [00:00<00:00,  7.49it/s]\n"
     ]
    },
    {
     "name": "stdout",
     "output_type": "stream",
     "text": [
      "{'EPOCH': 1, 'N_EPOCH': 3, 'TIME:': '0.24215150', 'LR': '0.00100000', 'BATCH_SIZE': 64, 'N_PARAM': 1404, 'FRAME_LENGTH': 50, 'BACKBONE': 'dgru', 'HIDDEN_SIZE': 8, 'TRAIN_LOSS': '0.01160148', 'VAL_LOSS': '0.00513736', 'VAL_NMSE': -18.765636, 'TEST_LOSS': '0.00582344', 'TEST_NMSE': -18.678717}\n",
      ">>> saving best model (-13.529073 -> -18.765636 NMSE) from epoch 1 to ./save/DPA_200MHz/train_dpd/DPD_S_0_M_DGRU_H_8_F_50_P_918.pt\n"
     ]
    },
    {
     "name": "stderr",
     "output_type": "stream",
     "text": [
      "100%|█████████████████████████████████████████| 360/360 [00:10<00:00, 35.85it/s]\n",
      "100%|█████████████████████████████████████████████| 1/1 [00:00<00:00,  9.59it/s]\n",
      "100%|█████████████████████████████████████████████| 1/1 [00:00<00:00,  8.09it/s]"
     ]
    },
    {
     "name": "stdout",
     "output_type": "stream",
     "text": [
      "{'EPOCH': 2, 'N_EPOCH': 3, 'TIME:': '0.41340632', 'LR': '0.00100000', 'BATCH_SIZE': 64, 'N_PARAM': 1404, 'FRAME_LENGTH': 50, 'BACKBONE': 'dgru', 'HIDDEN_SIZE': 8, 'TRAIN_LOSS': '0.00505027', 'VAL_LOSS': '0.00285417', 'VAL_NMSE': -21.317741, 'TEST_LOSS': '0.00319706', 'TEST_NMSE': -21.280375}\n",
      ">>> saving best model (-18.765636 -> -21.317741 NMSE) from epoch 2 to ./save/DPA_200MHz/train_dpd/DPD_S_0_M_DGRU_H_8_F_50_P_918.pt\n",
      "Training Completed...\n",
      " \n"
     ]
    },
    {
     "name": "stderr",
     "output_type": "stream",
     "text": [
      "\n"
     ]
    }
   ],
   "source": [
    "run ../main.py --dataset_path ../datasets/DPD --dataset_name DPA_200MHz --step train_dpd --accelerator cpu"
   ]
  },
  {
   "cell_type": "code",
   "execution_count": 3,
   "id": "42736447-26e5-40a2-9f37-892cd0dd44de",
   "metadata": {},
   "outputs": [
    {
     "name": "stdout",
     "output_type": "stream",
     "text": [
      "::: Are Deterministic Algorithms Enabled:  False\n",
      "--------------------------------------------------------------------\n",
      "####################################################################################################\n",
      "# Step: Run DPD                                                                                    #\n",
      "####################################################################################################\n",
      "::: Available GPUs: None\n",
      "--------------------------------------------------------------------\n",
      "Backbone Initialized...\n",
      "::: Number of DPD Model Parameters:  918\n",
      "::: Number of Network Parameters:  918\n",
      "DPD outputs saved to the ./dpd_out folder.\n"
     ]
    }
   ],
   "source": [
    "run ../main.py --dataset_path ../datasets/DPD --dataset_name DPA_200MHz --step run_dpd --accelerator cpu"
   ]
  },
  {
   "cell_type": "code",
   "execution_count": null,
   "id": "beeaa7d0-26a2-4105-bc5e-17e708b8201b",
   "metadata": {},
   "outputs": [],
   "source": []
  },
  {
   "cell_type": "code",
   "execution_count": 4,
   "id": "c87d8f30-6dc4-47bb-91e7-b1ffaef0159a",
   "metadata": {},
   "outputs": [],
   "source": [
    "from scipy.io import loadmat\n",
    "data = loadmat(\"../../../Data/FOR_COOPERATION/1TR_C20Nc1CD_E20Ne1CD_20250117_5m/1TR_C20Nc1CD_E20Ne1CD_20250117_5m.mat\")\n",
    "fil = loadmat(\"../../../Data/FOR_COOPERATION/rx_filter.mat\")"
   ]
  },
  {
   "cell_type": "code",
   "execution_count": null,
   "id": "059af565-befe-426c-a4bb-633857401545",
   "metadata": {},
   "outputs": [],
   "source": []
  },
  {
   "cell_type": "code",
   "execution_count": null,
   "id": "a1b61eb3-206c-480f-80a4-d65e83aa4d35",
   "metadata": {},
   "outputs": [],
   "source": []
  },
  {
   "cell_type": "code",
   "execution_count": 6,
   "id": "da0d057e-6214-40fa-b197-f8aefe2ebac1",
   "metadata": {},
   "outputs": [
    {
     "name": "stdout",
     "output_type": "stream",
     "text": [
      "k:  input_signal_fs , v:  800000000.0\n",
      "k:  bw_main_ch , v:  200000000.0\n",
      "k:  bw_sub_ch , v:  20000000.0\n",
      "k:  n_sub_ch , v:  10\n",
      "k:  nperseg , v:  2560\n"
     ]
    }
   ],
   "source": [
    "import json\n",
    "path_spec = '../datasets/DPD/DPA_200MHz/spec.json'\n",
    "with open(path_spec) as config_file:\n",
    "    spec = json.load(config_file)\n",
    "    for k, v in spec.items():\n",
    "        print('k: ', k, ', v: ', v)"
   ]
  },
  {
   "cell_type": "code",
   "execution_count": null,
   "id": "68d21034-5e41-47d3-a86a-f4543b221fe0",
   "metadata": {},
   "outputs": [],
   "source": []
  },
  {
   "cell_type": "code",
   "execution_count": 15,
   "id": "668b499e-a3ee-4b67-95e7-846c95c03877",
   "metadata": {},
   "outputs": [],
   "source": [
    "import json\n",
    "# Data to be written\n",
    "dictionary = {\n",
    "    \"name\": \"sathiyajith\",\n",
    "    \"rollno\": 56,\n",
    "    \"cgpa\": 8.6\n",
    "}\n",
    " \n",
    "# Serializing json\n",
    "json_object = json.dumps(dictionary)\n",
    " \n",
    "# Writing to sample.json\n",
    "with open(\"sample1.json\", \"w\") as outfile:\n",
    "    outfile.write(json_object)"
   ]
  },
  {
   "cell_type": "code",
   "execution_count": 16,
   "id": "c92e40ed-3cef-430d-9ad1-40c2fc1461d0",
   "metadata": {},
   "outputs": [
    {
     "name": "stdout",
     "output_type": "stream",
     "text": [
      "k:  name , v:  sathiyajith\n",
      "k:  rollno , v:  56\n",
      "k:  cgpa , v:  8.6\n"
     ]
    }
   ],
   "source": [
    "import json\n",
    "path_spec = 'sample1.json'\n",
    "with open(path_spec) as config_file:\n",
    "    spec = json.load(config_file)\n",
    "    for k, v in spec.items():\n",
    "        print('k: ', k, ', v: ', v)"
   ]
  },
  {
   "cell_type": "code",
   "execution_count": 10,
   "id": "e6ce6f48-e170-41c8-af1c-ba2669f2791f",
   "metadata": {},
   "outputs": [
    {
     "data": {
      "text/plain": [
       "3"
      ]
     },
     "execution_count": 10,
     "metadata": {},
     "output_type": "execute_result"
    }
   ],
   "source": [
    "len(dictionary)"
   ]
  },
  {
   "cell_type": "code",
   "execution_count": 31,
   "id": "c2b44cc7-9708-43fe-bdd5-a005e5453a6c",
   "metadata": {},
   "outputs": [
    {
     "data": {
      "text/plain": [
       "False"
      ]
     },
     "execution_count": 31,
     "metadata": {},
     "output_type": "execute_result"
    }
   ],
   "source": [
    "import os\n",
    "os.path.exists('../datasets/DPD/DPA_200MHz/spec1.json')"
   ]
  },
  {
   "cell_type": "code",
   "execution_count": null,
   "id": "577e9ed8-0d19-4bdc-b300-aa7719790eb4",
   "metadata": {},
   "outputs": [],
   "source": []
  },
  {
   "cell_type": "code",
   "execution_count": null,
   "id": "895a205e-6f56-4965-baaf-f4173620ecb6",
   "metadata": {},
   "outputs": [],
   "source": []
  },
  {
   "cell_type": "code",
   "execution_count": 1,
   "id": "ad43b5be-52f8-47af-a579-31cb9dc27697",
   "metadata": {},
   "outputs": [],
   "source": [
    "import sys\n",
    "sys.path.append('../')\n",
    "from pim_utils.prepare_data import prepare_data"
   ]
  },
  {
   "cell_type": "code",
   "execution_count": 2,
   "id": "2db3ed94-dba0-4e13-81fc-848fa47a867d",
   "metadata": {},
   "outputs": [],
   "source": [
    "prepare_data()"
   ]
  },
  {
   "cell_type": "code",
   "execution_count": 1,
   "id": "92a91ab9-6f12-4717-be90-d03c04bdbe06",
   "metadata": {},
   "outputs": [
    {
     "name": "stdout",
     "output_type": "stream",
     "text": [
      "::: Are Deterministic Algorithms Enabled:  False\n",
      "--------------------------------------------------------------------\n",
      "####################################################################################################\n",
      "# Step: Train PA                                                                                   #\n",
      "####################################################################################################\n",
      "::: Available GPUs: None\n",
      "--------------------------------------------------------------------\n",
      "X_test:  [[ -2422.92696949   9861.31276583]\n",
      " [  -100.9552904    -835.90980447]\n",
      " [  2035.25865437 -11694.66083941]\n",
      " ...\n",
      " [   908.59761356   -706.68703277]\n",
      " [ -1744.50741803   -165.56667625]\n",
      " [ -2588.49364574    246.33090856]]\n",
      "y_test:  [[-127.30486964  -61.18386776]\n",
      " [  81.54603768 -104.70670717]\n",
      " [  86.74186859  101.61243735]\n",
      " ...\n",
      " [  15.97053422   14.76675773]\n",
      " [   3.69222599   17.02817344]\n",
      " [ -22.48630675   17.57653004]]\n",
      "________________________\n",
      "here\n",
      "len(sequence):  49152\n",
      "self.nperseg:  1536\n",
      "here\n",
      "len(sequence):  49152\n",
      "self.nperseg:  1536\n",
      "here\n",
      "len(sequence):  49152\n",
      "self.nperseg:  1536\n",
      "here\n",
      "len(sequence):  49152\n",
      "self.nperseg:  1536\n",
      "Backbone Initialized...\n",
      "::: Number of PA Model Parameters:  486\n",
      "::: Best Model Save Path:  ./save/CH0/train_pa/PA_S_0_M_DGRU_H_8_F_50_P_486.pt\n",
      "::: Log-History     Path:  ./log/CH0/train_pa/history/PA_S_0_M_DGRU_H_8_F_50_P_486.csv\n",
      "::: Log-Best        Path:  ./log/CH0/train_pa/best/PA_S_0_M_DGRU_H_8_F_50_P_486.csv\n"
     ]
    },
    {
     "name": "stderr",
     "output_type": "stream",
     "text": [
      "/opt/anaconda3/lib/python3.12/site-packages/torch/optim/lr_scheduler.py:60: UserWarning: The verbose parameter is deprecated. Please use get_last_lr() to access the learning rate.\n",
      "  warnings.warn(\n"
     ]
    },
    {
     "name": "stdout",
     "output_type": "stream",
     "text": [
      "Starting training...\n"
     ]
    },
    {
     "name": "stderr",
     "output_type": "stream",
     "text": [
      "100%|█████████████████████████████████████▉| 2301/2304 [00:10<00:00, 219.26it/s]/opt/anaconda3/lib/python3.12/site-packages/torch/nn/modules/instancenorm.py:88: UserWarning: input's size at dim=0 does not match num_features. You can silence this warning by not passing in num_features, which is not used because affine=False\n",
      "  warnings.warn(f\"input's size at dim={feature_dim} does not match num_features. \"\n",
      "100%|██████████████████████████████████████| 2304/2304 [00:10<00:00, 220.05it/s]\n",
      "100%|█████████████████████████████████████████████| 1/1 [00:00<00:00, 35.74it/s]\n",
      "/Users/svetlanakuzakina/Documents/Python Scripts/Сколтех/PIM/CNNs/OpenPIM/pim_utils/pim_metrics.py:58: RuntimeWarning: invalid value encountered in log10\n",
      "  perf = 10*np.log10(10**((PIM_level)/10) - 1) - 10*np.log10(10**((RES_level)/10) - 1)\n"
     ]
    },
    {
     "name": "stdout",
     "output_type": "stream",
     "text": [
      "initial_signal:  [-0.19236995+0.04481887j -0.07453052-0.19581711j  0.03003275-0.14256658j\n",
      " ... -0.13434137+0.05417582j -0.09874904+0.00848148j\n",
      " -0.09080167+0.05065511j]\n",
      "initial_signal.shape:  (49152,)\n",
      "filt_signal[0]:  (-206.92447-512.24866j)\n",
      "filt_signal.shape:  (49152,)\n",
      "cal_power(initial_signal, FS, FC_TX, PIM_SFT, PIM_BW):  -62.66217161167262\n",
      "************************\n",
      "initial_power:  -62.66217161167262\n",
      "filt_power:  38.731694215259424\n",
      "red_level:  nan\n"
     ]
    },
    {
     "name": "stderr",
     "output_type": "stream",
     "text": [
      "100%|█████████████████████████████████████████████| 1/1 [00:00<00:00, 25.15it/s]\n"
     ]
    },
    {
     "name": "stdout",
     "output_type": "stream",
     "text": [
      "initial_signal:  [-0.21869317+0.11378179j -0.18500565+0.12863077j -0.16112192+0.09965657j\n",
      " ... -0.14200434+0.07419878j -0.14213124+0.07374934j\n",
      " -0.14213029+0.07335884j]\n",
      "initial_signal.shape:  (49152,)\n",
      "filt_signal[0]:  (-127.30487-61.18387j)\n",
      "filt_signal.shape:  (49152,)\n",
      "cal_power(initial_signal, FS, FC_TX, PIM_SFT, PIM_BW):  -62.18061939064082\n",
      "************************\n",
      "initial_power:  -62.18061939064082\n",
      "filt_power:  38.52845077065125\n",
      "red_level:  nan\n",
      "{'EPOCH': 0, 'N_EPOCH': 3, 'TIME:': '0.17683585', 'LR': '0.00100000', 'BATCH_SIZE': 64, 'N_PARAM': 486, 'FRAME_LENGTH': 50, 'BACKBONE': 'dgru', 'HIDDEN_SIZE': 8, 'TRAIN_LOSS': '29221.39331309', 'VAL_LOSS': '34236.13671875', 'VAL_NMSE': 1.0232716e-05, 'VAL_REDUCTION_LEVEL': 'nan', 'TEST_LOSS': '28440.44726562', 'TEST_NMSE': 2.5424155e-05, 'TEST_REDUCTION_LEVEL': 'nan'}\n",
      ">>> saving best model (nan -> nan Reduction_level) from epoch 0 to ./save/CH0/train_pa/PA_S_0_M_DGRU_H_8_F_50_P_486.pt\n"
     ]
    },
    {
     "name": "stderr",
     "output_type": "stream",
     "text": [
      " 99%|█████████████████████████████████████▌| 2281/2304 [00:10<00:00, 228.57it/s]/opt/anaconda3/lib/python3.12/site-packages/torch/nn/modules/instancenorm.py:88: UserWarning: input's size at dim=0 does not match num_features. You can silence this warning by not passing in num_features, which is not used because affine=False\n",
      "  warnings.warn(f\"input's size at dim={feature_dim} does not match num_features. \"\n",
      "100%|██████████████████████████████████████| 2304/2304 [00:10<00:00, 223.21it/s]\n",
      "100%|█████████████████████████████████████████████| 1/1 [00:00<00:00, 36.69it/s]\n",
      "/Users/svetlanakuzakina/Documents/Python Scripts/Сколтех/PIM/CNNs/OpenPIM/pim_utils/pim_metrics.py:58: RuntimeWarning: invalid value encountered in log10\n",
      "  perf = 10*np.log10(10**((PIM_level)/10) - 1) - 10*np.log10(10**((RES_level)/10) - 1)\n"
     ]
    },
    {
     "name": "stdout",
     "output_type": "stream",
     "text": [
      "initial_signal:  [-0.14329366+0.04051425j  0.02504654-0.2169376j   0.19940841-0.1515425j\n",
      " ... -0.17053297-0.03753356j -0.08185846-0.03029028j\n",
      " -0.0592998 +0.03842757j]\n",
      "initial_signal.shape:  (49152,)\n",
      "filt_signal[0]:  (-206.92447-512.24866j)\n",
      "filt_signal.shape:  (49152,)\n",
      "cal_power(initial_signal, FS, FC_TX, PIM_SFT, PIM_BW):  -52.16380066257074\n",
      "************************\n",
      "initial_power:  -52.16380066257074\n",
      "filt_power:  38.731694215259424\n",
      "red_level:  nan\n"
     ]
    },
    {
     "name": "stderr",
     "output_type": "stream",
     "text": [
      "100%|█████████████████████████████████████████████| 1/1 [00:00<00:00, 39.34it/s]\n"
     ]
    },
    {
     "name": "stdout",
     "output_type": "stream",
     "text": [
      "initial_signal:  [-0.20532319+0.13466409j -0.30175173+0.06990412j -0.22380666+0.04308316j\n",
      " ... -0.31761235-0.13616398j -0.3184356 -0.13748243j\n",
      " -0.31806344-0.13766462j]\n",
      "initial_signal.shape:  (49152,)\n",
      "filt_signal[0]:  (-127.30487-61.18387j)\n",
      "filt_signal.shape:  (49152,)\n",
      "cal_power(initial_signal, FS, FC_TX, PIM_SFT, PIM_BW):  -52.91061364155827\n",
      "************************\n",
      "initial_power:  -52.91061364155827\n",
      "filt_power:  38.52845077065125\n",
      "red_level:  nan\n",
      "{'EPOCH': 1, 'N_EPOCH': 3, 'TIME:': '0.35164469', 'LR': '0.00100000', 'BATCH_SIZE': 64, 'N_PARAM': 486, 'FRAME_LENGTH': 50, 'BACKBONE': 'dgru', 'HIDDEN_SIZE': 8, 'TRAIN_LOSS': '29218.33626260', 'VAL_LOSS': '34236.02343750', 'VAL_NMSE': 3.7204918e-06, 'VAL_REDUCTION_LEVEL': 'nan', 'TEST_LOSS': '28440.51562500', 'TEST_NMSE': 4.1254818e-05, 'TEST_REDUCTION_LEVEL': 'nan'}\n"
     ]
    },
    {
     "name": "stderr",
     "output_type": "stream",
     "text": [
      "100%|██████████████████████████████████████| 2304/2304 [00:10<00:00, 222.86it/s]\n",
      "100%|█████████████████████████████████████████████| 1/1 [00:00<00:00, 36.33it/s]\n"
     ]
    },
    {
     "name": "stdout",
     "output_type": "stream",
     "text": [
      "initial_signal:  [-0.05887039+0.21494168j  0.0757944 -0.14208089j  0.2853137 -0.02935703j\n",
      " ...  0.09442383-0.20044248j  0.1301524 -0.06840295j\n",
      "  0.07358789+0.24392156j]\n",
      "initial_signal.shape:  (49152,)\n",
      "filt_signal[0]:  (-206.92447-512.24866j)\n",
      "filt_signal.shape:  (49152,)\n",
      "cal_power(initial_signal, FS, FC_TX, PIM_SFT, PIM_BW):  -34.165338979958435\n",
      "************************\n",
      "initial_power:  -34.165338979958435\n",
      "filt_power:  38.731694215259424\n",
      "red_level:  nan\n"
     ]
    },
    {
     "name": "stderr",
     "output_type": "stream",
     "text": [
      "100%|█████████████████████████████████████████████| 1/1 [00:00<00:00, 37.69it/s]\n"
     ]
    },
    {
     "name": "stdout",
     "output_type": "stream",
     "text": [
      "initial_signal:  [-0.21374351+0.39098257j -0.677131  +0.04672493j -0.33047885-0.00987184j\n",
      " ... -0.31156585-0.26630908j -0.3083228 -0.26970983j\n",
      " -0.30309963-0.2689823j ]\n",
      "initial_signal.shape:  (49152,)\n",
      "filt_signal[0]:  (-127.30487-61.18387j)\n",
      "filt_signal.shape:  (49152,)\n",
      "cal_power(initial_signal, FS, FC_TX, PIM_SFT, PIM_BW):  -34.81635680333564\n",
      "************************\n",
      "initial_power:  -34.81635680333564\n",
      "filt_power:  38.52845077065125\n",
      "red_level:  nan\n",
      "{'EPOCH': 2, 'N_EPOCH': 3, 'TIME:': '0.52557578', 'LR': '0.00100000', 'BATCH_SIZE': 64, 'N_PARAM': 486, 'FRAME_LENGTH': 50, 'BACKBONE': 'dgru', 'HIDDEN_SIZE': 8, 'TRAIN_LOSS': '29219.61477788', 'VAL_LOSS': '34235.84375000', 'VAL_NMSE': 7.4924874e-06, 'VAL_REDUCTION_LEVEL': 'nan', 'TEST_LOSS': '28440.79492188', 'TEST_NMSE': 8.938604e-05, 'TEST_REDUCTION_LEVEL': 'nan'}\n"
     ]
    },
    {
     "name": "stderr",
     "output_type": "stream",
     "text": [
      "100%|█████████████████████████████████████████████| 1/1 [00:00<00:00, 37.46it/s]\n"
     ]
    },
    {
     "data": {
      "image/png": "[encoded data removed]",
      "text/plain": [
       "<Figure size 640x480 with 1 Axes>"
      ]
     },
     "metadata": {},
     "output_type": "display_data"
    },
    {
     "name": "stdout",
     "output_type": "stream",
     "text": [
      "Training Completed...\n",
      " \n"
     ]
    }
   ],
   "source": [
    "run ../main.py --dataset_path ../../../Data/FOR_COOPERATION/Prepared/1TR_C20Nc1CD_E20Ne1CD_20250117_5m --dataset_name CH0 --step train_pa --accelerator cpu"
   ]
  },
  {
   "cell_type": "code",
   "execution_count": 1,
   "id": "3d6ad1c7-d744-40e2-9253-c77fbb24ee33",
   "metadata": {},
   "outputs": [
    {
     "name": "stdout",
     "output_type": "stream",
     "text": [
      "::: Are Deterministic Algorithms Enabled:  False\n",
      "--------------------------------------------------------------------\n",
      "####################################################################################################\n",
      "# Step: Train DPD                                                                                  #\n",
      "####################################################################################################\n",
      "::: Available GPUs: None\n",
      "--------------------------------------------------------------------\n",
      "X_test:  [[ -2422.92696949   9861.31276583]\n",
      " [  -100.9552904    -835.90980447]\n",
      " [  2035.25865437 -11694.66083941]\n",
      " ...\n",
      " [   908.59761356   -706.68703277]\n",
      " [ -1744.50741803   -165.56667625]\n",
      " [ -2588.49364574    246.33090856]]\n",
      "y_test:  [[-127.30486964  -61.18386776]\n",
      " [  81.54603768 -104.70670717]\n",
      " [  86.74186859  101.61243735]\n",
      " ...\n",
      " [  15.97053422   14.76675773]\n",
      " [   3.69222599   17.02817344]\n",
      " [ -22.48630675   17.57653004]]\n",
      "________________________\n",
      "%%%%%%%%%%%%%%%%%%%%%%%%%%%%%%%%%%%%%%%%%%%%%%%%%%%%%%%%%%%%%%%%%%%%%%%%%%%%%%%%%%%%%%%%%%%%%%%%%%%%%%%%%%%%%%%%%%%%%%%%%%%%%%%%%%%%%%%%%%%%%%%%%%%%%%%%%%%%%%%%%%%%%%%%%%%%%%%%%%%%%%%%%%%%%%%%%%%%%%%%%%%%%%%%%%%%%%%%%%%%%%%%%%%%%%%%%%%%%%%%%%%%%%%%%%%%%%%%%%%%%%%%%%%%%%%%%%%%%%%%%%%%%%%%%%%%%%%%%%%%%%%%%%%%%%%%%%%%%%%%%%%%%%%%%%%%%%%%%%%%%%%%%%%%%%%%\n",
      "self.target_gain:  0.021827212133543827\n",
      "here\n",
      "len(sequence):  49152\n",
      "self.nperseg:  1536\n",
      "here\n",
      "len(sequence):  49152\n",
      "self.nperseg:  1536\n",
      "here\n",
      "len(sequence):  49152\n",
      "self.nperseg:  1536\n",
      "here\n",
      "len(sequence):  49152\n",
      "self.nperseg:  1536\n",
      "Backbone Initialized...\n",
      "::: Number of PA Model Parameters:  486\n",
      "Backbone Initialized...\n",
      "::: DPD Model:  CoreModel(\n",
      "  (backbone): DGRU(\n",
      "    (bn): InstanceNorm2d(64, eps=1e-05, momentum=0.1, affine=False, track_running_stats=False)\n",
      "    (rnn): GRU(6, 8, num_layers=2, batch_first=True)\n",
      "    (fc_out): Linear(in_features=14, out_features=2, bias=True)\n",
      "    (fc_hid): Linear(in_features=8, out_features=8, bias=True)\n",
      "  )\n",
      ")\n",
      "::: Number of DPD Model Parameters:  918\n",
      "::: Best Model Save Path:  ./save/CH0/train_dpd/DPD_S_0_M_DGRU_H_8_F_50_P_918.pt\n",
      "::: Log-History     Path:  ./log/CH0/train_dpd/history/DPD_S_0_M_DGRU_H_8_F_50_P_918.csv\n",
      "::: Log-Best        Path:  ./log/CH0/train_dpd/best/DPD_S_0_M_DGRU_H_8_F_50_P_918.csv\n"
     ]
    },
    {
     "name": "stderr",
     "output_type": "stream",
     "text": [
      "/Users/svetlanakuzakina/Documents/Python Scripts/Сколтех/PIM/CNNs/OpenPIM/steps/train_dpd.py:39: FutureWarning: You are using `torch.load` with `weights_only=False` (the current default value), which uses the default pickle module implicitly. It is possible to construct malicious pickle data which will execute arbitrary code during unpickling (See https://github.com/pytorch/pytorch/blob/main/SECURITY.md#untrusted-models for more details). In a future release, the default value for `weights_only` will be flipped to `True`. This limits the functions that could be executed during unpickling. Arbitrary objects will no longer be allowed to be loaded via this mode unless they are explicitly allowlisted by the user via `torch.serialization.add_safe_globals`. We recommend you start setting `weights_only=True` for any use case where you don't have full control of the loaded file. Please open an issue on GitHub for any issues related to this experimental feature.\n",
      "  net_pa.load_state_dict(torch.load(path_pa_model))\n",
      "/opt/anaconda3/lib/python3.12/site-packages/torch/optim/lr_scheduler.py:60: UserWarning: The verbose parameter is deprecated. Please use get_last_lr() to access the learning rate.\n",
      "  warnings.warn(\n"
     ]
    },
    {
     "name": "stdout",
     "output_type": "stream",
     "text": [
      "Starting training...\n"
     ]
    },
    {
     "name": "stderr",
     "output_type": "stream",
     "text": [
      "100%|██████████████████████████████████████▉| 2297/2304 [00:37<00:00, 62.15it/s]/opt/anaconda3/lib/python3.12/site-packages/torch/nn/modules/instancenorm.py:88: UserWarning: input's size at dim=0 does not match num_features. You can silence this warning by not passing in num_features, which is not used because affine=False\n",
      "  warnings.warn(f\"input's size at dim={feature_dim} does not match num_features. \"\n",
      "100%|███████████████████████████████████████| 2304/2304 [00:37<00:00, 61.65it/s]\n",
      "100%|█████████████████████████████████████████████| 1/1 [00:00<00:00, 10.53it/s]\n",
      "/Users/svetlanakuzakina/Documents/Python Scripts/Сколтех/PIM/CNNs/OpenPIM/pim_utils/pim_metrics.py:58: RuntimeWarning: invalid value encountered in log10\n",
      "  perf = 10*np.log10(10**((PIM_level)/10) - 1) - 10*np.log10(10**((RES_level)/10) - 1)\n"
     ]
    },
    {
     "name": "stdout",
     "output_type": "stream",
     "text": [
      "initial_signal:  [-0.11472061+0.09111245j -0.04954453+0.06810757j -0.00914642+0.05519544j\n",
      " ... -0.0304632 +0.09011657j -0.01976034+0.07998059j\n",
      " -0.02575192+0.08353693j]\n",
      "initial_signal.shape:  (49152,)\n",
      "filt_signal[0]:  (305.76773+346.57788j)\n",
      "filt_signal.shape:  (49152,)\n",
      "cal_power(initial_signal, FS, FC_TX, PIM_SFT, PIM_BW):  -58.61983785786392\n",
      "************************\n",
      "initial_power:  -58.61983785786392\n",
      "filt_power:  -46.817128888878244\n",
      "red_level:  nan\n"
     ]
    },
    {
     "name": "stderr",
     "output_type": "stream",
     "text": [
      "100%|█████████████████████████████████████████████| 1/1 [00:00<00:00, 10.90it/s]\n"
     ]
    },
    {
     "name": "stdout",
     "output_type": "stream",
     "text": [
      "initial_signal:  [-0.13134402+0.10156351j -0.10627354+0.1350755j  -0.0738162 +0.13793428j\n",
      " ... -0.08129027+0.12816305j -0.08190005+0.12840112j\n",
      " -0.0824132 +0.1286045j ]\n",
      "initial_signal.shape:  (49152,)\n",
      "filt_signal[0]:  (-52.885742+215.24496j)\n",
      "filt_signal.shape:  (49152,)\n",
      "cal_power(initial_signal, FS, FC_TX, PIM_SFT, PIM_BW):  -58.514341463320214\n",
      "************************\n",
      "initial_power:  -58.514341463320214\n",
      "filt_power:  -46.81268708245543\n",
      "red_level:  nan\n",
      "{'EPOCH': 0, 'N_EPOCH': 3, 'TIME:': '0.62706833', 'LR': '0.00100000', 'BATCH_SIZE': 64, 'N_PARAM': 1404, 'FRAME_LENGTH': 50, 'BACKBONE': 'dgru', 'HIDDEN_SIZE': 8, 'TRAIN_LOSS': '174332.11524116', 'VAL_LOSS': '180445.06250000', 'VAL_NMSE': 1.3670933e-06, 'VAL_REDUCTION_LEVEL': 'nan', 'TEST_LOSS': '170731.28125000', 'TEST_NMSE': 1.6906632e-06, 'TEST_REDUCTION_LEVEL': 'nan'}\n",
      ">>> saving best model (nan -> nan Reduction_level) from epoch 0 to ./save/CH0/train_dpd/DPD_S_0_M_DGRU_H_8_F_50_P_918.pt\n"
     ]
    },
    {
     "name": "stderr",
     "output_type": "stream",
     "text": [
      "100%|██████████████████████████████████████▉| 2298/2304 [00:37<00:00, 61.25it/s]/opt/anaconda3/lib/python3.12/site-packages/torch/nn/modules/instancenorm.py:88: UserWarning: input's size at dim=0 does not match num_features. You can silence this warning by not passing in num_features, which is not used because affine=False\n",
      "  warnings.warn(f\"input's size at dim={feature_dim} does not match num_features. \"\n",
      "100%|███████████████████████████████████████| 2304/2304 [00:37<00:00, 61.29it/s]\n",
      "100%|█████████████████████████████████████████████| 1/1 [00:00<00:00, 10.60it/s]\n",
      "/Users/svetlanakuzakina/Documents/Python Scripts/Сколтех/PIM/CNNs/OpenPIM/pim_utils/pim_metrics.py:58: RuntimeWarning: invalid value encountered in log10\n",
      "  perf = 10*np.log10(10**((PIM_level)/10) - 1) - 10*np.log10(10**((RES_level)/10) - 1)\n"
     ]
    },
    {
     "name": "stdout",
     "output_type": "stream",
     "text": [
      "initial_signal:  [-0.1195213 +0.09399768j -0.06213568+0.08168506j -0.02306083+0.06325681j\n",
      " ... -0.02847013+0.08600415j -0.02201596+0.07871089j\n",
      " -0.02637528+0.08121606j]\n",
      "initial_signal.shape:  (49152,)\n",
      "filt_signal[0]:  (305.76773+346.57788j)\n",
      "filt_signal.shape:  (49152,)\n",
      "cal_power(initial_signal, FS, FC_TX, PIM_SFT, PIM_BW):  -58.75498099270162\n",
      "************************\n",
      "initial_power:  -58.75498099270162\n",
      "filt_power:  -46.817128888878244\n",
      "red_level:  nan\n"
     ]
    },
    {
     "name": "stderr",
     "output_type": "stream",
     "text": [
      "100%|█████████████████████████████████████████████| 1/1 [00:00<00:00, 10.89it/s]\n"
     ]
    },
    {
     "name": "stdout",
     "output_type": "stream",
     "text": [
      "initial_signal:  [-0.13003016+0.10039299j -0.10080396+0.1272457j  -0.07148043+0.13044979j\n",
      " ... -0.04952343+0.11715313j -0.04972878+0.11723328j\n",
      " -0.0498793 +0.11729018j]\n",
      "initial_signal.shape:  (49152,)\n",
      "filt_signal[0]:  (-52.885742+215.24496j)\n",
      "filt_signal.shape:  (49152,)\n",
      "cal_power(initial_signal, FS, FC_TX, PIM_SFT, PIM_BW):  -58.38946279826422\n",
      "************************\n",
      "initial_power:  -58.38946279826422\n",
      "filt_power:  -46.81268708245543\n",
      "red_level:  nan\n",
      "{'EPOCH': 1, 'N_EPOCH': 3, 'TIME:': '1.25861575', 'LR': '0.00100000', 'BATCH_SIZE': 64, 'N_PARAM': 1404, 'FRAME_LENGTH': 50, 'BACKBONE': 'dgru', 'HIDDEN_SIZE': 8, 'TRAIN_LOSS': '174327.03342014', 'VAL_LOSS': '180445.07812500', 'VAL_NMSE': 1.3751823e-06, 'VAL_REDUCTION_LEVEL': 'nan', 'TEST_LOSS': '170731.29687500', 'TEST_NMSE': 2.0546845e-06, 'TEST_REDUCTION_LEVEL': 'nan'}\n"
     ]
    },
    {
     "name": "stderr",
     "output_type": "stream",
     "text": [
      "100%|███████████████████████████████████████| 2304/2304 [00:37<00:00, 61.17it/s]\n",
      "100%|█████████████████████████████████████████████| 1/1 [00:00<00:00, 11.06it/s]\n"
     ]
    },
    {
     "name": "stdout",
     "output_type": "stream",
     "text": [
      "initial_signal:  [-0.13371064+0.1039093j  -0.08395079+0.09845062j -0.04661249+0.07279973j\n",
      " ... -0.04940838+0.09699643j -0.04578727+0.09069452j\n",
      " -0.04737201+0.09392982j]\n",
      "initial_signal.shape:  (49152,)\n",
      "filt_signal[0]:  (305.76773+346.57788j)\n",
      "filt_signal.shape:  (49152,)\n",
      "cal_power(initial_signal, FS, FC_TX, PIM_SFT, PIM_BW):  -59.04393348506636\n",
      "************************\n",
      "initial_power:  -59.04393348506636\n",
      "filt_power:  -46.817128888878244\n",
      "red_level:  nan\n"
     ]
    },
    {
     "name": "stderr",
     "output_type": "stream",
     "text": [
      "100%|█████████████████████████████████████████████| 1/1 [00:00<00:00, 10.97it/s]\n"
     ]
    },
    {
     "name": "stdout",
     "output_type": "stream",
     "text": [
      "initial_signal:  [-0.14252679+0.10888971j -0.1134779 +0.1341296j  -0.08645371+0.1334889j\n",
      " ... -0.05077229+0.11295703j -0.05079667+0.11290185j\n",
      " -0.05081093+0.1128441j ]\n",
      "initial_signal.shape:  (49152,)\n",
      "filt_signal[0]:  (-52.885742+215.24496j)\n",
      "filt_signal.shape:  (49152,)\n",
      "cal_power(initial_signal, FS, FC_TX, PIM_SFT, PIM_BW):  -58.18389589240127\n",
      "************************\n",
      "initial_power:  -58.18389589240127\n",
      "filt_power:  -46.81268708245543\n",
      "red_level:  nan\n",
      "{'EPOCH': 2, 'N_EPOCH': 3, 'TIME:': '1.89009532', 'LR': '0.00100000', 'BATCH_SIZE': 64, 'N_PARAM': 1404, 'FRAME_LENGTH': 50, 'BACKBONE': 'dgru', 'HIDDEN_SIZE': 8, 'TRAIN_LOSS': '174329.61672635', 'VAL_LOSS': '180445.07812500', 'VAL_NMSE': 1.9171714e-06, 'VAL_REDUCTION_LEVEL': 'nan', 'TEST_LOSS': '170731.28125000', 'TEST_NMSE': 1.9576128e-06, 'TEST_REDUCTION_LEVEL': 'nan'}\n"
     ]
    },
    {
     "name": "stderr",
     "output_type": "stream",
     "text": [
      "100%|█████████████████████████████████████████████| 1/1 [00:00<00:00, 16.86it/s]\n"
     ]
    },
    {
     "data": {
      "image/png": "[encoded data removed]",
      "text/plain": [
       "<Figure size 640x480 with 1 Axes>"
      ]
     },
     "metadata": {},
     "output_type": "display_data"
    },
    {
     "name": "stdout",
     "output_type": "stream",
     "text": [
      "Training Completed...\n",
      " \n"
     ]
    }
   ],
   "source": [
    "run ../main.py --dataset_path ../../../Data/FOR_COOPERATION/Prepared/1TR_C20Nc1CD_E20Ne1CD_20250117_5m --dataset_name CH0 --step train_dpd --accelerator cpu"
   ]
  },
  {
   "cell_type": "code",
   "execution_count": 3,
   "id": "2f3f3967-a753-4eb5-a2bb-729c39013845",
   "metadata": {},
   "outputs": [
    {
     "name": "stderr",
     "output_type": "stream",
     "text": [
      "/opt/anaconda3/lib/python3.12/site-packages/torch/nn/modules/instancenorm.py:88: UserWarning: input's size at dim=0 does not match num_features. You can silence this warning by not passing in num_features, which is not used because affine=False\n",
      "  warnings.warn(f\"input's size at dim={feature_dim} does not match num_features. \"\n"
     ]
    },
    {
     "name": "stdout",
     "output_type": "stream",
     "text": [
      "::: Are Deterministic Algorithms Enabled:  False\n",
      "--------------------------------------------------------------------\n",
      "####################################################################################################\n",
      "# Step: Run DPD                                                                                    #\n",
      "####################################################################################################\n",
      "::: Available GPUs: None\n",
      "--------------------------------------------------------------------\n",
      "Backbone Initialized...\n",
      "::: Number of DPD Model Parameters:  918\n",
      "::: Number of Network Parameters:  918\n",
      "DPD outputs saved to the ./dpd_out folder.\n"
     ]
    }
   ],
   "source": [
    "run ../main.py --dataset_path ../../../Data/FOR_COOPERATION/Prepared/1TR_C20Nc1CD_E20Ne1CD_20250117_5m --dataset_name CH0 --step run_dpd --accelerator cpu"
   ]
  },
  {
   "cell_type": "code",
   "execution_count": null,
   "id": "d887068f-e92f-466d-bea4-3208556fede6",
   "metadata": {},
   "outputs": [],
   "source": []
  },
  {
   "cell_type": "code",
   "execution_count": 3,
   "id": "4f20a5ec-9b92-4ce9-a2a1-3c5868d72a3e",
   "metadata": {},
   "outputs": [
    {
     "data": {
      "text/plain": [
       "array([0. , 2.5])"
      ]
     },
     "execution_count": 3,
     "metadata": {},
     "output_type": "execute_result"
    }
   ],
   "source": [
    "import numpy as np\n",
    "np.mean([[-1, 1], [2, 3]], axis=-1)"
   ]
  },
  {
   "cell_type": "code",
   "execution_count": null,
   "id": "70a56058-cd54-4e81-ae31-663345e63286",
   "metadata": {},
   "outputs": [],
   "source": []
  },
  {
   "cell_type": "code",
   "execution_count": null,
   "id": "7ce3a7fb-2e8c-4a35-99f1-dab75c1fd6f3",
   "metadata": {},
   "outputs": [],
   "source": []
  },
  {
   "cell_type": "code",
   "execution_count": 1,
   "id": "a904d03e-b246-4216-853e-f7e21516c524",
   "metadata": {},
   "outputs": [
    {
     "name": "stdout",
     "output_type": "stream",
     "text": [
      "::: Are Deterministic Algorithms Enabled:  False\n",
      "--------------------------------------------------------------------\n",
      "####################################################################################################\n",
      "# Step: Train PA                                                                                   #\n",
      "####################################################################################################\n",
      "::: Available GPUs: None\n",
      "--------------------------------------------------------------------\n",
      "here\n",
      "len(sequence):  7680\n",
      "self.nperseg:  2560\n",
      "here\n",
      "len(sequence):  7680\n",
      "self.nperseg:  2560\n",
      "here\n",
      "len(sequence):  7680\n",
      "self.nperseg:  2560\n",
      "here\n",
      "len(sequence):  7680\n",
      "self.nperseg:  2560\n",
      "Backbone Initialized...\n",
      "::: Number of PA Model Parameters:  486\n",
      "::: Best Model Save Path:  ./save/DPA_200MHz/train_pa/PA_S_0_M_DGRU_H_8_F_50_P_486.pt\n",
      "::: Log-History     Path:  ./log/DPA_200MHz/train_pa/history/PA_S_0_M_DGRU_H_8_F_50_P_486.csv\n",
      "::: Log-Best        Path:  ./log/DPA_200MHz/train_pa/best/PA_S_0_M_DGRU_H_8_F_50_P_486.csv\n"
     ]
    },
    {
     "name": "stderr",
     "output_type": "stream",
     "text": [
      "/opt/anaconda3/lib/python3.12/site-packages/torch/optim/lr_scheduler.py:60: UserWarning: The verbose parameter is deprecated. Please use get_last_lr() to access the learning rate.\n",
      "  warnings.warn(\n"
     ]
    },
    {
     "name": "stdout",
     "output_type": "stream",
     "text": [
      "Starting training...\n"
     ]
    },
    {
     "name": "stderr",
     "output_type": "stream",
     "text": [
      "100%|████████████████████████████████████████| 360/360 [00:01<00:00, 225.38it/s]\n",
      "100%|█████████████████████████████████████████████| 1/1 [00:00<00:00, 38.89it/s]\n",
      "100%|█████████████████████████████████████████████| 1/1 [00:00<00:00, 39.67it/s]\n"
     ]
    },
    {
     "name": "stdout",
     "output_type": "stream",
     "text": [
      "{'EPOCH': 0, 'N_EPOCH': 3, 'TIME:': '0.03417679', 'LR': '0.00100000', 'BATCH_SIZE': 64, 'N_PARAM': 486, 'FRAME_LENGTH': 50, 'BACKBONE': 'dgru', 'HIDDEN_SIZE': 8, 'TRAIN_LOSS': '0.16320597', 'VAL_LOSS': '0.05377724', 'VAL_NMSE': -10.563895, 'VAL_EVM': '-12.18334678', 'VAL_ACLR_L': '-15.17472077', 'VAL_ACLR_R': '-14.92879559', 'VAL_ACLR_AVG': '-15.05175818', 'TEST_LOSS': '0.06271068', 'TEST_NMSE': -10.360659, 'TEST_EVM': '-11.70128085', 'TEST_ACLR_L': '-16.03618914', 'TEST_ACLR_R': '-15.05366621', 'TEST_ACLR_AVG': '-15.54492768'}\n",
      ">>> saving best model (-10.563895 -> -10.563895 NMSE) from epoch 0 to ./save/DPA_200MHz/train_pa/PA_S_0_M_DGRU_H_8_F_50_P_486.pt\n"
     ]
    },
    {
     "name": "stderr",
     "output_type": "stream",
     "text": [
      " 40%|███████████████▉                        | 143/360 [00:00<00:01, 216.28it/s]\n"
     ]
    },
    {
     "ename": "KeyboardInterrupt",
     "evalue": "",
     "output_type": "error",
     "traceback": [
      "\u001b[0;31m---------------------------------------------------------------------------\u001b[0m",
      "\u001b[0;31mKeyboardInterrupt\u001b[0m                         Traceback (most recent call last)",
      "File \u001b[0;32m~/Documents/Python Scripts/Сколтех/PIM/CNNs/OpenPIM/main.py:20\u001b[0m\n\u001b[1;32m     18\u001b[0m     \u001b[38;5;28mprint\u001b[39m(\u001b[38;5;124m\"\u001b[39m\u001b[38;5;124m# Step: Train PA                                                                                   #\u001b[39m\u001b[38;5;124m\"\u001b[39m)\n\u001b[1;32m     19\u001b[0m     \u001b[38;5;28mprint\u001b[39m(\u001b[38;5;124m\"\u001b[39m\u001b[38;5;124m####################################################################################################\u001b[39m\u001b[38;5;124m\"\u001b[39m)\n\u001b[0;32m---> 20\u001b[0m     train_pa\u001b[38;5;241m.\u001b[39mmain(proj)\n\u001b[1;32m     22\u001b[0m \u001b[38;5;66;03m# DPD Learning\u001b[39;00m\n\u001b[1;32m     23\u001b[0m \u001b[38;5;28;01melif\u001b[39;00m proj\u001b[38;5;241m.\u001b[39mstep \u001b[38;5;241m==\u001b[39m \u001b[38;5;124m'\u001b[39m\u001b[38;5;124mtrain_dpd\u001b[39m\u001b[38;5;124m'\u001b[39m:\n",
      "File \u001b[0;32m~/Documents/Python Scripts/Сколтех/PIM/CNNs/OpenPIM/steps/train_pa.py:50\u001b[0m, in \u001b[0;36mmain\u001b[0;34m(proj)\u001b[0m\n\u001b[1;32m     45\u001b[0m optimizer, lr_scheduler \u001b[38;5;241m=\u001b[39m proj\u001b[38;5;241m.\u001b[39mbuild_optimizer(net\u001b[38;5;241m=\u001b[39mnet)\n\u001b[1;32m     47\u001b[0m \u001b[38;5;66;03m###########################################################################################################\u001b[39;00m\n\u001b[1;32m     48\u001b[0m \u001b[38;5;66;03m# Training\u001b[39;00m\n\u001b[1;32m     49\u001b[0m \u001b[38;5;66;03m###########################################################################################################\u001b[39;00m\n\u001b[0;32m---> 50\u001b[0m proj\u001b[38;5;241m.\u001b[39mtrain(net\u001b[38;5;241m=\u001b[39mnet,\n\u001b[1;32m     51\u001b[0m            criterion\u001b[38;5;241m=\u001b[39mcriterion,\n\u001b[1;32m     52\u001b[0m            optimizer\u001b[38;5;241m=\u001b[39moptimizer,\n\u001b[1;32m     53\u001b[0m            lr_scheduler\u001b[38;5;241m=\u001b[39mlr_scheduler,\n\u001b[1;32m     54\u001b[0m            train_loader\u001b[38;5;241m=\u001b[39mtrain_loader,\n\u001b[1;32m     55\u001b[0m            val_loader\u001b[38;5;241m=\u001b[39mval_loader,\n\u001b[1;32m     56\u001b[0m            test_loader\u001b[38;5;241m=\u001b[39mtest_loader,\n\u001b[1;32m     57\u001b[0m            best_model_metric\u001b[38;5;241m=\u001b[39m\u001b[38;5;124m'\u001b[39m\u001b[38;5;124mNMSE\u001b[39m\u001b[38;5;124m'\u001b[39m)\n",
      "File \u001b[0;32m~/Documents/Python Scripts/Сколтех/PIM/CNNs/OpenPIM/project.py:273\u001b[0m, in \u001b[0;36mProject.train\u001b[0;34m(self, net, criterion, optimizer, lr_scheduler, train_loader, val_loader, test_loader, best_model_metric)\u001b[0m\n\u001b[1;32m    268\u001b[0m \u001b[38;5;28mprint\u001b[39m(\u001b[38;5;124m\"\u001b[39m\u001b[38;5;124mStarting training...\u001b[39m\u001b[38;5;124m\"\u001b[39m)\n\u001b[1;32m    269\u001b[0m \u001b[38;5;28;01mfor\u001b[39;00m epoch \u001b[38;5;129;01min\u001b[39;00m \u001b[38;5;28mrange\u001b[39m(\u001b[38;5;28mself\u001b[39m\u001b[38;5;241m.\u001b[39mn_epochs):\n\u001b[1;32m    270\u001b[0m     \u001b[38;5;66;03m# -----------\u001b[39;00m\n\u001b[1;32m    271\u001b[0m     \u001b[38;5;66;03m# Train\u001b[39;00m\n\u001b[1;32m    272\u001b[0m     \u001b[38;5;66;03m# -----------\u001b[39;00m\n\u001b[0;32m--> 273\u001b[0m     net \u001b[38;5;241m=\u001b[39m net_train(log\u001b[38;5;241m=\u001b[39m\u001b[38;5;28mself\u001b[39m\u001b[38;5;241m.\u001b[39mlog_train,\n\u001b[1;32m    274\u001b[0m                     net\u001b[38;5;241m=\u001b[39mnet,\n\u001b[1;32m    275\u001b[0m                     optimizer\u001b[38;5;241m=\u001b[39moptimizer,\n\u001b[1;32m    276\u001b[0m                     criterion\u001b[38;5;241m=\u001b[39mcriterion,\n\u001b[1;32m    277\u001b[0m                     dataloader\u001b[38;5;241m=\u001b[39mtrain_loader,\n\u001b[1;32m    278\u001b[0m                     grad_clip_val\u001b[38;5;241m=\u001b[39m\u001b[38;5;28mself\u001b[39m\u001b[38;5;241m.\u001b[39mgrad_clip_val,\n\u001b[1;32m    279\u001b[0m                     device\u001b[38;5;241m=\u001b[39m\u001b[38;5;28mself\u001b[39m\u001b[38;5;241m.\u001b[39mdevice)\n\u001b[1;32m    281\u001b[0m     \u001b[38;5;66;03m# -----------\u001b[39;00m\n\u001b[1;32m    282\u001b[0m     \u001b[38;5;66;03m# Validation\u001b[39;00m\n\u001b[1;32m    283\u001b[0m     \u001b[38;5;66;03m# -----------\u001b[39;00m\n\u001b[1;32m    284\u001b[0m     \u001b[38;5;28;01mif\u001b[39;00m \u001b[38;5;28mself\u001b[39m\u001b[38;5;241m.\u001b[39meval_val:\n",
      "File \u001b[0;32m~/Documents/Python Scripts/Сколтех/PIM/CNNs/OpenPIM/modules/train_funcs.py:35\u001b[0m, in \u001b[0;36mnet_train\u001b[0;34m(log, net, dataloader, optimizer, criterion, grad_clip_val, device)\u001b[0m\n\u001b[1;32m     33\u001b[0m optimizer\u001b[38;5;241m.\u001b[39mzero_grad()\n\u001b[1;32m     34\u001b[0m \u001b[38;5;66;03m# Forward Propagation\u001b[39;00m\n\u001b[0;32m---> 35\u001b[0m out \u001b[38;5;241m=\u001b[39m net(features)\n\u001b[1;32m     36\u001b[0m \u001b[38;5;66;03m# Calculate the Loss Function\u001b[39;00m\n\u001b[1;32m     37\u001b[0m loss \u001b[38;5;241m=\u001b[39m criterion(out, targets)\n",
      "File \u001b[0;32m/opt/anaconda3/lib/python3.12/site-packages/torch/nn/modules/module.py:1553\u001b[0m, in \u001b[0;36mModule._wrapped_call_impl\u001b[0;34m(self, *args, **kwargs)\u001b[0m\n\u001b[1;32m   1551\u001b[0m     \u001b[38;5;28;01mreturn\u001b[39;00m \u001b[38;5;28mself\u001b[39m\u001b[38;5;241m.\u001b[39m_compiled_call_impl(\u001b[38;5;241m*\u001b[39margs, \u001b[38;5;241m*\u001b[39m\u001b[38;5;241m*\u001b[39mkwargs)  \u001b[38;5;66;03m# type: ignore[misc]\u001b[39;00m\n\u001b[1;32m   1552\u001b[0m \u001b[38;5;28;01melse\u001b[39;00m:\n\u001b[0;32m-> 1553\u001b[0m     \u001b[38;5;28;01mreturn\u001b[39;00m \u001b[38;5;28mself\u001b[39m\u001b[38;5;241m.\u001b[39m_call_impl(\u001b[38;5;241m*\u001b[39margs, \u001b[38;5;241m*\u001b[39m\u001b[38;5;241m*\u001b[39mkwargs)\n",
      "File \u001b[0;32m/opt/anaconda3/lib/python3.12/site-packages/torch/nn/modules/module.py:1562\u001b[0m, in \u001b[0;36mModule._call_impl\u001b[0;34m(self, *args, **kwargs)\u001b[0m\n\u001b[1;32m   1557\u001b[0m \u001b[38;5;66;03m# If we don't have any hooks, we want to skip the rest of the logic in\u001b[39;00m\n\u001b[1;32m   1558\u001b[0m \u001b[38;5;66;03m# this function, and just call forward.\u001b[39;00m\n\u001b[1;32m   1559\u001b[0m \u001b[38;5;28;01mif\u001b[39;00m \u001b[38;5;129;01mnot\u001b[39;00m (\u001b[38;5;28mself\u001b[39m\u001b[38;5;241m.\u001b[39m_backward_hooks \u001b[38;5;129;01mor\u001b[39;00m \u001b[38;5;28mself\u001b[39m\u001b[38;5;241m.\u001b[39m_backward_pre_hooks \u001b[38;5;129;01mor\u001b[39;00m \u001b[38;5;28mself\u001b[39m\u001b[38;5;241m.\u001b[39m_forward_hooks \u001b[38;5;129;01mor\u001b[39;00m \u001b[38;5;28mself\u001b[39m\u001b[38;5;241m.\u001b[39m_forward_pre_hooks\n\u001b[1;32m   1560\u001b[0m         \u001b[38;5;129;01mor\u001b[39;00m _global_backward_pre_hooks \u001b[38;5;129;01mor\u001b[39;00m _global_backward_hooks\n\u001b[1;32m   1561\u001b[0m         \u001b[38;5;129;01mor\u001b[39;00m _global_forward_hooks \u001b[38;5;129;01mor\u001b[39;00m _global_forward_pre_hooks):\n\u001b[0;32m-> 1562\u001b[0m     \u001b[38;5;28;01mreturn\u001b[39;00m forward_call(\u001b[38;5;241m*\u001b[39margs, \u001b[38;5;241m*\u001b[39m\u001b[38;5;241m*\u001b[39mkwargs)\n\u001b[1;32m   1564\u001b[0m \u001b[38;5;28;01mtry\u001b[39;00m:\n\u001b[1;32m   1565\u001b[0m     result \u001b[38;5;241m=\u001b[39m \u001b[38;5;28;01mNone\u001b[39;00m\n",
      "File \u001b[0;32m~/Documents/Python Scripts/Сколтех/PIM/CNNs/OpenPIM/models.py:97\u001b[0m, in \u001b[0;36mCoreModel.forward\u001b[0;34m(self, x, h_0)\u001b[0m\n\u001b[1;32m     94\u001b[0m     h_0 \u001b[38;5;241m=\u001b[39m torch\u001b[38;5;241m.\u001b[39mzeros(\u001b[38;5;28mself\u001b[39m\u001b[38;5;241m.\u001b[39mnum_layers, batch_size, \u001b[38;5;28mself\u001b[39m\u001b[38;5;241m.\u001b[39mhidden_size)\u001b[38;5;241m.\u001b[39mto(device)\n\u001b[1;32m     96\u001b[0m \u001b[38;5;66;03m# Forward Propagate through the RNN\u001b[39;00m\n\u001b[0;32m---> 97\u001b[0m out \u001b[38;5;241m=\u001b[39m \u001b[38;5;28mself\u001b[39m\u001b[38;5;241m.\u001b[39mbackbone(x, h_0)\n\u001b[1;32m     99\u001b[0m \u001b[38;5;28;01mreturn\u001b[39;00m out\n",
      "File \u001b[0;32m/opt/anaconda3/lib/python3.12/site-packages/torch/nn/modules/module.py:1553\u001b[0m, in \u001b[0;36mModule._wrapped_call_impl\u001b[0;34m(self, *args, **kwargs)\u001b[0m\n\u001b[1;32m   1551\u001b[0m     \u001b[38;5;28;01mreturn\u001b[39;00m \u001b[38;5;28mself\u001b[39m\u001b[38;5;241m.\u001b[39m_compiled_call_impl(\u001b[38;5;241m*\u001b[39margs, \u001b[38;5;241m*\u001b[39m\u001b[38;5;241m*\u001b[39mkwargs)  \u001b[38;5;66;03m# type: ignore[misc]\u001b[39;00m\n\u001b[1;32m   1552\u001b[0m \u001b[38;5;28;01melse\u001b[39;00m:\n\u001b[0;32m-> 1553\u001b[0m     \u001b[38;5;28;01mreturn\u001b[39;00m \u001b[38;5;28mself\u001b[39m\u001b[38;5;241m.\u001b[39m_call_impl(\u001b[38;5;241m*\u001b[39margs, \u001b[38;5;241m*\u001b[39m\u001b[38;5;241m*\u001b[39mkwargs)\n",
      "File \u001b[0;32m/opt/anaconda3/lib/python3.12/site-packages/torch/nn/modules/module.py:1562\u001b[0m, in \u001b[0;36mModule._call_impl\u001b[0;34m(self, *args, **kwargs)\u001b[0m\n\u001b[1;32m   1557\u001b[0m \u001b[38;5;66;03m# If we don't have any hooks, we want to skip the rest of the logic in\u001b[39;00m\n\u001b[1;32m   1558\u001b[0m \u001b[38;5;66;03m# this function, and just call forward.\u001b[39;00m\n\u001b[1;32m   1559\u001b[0m \u001b[38;5;28;01mif\u001b[39;00m \u001b[38;5;129;01mnot\u001b[39;00m (\u001b[38;5;28mself\u001b[39m\u001b[38;5;241m.\u001b[39m_backward_hooks \u001b[38;5;129;01mor\u001b[39;00m \u001b[38;5;28mself\u001b[39m\u001b[38;5;241m.\u001b[39m_backward_pre_hooks \u001b[38;5;129;01mor\u001b[39;00m \u001b[38;5;28mself\u001b[39m\u001b[38;5;241m.\u001b[39m_forward_hooks \u001b[38;5;129;01mor\u001b[39;00m \u001b[38;5;28mself\u001b[39m\u001b[38;5;241m.\u001b[39m_forward_pre_hooks\n\u001b[1;32m   1560\u001b[0m         \u001b[38;5;129;01mor\u001b[39;00m _global_backward_pre_hooks \u001b[38;5;129;01mor\u001b[39;00m _global_backward_hooks\n\u001b[1;32m   1561\u001b[0m         \u001b[38;5;129;01mor\u001b[39;00m _global_forward_hooks \u001b[38;5;129;01mor\u001b[39;00m _global_forward_pre_hooks):\n\u001b[0;32m-> 1562\u001b[0m     \u001b[38;5;28;01mreturn\u001b[39;00m forward_call(\u001b[38;5;241m*\u001b[39margs, \u001b[38;5;241m*\u001b[39m\u001b[38;5;241m*\u001b[39mkwargs)\n\u001b[1;32m   1564\u001b[0m \u001b[38;5;28;01mtry\u001b[39;00m:\n\u001b[1;32m   1565\u001b[0m     result \u001b[38;5;241m=\u001b[39m \u001b[38;5;28;01mNone\u001b[39;00m\n",
      "File \u001b[0;32m~/Documents/Python Scripts/Сколтех/PIM/CNNs/OpenPIM/backbones/dgru.py:70\u001b[0m, in \u001b[0;36mDGRU.forward\u001b[0;34m(self, x, h_0)\u001b[0m\n\u001b[1;32m     68\u001b[0m x \u001b[38;5;241m=\u001b[39m torch\u001b[38;5;241m.\u001b[39mcat((i_x, q_x, amp, amp3, sin, cos), dim\u001b[38;5;241m=\u001b[39m\u001b[38;5;241m-\u001b[39m\u001b[38;5;241m1\u001b[39m)\n\u001b[1;32m     69\u001b[0m \u001b[38;5;66;03m# Regressor\u001b[39;00m\n\u001b[0;32m---> 70\u001b[0m out, _ \u001b[38;5;241m=\u001b[39m \u001b[38;5;28mself\u001b[39m\u001b[38;5;241m.\u001b[39mrnn(x, h_0)\n\u001b[1;32m     71\u001b[0m out \u001b[38;5;241m=\u001b[39m torch\u001b[38;5;241m.\u001b[39mrelu(\u001b[38;5;28mself\u001b[39m\u001b[38;5;241m.\u001b[39mfc_hid(out))\n\u001b[1;32m     72\u001b[0m out \u001b[38;5;241m=\u001b[39m torch\u001b[38;5;241m.\u001b[39mcat((out, x), dim\u001b[38;5;241m=\u001b[39m\u001b[38;5;241m-\u001b[39m\u001b[38;5;241m1\u001b[39m)\n",
      "File \u001b[0;32m/opt/anaconda3/lib/python3.12/site-packages/torch/nn/modules/module.py:1553\u001b[0m, in \u001b[0;36mModule._wrapped_call_impl\u001b[0;34m(self, *args, **kwargs)\u001b[0m\n\u001b[1;32m   1551\u001b[0m     \u001b[38;5;28;01mreturn\u001b[39;00m \u001b[38;5;28mself\u001b[39m\u001b[38;5;241m.\u001b[39m_compiled_call_impl(\u001b[38;5;241m*\u001b[39margs, \u001b[38;5;241m*\u001b[39m\u001b[38;5;241m*\u001b[39mkwargs)  \u001b[38;5;66;03m# type: ignore[misc]\u001b[39;00m\n\u001b[1;32m   1552\u001b[0m \u001b[38;5;28;01melse\u001b[39;00m:\n\u001b[0;32m-> 1553\u001b[0m     \u001b[38;5;28;01mreturn\u001b[39;00m \u001b[38;5;28mself\u001b[39m\u001b[38;5;241m.\u001b[39m_call_impl(\u001b[38;5;241m*\u001b[39margs, \u001b[38;5;241m*\u001b[39m\u001b[38;5;241m*\u001b[39mkwargs)\n",
      "File \u001b[0;32m/opt/anaconda3/lib/python3.12/site-packages/torch/nn/modules/module.py:1562\u001b[0m, in \u001b[0;36mModule._call_impl\u001b[0;34m(self, *args, **kwargs)\u001b[0m\n\u001b[1;32m   1557\u001b[0m \u001b[38;5;66;03m# If we don't have any hooks, we want to skip the rest of the logic in\u001b[39;00m\n\u001b[1;32m   1558\u001b[0m \u001b[38;5;66;03m# this function, and just call forward.\u001b[39;00m\n\u001b[1;32m   1559\u001b[0m \u001b[38;5;28;01mif\u001b[39;00m \u001b[38;5;129;01mnot\u001b[39;00m (\u001b[38;5;28mself\u001b[39m\u001b[38;5;241m.\u001b[39m_backward_hooks \u001b[38;5;129;01mor\u001b[39;00m \u001b[38;5;28mself\u001b[39m\u001b[38;5;241m.\u001b[39m_backward_pre_hooks \u001b[38;5;129;01mor\u001b[39;00m \u001b[38;5;28mself\u001b[39m\u001b[38;5;241m.\u001b[39m_forward_hooks \u001b[38;5;129;01mor\u001b[39;00m \u001b[38;5;28mself\u001b[39m\u001b[38;5;241m.\u001b[39m_forward_pre_hooks\n\u001b[1;32m   1560\u001b[0m         \u001b[38;5;129;01mor\u001b[39;00m _global_backward_pre_hooks \u001b[38;5;129;01mor\u001b[39;00m _global_backward_hooks\n\u001b[1;32m   1561\u001b[0m         \u001b[38;5;129;01mor\u001b[39;00m _global_forward_hooks \u001b[38;5;129;01mor\u001b[39;00m _global_forward_pre_hooks):\n\u001b[0;32m-> 1562\u001b[0m     \u001b[38;5;28;01mreturn\u001b[39;00m forward_call(\u001b[38;5;241m*\u001b[39margs, \u001b[38;5;241m*\u001b[39m\u001b[38;5;241m*\u001b[39mkwargs)\n\u001b[1;32m   1564\u001b[0m \u001b[38;5;28;01mtry\u001b[39;00m:\n\u001b[1;32m   1565\u001b[0m     result \u001b[38;5;241m=\u001b[39m \u001b[38;5;28;01mNone\u001b[39;00m\n",
      "File \u001b[0;32m/opt/anaconda3/lib/python3.12/site-packages/torch/nn/modules/rnn.py:1139\u001b[0m, in \u001b[0;36mGRU.forward\u001b[0;34m(self, input, hx)\u001b[0m\n\u001b[1;32m   1137\u001b[0m \u001b[38;5;28mself\u001b[39m\u001b[38;5;241m.\u001b[39mcheck_forward_args(\u001b[38;5;28minput\u001b[39m, hx, batch_sizes)\n\u001b[1;32m   1138\u001b[0m \u001b[38;5;28;01mif\u001b[39;00m batch_sizes \u001b[38;5;129;01mis\u001b[39;00m \u001b[38;5;28;01mNone\u001b[39;00m:\n\u001b[0;32m-> 1139\u001b[0m     result \u001b[38;5;241m=\u001b[39m _VF\u001b[38;5;241m.\u001b[39mgru(\u001b[38;5;28minput\u001b[39m, hx, \u001b[38;5;28mself\u001b[39m\u001b[38;5;241m.\u001b[39m_flat_weights, \u001b[38;5;28mself\u001b[39m\u001b[38;5;241m.\u001b[39mbias, \u001b[38;5;28mself\u001b[39m\u001b[38;5;241m.\u001b[39mnum_layers,\n\u001b[1;32m   1140\u001b[0m                      \u001b[38;5;28mself\u001b[39m\u001b[38;5;241m.\u001b[39mdropout, \u001b[38;5;28mself\u001b[39m\u001b[38;5;241m.\u001b[39mtraining, \u001b[38;5;28mself\u001b[39m\u001b[38;5;241m.\u001b[39mbidirectional, \u001b[38;5;28mself\u001b[39m\u001b[38;5;241m.\u001b[39mbatch_first)\n\u001b[1;32m   1141\u001b[0m \u001b[38;5;28;01melse\u001b[39;00m:\n\u001b[1;32m   1142\u001b[0m     result \u001b[38;5;241m=\u001b[39m _VF\u001b[38;5;241m.\u001b[39mgru(\u001b[38;5;28minput\u001b[39m, batch_sizes, hx, \u001b[38;5;28mself\u001b[39m\u001b[38;5;241m.\u001b[39m_flat_weights, \u001b[38;5;28mself\u001b[39m\u001b[38;5;241m.\u001b[39mbias,\n\u001b[1;32m   1143\u001b[0m                      \u001b[38;5;28mself\u001b[39m\u001b[38;5;241m.\u001b[39mnum_layers, \u001b[38;5;28mself\u001b[39m\u001b[38;5;241m.\u001b[39mdropout, \u001b[38;5;28mself\u001b[39m\u001b[38;5;241m.\u001b[39mtraining, \u001b[38;5;28mself\u001b[39m\u001b[38;5;241m.\u001b[39mbidirectional)\n",
      "\u001b[0;31mKeyboardInterrupt\u001b[0m: "
     ]
    }
   ],
   "source": [
    "run ../main.py --dataset_path ../datasets/DPD --dataset_name DPA_200MHz --step train_pa --accelerator cpu"
   ]
  },
  {
   "cell_type": "code",
   "execution_count": null,
   "id": "4ef0b4ef-d9c2-4aff-b0e6-5cd0195db5c7",
   "metadata": {},
   "outputs": [],
   "source": []
  },
  {
   "cell_type": "code",
   "execution_count": null,
   "id": "39c66b88-5dff-4b60-a1c6-bebb0d70db6f",
   "metadata": {},
   "outputs": [],
   "source": []
  },
  {
   "cell_type": "code",
   "execution_count": null,
   "id": "f989b524-f480-4352-b92f-547627cd6847",
   "metadata": {},
   "outputs": [],
   "source": []
  },
  {
   "cell_type": "code",
   "execution_count": null,
   "id": "f70cc6d6-698c-4c20-9d46-77a47a68768e",
   "metadata": {},
   "outputs": [],
   "source": []
  },
  {
   "cell_type": "code",
   "execution_count": 2,
   "id": "4ac0b5ec-4b5e-4fe1-8fa0-62f6ce54fbf8",
   "metadata": {},
   "outputs": [
    {
     "name": "stdout",
     "output_type": "stream",
     "text": [
      "k:  input_signal_fs , v:  800000000.0\n",
      "k:  bw_main_ch , v:  200000000.0\n",
      "k:  bw_sub_ch , v:  20000000.0\n",
      "k:  n_sub_ch , v:  10\n",
      "k:  nperseg , v:  2560\n"
     ]
    }
   ],
   "source": [
    "import json\n",
    "path_spec = '../datasets/DPD/DPA_200MHz_new/spec.json'\n",
    "with open(path_spec) as config_file:\n",
    "    spec = json.load(config_file)\n",
    "    for k, v in spec.items():\n",
    "        print('k: ', k, ', v: ', v)"
   ]
  },
  {
   "cell_type": "code",
   "execution_count": 7,
   "id": "04559e71-676b-447a-88f2-3f3756b6e0b4",
   "metadata": {},
   "outputs": [],
   "source": [
    "spec['nperseg'] = 100000"
   ]
  },
  {
   "cell_type": "code",
   "execution_count": 11,
   "id": "3dd41b32-8ef1-49d1-afaa-581ba874841f",
   "metadata": {},
   "outputs": [],
   "source": [
    "spec\n",
    "json_object = json.dumps(spec)\n",
    "with open('../datasets/DPD/DPA_200MHz_new/spec.json', \"w\") as outfile:\n",
    "    outfile.write(json_object)"
   ]
  },
  {
   "cell_type": "code",
   "execution_count": null,
   "id": "6ebcc705-bb64-4f8c-9b86-7da5f2e7a924",
   "metadata": {},
   "outputs": [],
   "source": []
  },
  {
   "cell_type": "code",
   "execution_count": 4,
   "id": "e58745bd-4ef7-4b99-815d-17a6f3a5f4d4",
   "metadata": {},
   "outputs": [],
   "source": [
    "import pandas as pd"
   ]
  },
  {
   "cell_type": "code",
   "execution_count": 28,
   "id": "dc9400cf-ffdc-46d1-ac2e-ae6863f42f43",
   "metadata": {},
   "outputs": [
    {
     "data": {
      "image/png": "[encoded data removed]",
      "text/plain": [
       "<Figure size 1500x500 with 2 Axes>"
      ]
     },
     "metadata": {},
     "output_type": "display_data"
    }
   ],
   "source": [
    "df = pd.read_csv('../../../Data/FOR_COOPERATION/Prepared/1TR_C20Nc1CD_E20Ne1CD_20250117_5m/CH0/' + \"train_input.csv\")\n",
    "# import matplotlib.pyplot as plt\n",
    "f, ax = plt.subplots(nrows = 1, ncols = 2, sharex=True, sharey = True, figsize = (15,5))\n",
    "\n",
    "ax[0].hist(df.I, bins = 100)\n",
    "ax[0].set_xlabel('I values', fontsize = 15)\n",
    "ax[0].set_title('Train input 5m', fontsize = 20)\n",
    "\n",
    "ax[1].hist(df.Q, bins = 100)\n",
    "ax[1].set_xlabel('Q values', fontsize = 15)\n",
    "ax[1].set_title('Train input 5m', fontsize = 20)\n",
    "\n",
    "plt.show()"
   ]
  },
  {
   "cell_type": "code",
   "execution_count": 30,
   "id": "71dfd5c7-ad3c-4098-940f-0f8ff9aa8eb5",
   "metadata": {},
   "outputs": [
    {
     "data": {
      "image/png": "[encoded data removed]",
      "text/plain": [
       "<Figure size 1500x500 with 2 Axes>"
      ]
     },
     "metadata": {},
     "output_type": "display_data"
    }
   ],
   "source": [
    "df = pd.read_csv('../../../Data/FOR_COOPERATION/Prepared/1TR_C20Nc1CD_E20Ne1CD_20250117_5m/CH0/' + \"train_output.csv\")\n",
    "# import matplotlib.pyplot as plt\n",
    "f, ax = plt.subplots(nrows = 1, ncols = 2, sharex=True, sharey = True, figsize = (15,5))\n",
    "\n",
    "ax[0].hist(df.I, bins = 100)\n",
    "ax[0].set_xlabel('I values', fontsize = 15)\n",
    "ax[0].set_title('Train output 5m', fontsize = 20)\n",
    "\n",
    "ax[1].hist(df.Q, bins = 100)\n",
    "ax[1].set_xlabel('Q values', fontsize = 15)\n",
    "ax[1].set_title('Train output 5m', fontsize = 20)\n",
    "\n",
    "plt.show()"
   ]
  },
  {
   "cell_type": "code",
   "execution_count": null,
   "id": "bdec09d4-5e5e-4a4b-a448-d6e38fe97223",
   "metadata": {},
   "outputs": [],
   "source": []
  },
  {
   "cell_type": "code",
   "execution_count": 32,
   "id": "08b99586-9222-48b0-b513-d4faa1dc4cee",
   "metadata": {},
   "outputs": [
    {
     "data": {
      "image/png": "[encoded data removed]",
      "text/plain": [
       "<Figure size 1500x500 with 2 Axes>"
      ]
     },
     "metadata": {},
     "output_type": "display_data"
    }
   ],
   "source": [
    "df = pd.read_csv('../datasets/DPD/DPA_200MHz/' + \"train_input.csv\")\n",
    "# import matplotlib.pyplot as plt\n",
    "f, ax = plt.subplots(nrows = 1, ncols = 2, sharex=True, sharey = True, figsize = (15,5))\n",
    "\n",
    "ax[0].hist(df.I, bins = 100)\n",
    "ax[0].set_xlabel('I values', fontsize = 15)\n",
    "ax[0].set_title('Train input DPD', fontsize = 20)\n",
    "\n",
    "ax[1].hist(df.Q, bins = 100)\n",
    "ax[1].set_xlabel('Q values', fontsize = 15)\n",
    "ax[1].set_title('Train input DPD', fontsize = 20)\n",
    "\n",
    "plt.show()"
   ]
  },
  {
   "cell_type": "code",
   "execution_count": 33,
   "id": "5fc341b6-1549-47f0-a80c-0a0b3b79db31",
   "metadata": {
    "scrolled": true
   },
   "outputs": [
    {
     "data": {
      "image/png": "[encoded data removed]",
      "text/plain": [
       "<Figure size 1500x500 with 2 Axes>"
      ]
     },
     "metadata": {},
     "output_type": "display_data"
    }
   ],
   "source": [
    "df = pd.read_csv('../datasets/DPD/DPA_200MHz/' + \"train_output.csv\")\n",
    "# import matplotlib.pyplot as plt\n",
    "f, ax = plt.subplots(nrows = 1, ncols = 2, sharex=True, sharey = True, figsize = (15,5))\n",
    "\n",
    "ax[0].hist(df.I, bins = 100)\n",
    "ax[0].set_xlabel('I values', fontsize = 15)\n",
    "ax[0].set_title('Train output DPD', fontsize = 20)\n",
    "\n",
    "ax[1].hist(df.Q, bins = 100)\n",
    "ax[1].set_xlabel('Q values', fontsize = 15)\n",
    "ax[1].set_title('Train output DPD', fontsize = 20)\n",
    "\n",
    "plt.show()"
   ]
  },
  {
   "cell_type": "code",
   "execution_count": null,
   "id": "ce259b3c-36e7-4e9c-bdef-99c59501d96b",
   "metadata": {},
   "outputs": [],
   "source": []
  },
  {
   "cell_type": "code",
   "execution_count": null,
   "id": "87f32a96-053f-4342-a2e4-0b9765c21f5c",
   "metadata": {},
   "outputs": [],
   "source": []
  },
  {
   "cell_type": "code",
   "execution_count": null,
   "id": "d8a53aff-5d04-48b7-8ddd-9eeeb106325a",
   "metadata": {},
   "outputs": [],
   "source": []
  },
  {
   "cell_type": "code",
   "execution_count": null,
   "id": "29f07f2f-334b-4e06-a303-176d04f8df49",
   "metadata": {},
   "outputs": [],
   "source": []
  },
  {
   "cell_type": "code",
   "execution_count": null,
   "id": "3ad4fdc9-a1ca-4041-a14f-0a46c0ed3b43",
   "metadata": {},
   "outputs": [],
   "source": [
    "x.shape:  torch.Size([32, 1536, 6])"
   ]
  },
  {
   "cell_type": "code",
   "execution_count": 6,
   "id": "b2cd0557-6b36-4762-b371-fb9b0fd409c8",
   "metadata": {},
   "outputs": [
    {
     "data": {
      "text/plain": [
       "torch.Size([3, 2, 4])"
      ]
     },
     "execution_count": 6,
     "metadata": {},
     "output_type": "execute_result"
    }
   ],
   "source": [
    "tensor1.shape"
   ]
  },
  {
   "cell_type": "code",
   "execution_count": 8,
   "id": "7d19d27c-3c6a-49d2-9038-c44ce8892dbf",
   "metadata": {},
   "outputs": [
    {
     "data": {
      "text/plain": [
       "tensor([[[-0.9054, -0.7243, -0.5432, -1.0864],\n",
       "         [-0.6622, -0.5064, -0.3506, -1.2855]],\n",
       "\n",
       "        [[ 0.1811,  0.3621,  0.5432, -1.0864],\n",
       "         [ 0.2727,  0.4285,  0.5843, -1.2855]],\n",
       "\n",
       "        [[ 1.2675,  1.4486,  1.6296, -1.0864],\n",
       "         [ 1.2076,  1.3634,  1.5192, -1.2855]]],\n",
       "       grad_fn=<NativeBatchNormBackward0>)"
      ]
     },
     "execution_count": 8,
     "metadata": {},
     "output_type": "execute_result"
    }
   ],
   "source": [
    "import torch\n",
    "from torch import nn\n",
    "\n",
    "tensor1 = torch.tensor([[[1.0, 2.0, 3.0, 0.0], [4.0, 5.0, 6.0, 0.0]],\n",
    "                        [[7.0, 8.0, 9.0, 0.0],[10.0, 11.0, 12.0, 0.0]], \n",
    "                        [[13.0, 14.0, 15.0, 0.0],[16.0, 17.0, 18.0, 0.0]]])\n",
    "tensor1.requires_grad\n",
    "# False\n",
    "\n",
    "batchnorm1d1 = nn.BatchNorm1d(num_features=2)\n",
    "tensor2 = batchnorm1d1(input=tensor1)\n",
    "tensor2"
   ]
  },
  {
   "cell_type": "code",
   "execution_count": 10,
   "id": "b5aa118a-c81e-4d30-ab46-cdf14e2c9fa0",
   "metadata": {},
   "outputs": [
    {
     "data": {
      "text/plain": [
       "tensor([[[-0.4472,  0.4472,  1.3416, -1.3416],\n",
       "         [ 0.1098,  0.5488,  0.9879, -1.6465]]],\n",
       "       grad_fn=<NativeBatchNormBackward0>)"
      ]
     },
     "execution_count": 10,
     "metadata": {},
     "output_type": "execute_result"
    }
   ],
   "source": [
    "import torch\n",
    "from torch import nn\n",
    "\n",
    "tensor1 = torch.tensor([[[1.0, 2.0, 3.0, 0.0], [4.0, 5.0, 6.0, 0.0]]])\n",
    "tensor1.requires_grad\n",
    "# False\n",
    "\n",
    "batchnorm1d1 = nn.BatchNorm1d(num_features=2)\n",
    "tensor2 = batchnorm1d1(input=tensor1)\n",
    "tensor2"
   ]
  },
  {
   "cell_type": "code",
   "execution_count": 12,
   "id": "5ef9e96d-bc5c-43e2-a1d2-4d8f56bda108",
   "metadata": {},
   "outputs": [
    {
     "data": {
      "text/plain": [
       "tensor([[-1.0000, -1.0000, -1.0000,  0.0000],\n",
       "        [ 1.0000,  1.0000,  1.0000,  0.0000]],\n",
       "       grad_fn=<NativeBatchNormBackward0>)"
      ]
     },
     "execution_count": 12,
     "metadata": {},
     "output_type": "execute_result"
    }
   ],
   "source": [
    "import torch\n",
    "from torch import nn\n",
    "\n",
    "tensor1 = torch.tensor([[1.0, 2.0, 3.0, 0.0], [4.0, 5.0, 6.0, 0.0]])\n",
    "tensor1.requires_grad\n",
    "# False\n",
    "\n",
    "batchnorm1d1 = nn.BatchNorm1d(num_features=4)\n",
    "tensor2 = batchnorm1d1(input=tensor1)\n",
    "tensor2"
   ]
  },
  {
   "cell_type": "code",
   "execution_count": 33,
   "id": "8cb26f18-4b36-495a-a3ac-8f7bd3947e56",
   "metadata": {},
   "outputs": [],
   "source": [
    ">>> m = nn.InstanceNorm2d(num_features=1)\n",
    ">>> m = nn.InstanceNorm2d(num_features=1, affine=True)\n",
    ">>> input = torch.tensor([[[1.0, 2.0, 3.0, 0.0], [4.0, 5.0, 6.0, 0.0]]])\n",
    ">>> output = m(input)"
   ]
  },
  {
   "cell_type": "code",
   "execution_count": 34,
   "id": "e03f9cd5-4cb7-46e1-a5bd-079780cc85fe",
   "metadata": {},
   "outputs": [
    {
     "data": {
      "text/plain": [
       "tensor([[[1., 2., 3., 0.],\n",
       "         [4., 5., 6., 0.]]])"
      ]
     },
     "execution_count": 34,
     "metadata": {},
     "output_type": "execute_result"
    }
   ],
   "source": [
    "input"
   ]
  },
  {
   "cell_type": "code",
   "execution_count": 35,
   "id": "b1e37308-2135-4e60-96e4-7f9ac7634a14",
   "metadata": {},
   "outputs": [
    {
     "data": {
      "text/plain": [
       "tensor([[[-0.7674, -0.2951,  0.1771, -1.2396],\n",
       "         [ 0.6493,  1.1215,  1.5938, -1.2396]]], grad_fn=<SqueezeBackward1>)"
      ]
     },
     "execution_count": 35,
     "metadata": {},
     "output_type": "execute_result"
    }
   ],
   "source": [
    "output"
   ]
  },
  {
   "cell_type": "code",
   "execution_count": null,
   "id": "f93d920c-198f-4540-ac0f-ae54edcf15a9",
   "metadata": {},
   "outputs": [],
   "source": []
  },
  {
   "cell_type": "code",
   "execution_count": null,
   "id": "24a793f2-2744-4e52-aba6-0c8794703ae9",
   "metadata": {},
   "outputs": [],
   "source": []
  },
  {
   "cell_type": "code",
   "execution_count": null,
   "id": "bb680993-3a7f-4803-a714-bf1cae06200e",
   "metadata": {},
   "outputs": [],
   "source": []
  },
  {
   "cell_type": "code",
   "execution_count": 6,
   "id": "56de0e9f-ef30-4d9c-8ba8-f5cbc32c57fb",
   "metadata": {},
   "outputs": [
    {
     "data": {
      "text/plain": [
       "array([[1, 2, 3],\n",
       "       [4, 5, 6]])"
      ]
     },
     "execution_count": 6,
     "metadata": {},
     "output_type": "execute_result"
    }
   ],
   "source": [
    "np.array([[1,2,3],[4,5,6]])"
   ]
  },
  {
   "cell_type": "code",
   "execution_count": 9,
   "id": "2762d925-5b34-4bc1-88b5-bed614e95c0b",
   "metadata": {},
   "outputs": [
    {
     "data": {
      "text/plain": [
       "array([1, 2, 3, 4, 5, 6])"
      ]
     },
     "execution_count": 9,
     "metadata": {},
     "output_type": "execute_result"
    }
   ],
   "source": [
    "np.array([[1,2,3],[4,5,6]]).reshape(1, -1)[0]"
   ]
  },
  {
   "cell_type": "code",
   "execution_count": null,
   "id": "08e8f300-42a3-4a83-bdf9-ef1d66f84d6f",
   "metadata": {},
   "outputs": [],
   "source": []
  },
  {
   "cell_type": "code",
   "execution_count": 3,
   "id": "b2ebde1a-8d93-4d59-ab02-d070f8c2e179",
   "metadata": {},
   "outputs": [],
   "source": [
    "import pandas as pd\n",
    "dd = pd.read_csv('../../../Data/FOR_COOPERATION/Prepared/1TR_C20Nc1CD_E20Ne1CD_20250117_5m/CH0/test_output.csv')"
   ]
  },
  {
   "cell_type": "code",
   "execution_count": 4,
   "id": "aa3a484a-59f6-4526-aa51-9e41b7df5604",
   "metadata": {},
   "outputs": [],
   "source": [
    "import numpy as np\n",
    "from pim_utils.pim_metrics import *\n",
    "sig = np.array(dd.I + 1j*dd.Q)\n",
    "\n",
    "from scipy.io import loadmat\n",
    "data = loadmat(\"../../../Data/FOR_COOPERATION/1TR_C20Nc1CD_E20Ne1CD_20250117_5m/1TR_C20Nc1CD_E20Ne1CD_20250117_5m.mat\")\n",
    "fil = loadmat(\"../../../Data/FOR_COOPERATION/rx_filter.mat\")\n",
    "\n",
    "FC_TX = data['BANDS_DL'][0][0][0][0][0] / 10**6\n",
    "FC_RX = data['BANDS_UL'][0][0][0][0][0] / 10**6\n",
    "FS = data['Fs'][0][0] / 10**6\n",
    "PIM_SFT = data['PIM_sft'][0][0] / 10**6\n",
    "PIM_BW = data['BANDS_TX'][0][0][1][0][0] / 10**6\n"
   ]
  },
  {
   "cell_type": "code",
   "execution_count": 5,
   "id": "bb7e5c49-ba86-4d8a-9c7e-78a3bdf6d164",
   "metadata": {},
   "outputs": [
    {
     "data": {
      "text/plain": [
       "38.52845076581814"
      ]
     },
     "execution_count": 5,
     "metadata": {},
     "output_type": "execute_result"
    }
   ],
   "source": [
    "cal_power(sig, FS, FC_TX, PIM_SFT, PIM_BW)"
   ]
  },
  {
   "cell_type": "code",
   "execution_count": 6,
   "id": "8dac32be-8ad3-4ced-9d1e-dec9ee1fa30f",
   "metadata": {},
   "outputs": [
    {
     "data": {
      "text/plain": [
       "array([-127.30486964 -61.18386776j,   81.54603768-104.70670717j,\n",
       "         86.74186859+101.61243735j, ...,   15.97053422 +14.76675773j,\n",
       "          3.69222599 +17.02817344j,  -22.48630675 +17.57653004j])"
      ]
     },
     "execution_count": 6,
     "metadata": {},
     "output_type": "execute_result"
    }
   ],
   "source": [
    "sig"
   ]
  },
  {
   "cell_type": "code",
   "execution_count": 8,
   "id": "9d0eb615-f8ae-4307-8109-2ea7bfa1725d",
   "metadata": {},
   "outputs": [
    {
     "data": {
      "image/png": "[encoded data removed]",
      "text/plain": [
       "<Figure size 640x480 with 1 Axes>"
      ]
     },
     "metadata": {},
     "output_type": "display_data"
    }
   ],
   "source": [
    "dd1 = pd.read_csv('../../../Data/FOR_COOPERATION/Prepared/1TR_C20Nc1CD_E20Ne1CD_20250117_5m/CH0/test_input.csv')\n",
    "sig1 = np.array(dd1.I + 1j*dd1.Q)\n",
    "\n",
    "plot_spectrum(sig, sig, FS, FC_TX, PIM_SFT, PIM_BW)"
   ]
  },
  {
   "cell_type": "code",
   "execution_count": null,
   "id": "1efc9792-4058-4592-a7a1-c98f3b00568a",
   "metadata": {},
   "outputs": [],
   "source": []
  },
  {
   "cell_type": "code",
   "execution_count": null,
   "id": "24d72941-536e-49e0-b574-2e27b3d807b5",
   "metadata": {},
   "outputs": [],
   "source": [
    "import pandas as pd\n",
    "dd = pd.read_csv('../../../Data/FOR_COOPERATION/Prepared/1TR_C20Nc1CD_E20Ne1CD_20250117_5m/CH0/test_output.csv')"
   ]
  },
  {
   "cell_type": "code",
   "execution_count": null,
   "id": "e1be40cc-5c22-4102-95fa-4ee0552aec49",
   "metadata": {},
   "outputs": [],
   "source": []
  },
  {
   "cell_type": "code",
   "execution_count": null,
   "id": "453e5d7c-b347-48bf-a27c-f9664a4b6e61",
   "metadata": {},
   "outputs": [],
   "source": []
  },
  {
   "cell_type": "code",
   "execution_count": null,
   "id": "8fc923e0-ed8f-4d8d-8f77-871f89d43448",
   "metadata": {},
   "outputs": [],
   "source": []
  }
 ],
 "metadata": {
  "kernelspec": {
   "display_name": "Python 3 (ipykernel)",
   "language": "python",
   "name": "python3"
  },
  "language_info": {
   "codemirror_mode": {
    "name": "ipython",
    "version": 3
   },
   "file_extension": ".py",
   "mimetype": "text/x-python",
   "name": "python",
   "nbconvert_exporter": "python",
   "pygments_lexer": "ipython3",
   "version": "3.12.4"
  }
 },
 "nbformat": 4,
 "nbformat_minor": 5
}
