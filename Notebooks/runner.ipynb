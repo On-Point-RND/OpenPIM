{
 "cells": [
  {
   "cell_type": "code",
   "execution_count": 1,
   "id": "18682128-4158-49d8-8646-0f0591e5228b",
   "metadata": {},
   "outputs": [],
   "source": [
    "# run ../experiments/grid_search.py "
   ]
  },
  {
   "cell_type": "code",
   "execution_count": 2,
   "id": "b2f0d8fd-3ae9-4d98-b60d-a4a16c6d71ab",
   "metadata": {},
   "outputs": [
    {
     "name": "stdout",
     "output_type": "stream",
     "text": [
      "::: Are Deterministic Algorithms Enabled:  False\n",
      "--------------------------------------------------------------------\n",
      "####################################################################################################\n",
      "# Step: Train PIM model                                                                            #\n",
      "####################################################################################################\n",
      "::: Available GPUs: None\n",
      "--------------------------------------------------------------------\n",
      "::: Number of PIM Model Parameters:  34872\n",
      "::: Best Model Save Path:  ./results/save/1TR_C20Nc1CD_E20Ne1CD_20250117_5m/lstm/train_pim/PIM_S_0_M_LSTM_H_8_P_34872.pt\n",
      "::: Log-History     Path:  ./results/log/1TR_C20Nc1CD_E20Ne1CD_20250117_5m/lstm/train_pim/history/PIM_S_0_M_LSTM_H_8_P_34872.csv\n",
      "::: Log-Best        Path:  ./results/log/1TR_C20Nc1CD_E20Ne1CD_20250117_5m/lstm/train_pim/best/PIM_S_0_M_LSTM_H_8_P_34872.csv\n"
     ]
    },
    {
     "name": "stderr",
     "output_type": "stream",
     "text": [
      "/opt/anaconda3/lib/python3.12/site-packages/torch/optim/lr_scheduler.py:60: UserWarning: The verbose parameter is deprecated. Please use get_last_lr() to access the learning rate.\n",
      "  warnings.warn(\n",
      "/opt/anaconda3/lib/python3.12/site-packages/adabound/adabound.py:94: UserWarning: This overload of add_ is deprecated:\n",
      "\tadd_(Number alpha, Tensor other)\n",
      "Consider using one of the following signatures instead:\n",
      "\tadd_(Tensor other, *, Number alpha = 1) (Triggered internally at /Users/runner/work/pytorch/pytorch/pytorch/torch/csrc/utils/python_arg_parser.cpp:1581.)\n",
      "  exp_avg.mul_(beta1).add_(1 - beta1, grad)\n"
     ]
    },
    {
     "name": "stdout",
     "output_type": "stream",
     "text": [
      "1000 iteration out of 7000.0 is complete\n"
     ]
    },
    {
     "name": "stderr",
     "output_type": "stream",
     "text": [
      "100%|█████████████████████████████████████████| 192/192 [00:02<00:00, 88.85it/s]\n",
      "/opt/anaconda3/lib/python3.12/site-packages/scipy/signal/_spectral_py.py:462: UserWarning: Input data is complex, switching to return_onesided=False\n",
      "  freqs, Pxx = csd(x, x, fs=fs, window=window, nperseg=nperseg,\n",
      "100%|█████████████████████████████████████████| 192/192 [00:02<00:00, 93.43it/s]\n"
     ]
    },
    {
     "name": "stdout",
     "output_type": "stream",
     "text": [
      "Reduction_level: 13.453554176058606\n",
      "{'EPOCH': 0, 'iteration': 1000, 'n_iterations': '7000.00000000', 'TIME:': '0.34843543', 'LR': '0.00010000', 'BATCH_SIZE': 64, 'N_PARAM': 34872, 'BACKBONE': 'lstm', 'HIDDEN_SIZE': 8, 'N_BACK': 128, 'N_FWD': 1, 'TRAIN_LOSS': '0.79524068', 'VAL_LOSS': '0.16993623', 'VAL_NMSE': '-8.33794594', 'VAL_MAIN_METRICS': '10.49091897', 'VAL_REDUCTION_LEVEL': '13.16419343', 'TEST_LOSS': '0.15642592', 'TEST_NMSE': '-8.05384099', 'TEST_MAIN_METRICS': '10.65712090', 'TEST_REDUCTION_LEVEL': '13.45355418'}\n",
      ">>> saving best model (13.164193 -> 13.164193 Reduction_level) from epoch 0 to ./results/save/1TR_C20Nc1CD_E20Ne1CD_20250117_5m/lstm/train_pim/PIM_S_0_M_LSTM_H_8_P_34872.pt\n",
      "2000 iteration out of 7000.0 is complete\n"
     ]
    },
    {
     "name": "stderr",
     "output_type": "stream",
     "text": [
      "100%|█████████████████████████████████████████| 192/192 [00:02<00:00, 83.27it/s]\n",
      "/opt/anaconda3/lib/python3.12/site-packages/scipy/signal/_spectral_py.py:462: UserWarning: Input data is complex, switching to return_onesided=False\n",
      "  freqs, Pxx = csd(x, x, fs=fs, window=window, nperseg=nperseg,\n",
      "100%|█████████████████████████████████████████| 192/192 [00:03<00:00, 62.61it/s]\n"
     ]
    },
    {
     "name": "stdout",
     "output_type": "stream",
     "text": [
      "Reduction_level: 16.058790933637965\n",
      "{'EPOCH': 0, 'iteration': 2000, 'n_iterations': '7000.00000000', 'TIME:': '0.71834600', 'LR': '0.00010000', 'BATCH_SIZE': 64, 'N_PARAM': 34872, 'BACKBONE': 'lstm', 'HIDDEN_SIZE': 8, 'N_BACK': 128, 'N_FWD': 1, 'TRAIN_LOSS': '0.45262624', 'VAL_LOSS': '0.09864616', 'VAL_NMSE': '-10.69964528', 'VAL_MAIN_METRICS': '12.11026744', 'VAL_REDUCTION_LEVEL': '15.16604184', 'TEST_LOSS': '0.09497723', 'TEST_NMSE': '-10.21879196', 'TEST_MAIN_METRICS': '12.18465557', 'TEST_REDUCTION_LEVEL': '16.05879093'}\n",
      "3000 iteration out of 7000.0 is complete\n"
     ]
    },
    {
     "name": "stderr",
     "output_type": "stream",
     "text": [
      "100%|█████████████████████████████████████████| 192/192 [00:02<00:00, 66.81it/s]\n",
      "100%|█████████████████████████████████████████| 192/192 [00:02<00:00, 93.39it/s]\n"
     ]
    },
    {
     "name": "stdout",
     "output_type": "stream",
     "text": [
      "Reduction_level: 16.640863969055157\n",
      "{'EPOCH': 0, 'iteration': 3000, 'n_iterations': '7000.00000000', 'TIME:': '1.16143952', 'LR': '0.00010000', 'BATCH_SIZE': 64, 'N_PARAM': 34872, 'BACKBONE': 'lstm', 'HIDDEN_SIZE': 8, 'N_BACK': 128, 'N_FWD': 1, 'TRAIN_LOSS': '0.33290773', 'VAL_LOSS': '0.08615549', 'VAL_NMSE': '-11.28779411', 'VAL_MAIN_METRICS': '12.86054805', 'VAL_REDUCTION_LEVEL': '16.27402321', 'TEST_LOSS': '0.08463879', 'TEST_NMSE': '-10.71754575', 'TEST_MAIN_METRICS': '12.63669127', 'TEST_REDUCTION_LEVEL': '16.64086397'}\n",
      "4000 iteration out of 7000.0 is complete\n"
     ]
    },
    {
     "name": "stderr",
     "output_type": "stream",
     "text": [
      "100%|█████████████████████████████████████████| 192/192 [00:02<00:00, 89.88it/s]\n",
      "100%|█████████████████████████████████████████| 192/192 [00:02<00:00, 93.51it/s]\n"
     ]
    },
    {
     "name": "stdout",
     "output_type": "stream",
     "text": [
      "Reduction_level: 16.661755325807448\n",
      "{'EPOCH': 0, 'iteration': 4000, 'n_iterations': '7000.00000000', 'TIME:': '1.49706798', 'LR': '0.00010000', 'BATCH_SIZE': 64, 'N_PARAM': 34872, 'BACKBONE': 'lstm', 'HIDDEN_SIZE': 8, 'N_BACK': 128, 'N_FWD': 1, 'TRAIN_LOSS': '0.27274439', 'VAL_LOSS': '0.08530198', 'VAL_NMSE': '-11.33185029', 'VAL_MAIN_METRICS': '12.60384054', 'VAL_REDUCTION_LEVEL': '15.71162903', 'TEST_LOSS': '0.08413011', 'TEST_NMSE': '-10.74990392', 'TEST_MAIN_METRICS': '12.66501020', 'TEST_REDUCTION_LEVEL': '16.66175533'}\n",
      "5000 iteration out of 7000.0 is complete\n"
     ]
    },
    {
     "name": "stderr",
     "output_type": "stream",
     "text": [
      "100%|█████████████████████████████████████████| 192/192 [00:02<00:00, 94.91it/s]\n",
      "100%|█████████████████████████████████████████| 192/192 [00:02<00:00, 95.88it/s]\n"
     ]
    },
    {
     "name": "stdout",
     "output_type": "stream",
     "text": [
      "Reduction_level: 10.601111216942911\n",
      "{'EPOCH': 0, 'iteration': 5000, 'n_iterations': '7000.00000000', 'TIME:': '1.82466263', 'LR': '0.00010000', 'BATCH_SIZE': 64, 'N_PARAM': 34872, 'BACKBONE': 'lstm', 'HIDDEN_SIZE': 8, 'N_BACK': 128, 'N_FWD': 1, 'TRAIN_LOSS': '0.23697875', 'VAL_LOSS': '0.14910074', 'VAL_NMSE': '-8.90873671', 'VAL_MAIN_METRICS': '9.80256720', 'VAL_REDUCTION_LEVEL': '10.59185700', 'TEST_LOSS': '0.14356257', 'TEST_NMSE': '-8.38283956', 'TEST_MAIN_METRICS': '9.38388342', 'TEST_REDUCTION_LEVEL': '10.60111122'}\n",
      ">>> saving best model (13.164193 -> 10.591857 Reduction_level) from epoch 0 to ./results/save/1TR_C20Nc1CD_E20Ne1CD_20250117_5m/lstm/train_pim/PIM_S_0_M_LSTM_H_8_P_34872.pt\n",
      "6000 iteration out of 7000.0 is complete\n"
     ]
    },
    {
     "name": "stderr",
     "output_type": "stream",
     "text": [
      "100%|█████████████████████████████████████████| 192/192 [00:02<00:00, 93.45it/s]\n",
      "/opt/anaconda3/lib/python3.12/site-packages/scipy/signal/_spectral_py.py:462: UserWarning: Input data is complex, switching to return_onesided=False\n",
      "  freqs, Pxx = csd(x, x, fs=fs, window=window, nperseg=nperseg,\n",
      "100%|█████████████████████████████████████████| 192/192 [00:02<00:00, 84.23it/s]\n"
     ]
    },
    {
     "name": "stdout",
     "output_type": "stream",
     "text": [
      "Reduction_level: 12.50655181199437\n",
      "{'EPOCH': 0, 'iteration': 6000, 'n_iterations': '7000.00000000', 'TIME:': '2.15703705', 'LR': '0.00010000', 'BATCH_SIZE': 64, 'N_PARAM': 34872, 'BACKBONE': 'lstm', 'HIDDEN_SIZE': 8, 'N_BACK': 128, 'N_FWD': 1, 'TRAIN_LOSS': '0.21294783', 'VAL_LOSS': '0.13394654', 'VAL_NMSE': '-9.37159836', 'VAL_MAIN_METRICS': '9.93418547', 'VAL_REDUCTION_LEVEL': '11.15422543', 'TEST_LOSS': '0.11980455', 'TEST_NMSE': '-9.17594552', 'TEST_MAIN_METRICS': '10.49903341', 'TEST_REDUCTION_LEVEL': '12.50655181'}\n",
      "7000 iteration out of 7000.0 is complete\n"
     ]
    },
    {
     "name": "stderr",
     "output_type": "stream",
     "text": [
      "100%|█████████████████████████████████████████| 192/192 [00:02<00:00, 93.74it/s]\n",
      "100%|█████████████████████████████████████████| 192/192 [00:01<00:00, 96.71it/s]\n"
     ]
    },
    {
     "name": "stdout",
     "output_type": "stream",
     "text": [
      "Reduction_level: 14.29890764370736\n",
      "{'EPOCH': 0, 'iteration': 7000, 'n_iterations': '7000.00000000', 'TIME:': '2.49125828', 'LR': '0.00010000', 'BATCH_SIZE': 64, 'N_PARAM': 34872, 'BACKBONE': 'lstm', 'HIDDEN_SIZE': 8, 'N_BACK': 128, 'N_FWD': 1, 'TRAIN_LOSS': '0.19494922', 'VAL_LOSS': '0.09332038', 'VAL_NMSE': '-10.94120979', 'VAL_MAIN_METRICS': '12.03101250', 'VAL_REDUCTION_LEVEL': '14.34061217', 'TEST_LOSS': '0.09151022', 'TEST_NMSE': '-10.39289832', 'TEST_MAIN_METRICS': '11.59376231', 'TEST_REDUCTION_LEVEL': '14.29890764'}\n",
      "Training Completed\n",
      "\n"
     ]
    }
   ],
   "source": [
    "run ../main.py "
   ]
  },
  {
   "cell_type": "code",
   "execution_count": null,
   "id": "5cb37b94-3e6c-455c-9e49-b4e87170ed8c",
   "metadata": {},
   "outputs": [],
   "source": []
  },
  {
   "cell_type": "code",
   "execution_count": null,
   "id": "8bb21f62-cd28-42ce-8cc9-635a42514507",
   "metadata": {},
   "outputs": [],
   "source": []
  },
  {
   "cell_type": "code",
   "execution_count": null,
   "id": "621ce1a3-f54f-46e9-8364-ff86ed8dc7ba",
   "metadata": {},
   "outputs": [],
   "source": []
  },
  {
   "cell_type": "code",
   "execution_count": null,
   "id": "1aff7628-eca2-4e25-b6cc-b166591cae83",
   "metadata": {},
   "outputs": [],
   "source": []
  },
  {
   "cell_type": "code",
   "execution_count": null,
   "id": "79030509-5094-44a4-8921-6fa0123f3e9e",
   "metadata": {},
   "outputs": [],
   "source": []
  }
 ],
 "metadata": {
  "kernelspec": {
   "display_name": "Python 3 (ipykernel)",
   "language": "python",
   "name": "python3"
  },
  "language_info": {
   "codemirror_mode": {
    "name": "ipython",
    "version": 3
   },
   "file_extension": ".py",
   "mimetype": "text/x-python",
   "name": "python",
   "nbconvert_exporter": "python",
   "pygments_lexer": "ipython3",
   "version": "3.12.4"
  }
 },
 "nbformat": 4,
 "nbformat_minor": 5
}
