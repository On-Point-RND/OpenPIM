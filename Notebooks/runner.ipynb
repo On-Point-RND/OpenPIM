{
 "cells": [
  {
   "cell_type": "code",
   "execution_count": null,
   "id": "a7ed115d-c989-4e4f-b5cc-a2fef7c41caf",
   "metadata": {},
   "outputs": [
    {
     "name": "stderr",
     "output_type": "stream",
     "text": [
      "\u001b[32m2025-04-25 18:45:31.517\u001b[0m | \u001b[1mINFO    \u001b[0m | \u001b[36mrunner\u001b[0m:\u001b[36mreproducible\u001b[0m:\u001b[36m105\u001b[0m - \u001b[1m::: Are Deterministic Algorithms Enabled:  False\u001b[0m\n",
      "\u001b[32m2025-04-25 18:45:31.518\u001b[0m | \u001b[1mINFO    \u001b[0m | \u001b[36mrunner\u001b[0m:\u001b[36mset_device\u001b[0m:\u001b[36m127\u001b[0m - \u001b[1m::: Available GPUs: None\u001b[0m\n",
      "\u001b[32m2025-04-25 18:45:31.518\u001b[0m | \u001b[1mINFO    \u001b[0m | \u001b[36mrunner\u001b[0m:\u001b[36mset_device\u001b[0m:\u001b[36m128\u001b[0m - \u001b[1m--------------------------------------------------------------------\u001b[0m\n",
      "\u001b[32m2025-04-25 18:45:31.659\u001b[0m | \u001b[32m\u001b[1mSUCCESS \u001b[0m | \u001b[36mmodules.data_collector\u001b[0m:\u001b[36mload_and_split_data\u001b[0m:\u001b[36m132\u001b[0m - \u001b[32m\u001b[1mData load and split is done\u001b[0m\n"
     ]
    },
    {
     "name": "stdout",
     "output_type": "stream",
     "text": [
      "Concidered PIM_type:  total\n"
     ]
    },
    {
     "name": "stderr",
     "output_type": "stream",
     "text": [
      "\u001b[32m2025-04-25 18:45:32.727\u001b[0m | \u001b[32m\u001b[1mSUCCESS \u001b[0m | \u001b[36mmodules.data_collector\u001b[0m:\u001b[36mload_resources\u001b[0m:\u001b[36m65\u001b[0m - \u001b[32m\u001b[1mDataloaders were created\u001b[0m\n",
      "\u001b[32m2025-04-25 18:45:32.747\u001b[0m | \u001b[1mINFO    \u001b[0m | \u001b[36msteps.train_pim_single\u001b[0m:\u001b[36mmain\u001b[0m:\u001b[36m34\u001b[0m - \u001b[1m::: Number of PIM Model Parameters:   3968\u001b[0m\n",
      "\u001b[32m2025-04-25 18:45:32.747\u001b[0m | \u001b[1mINFO    \u001b[0m | \u001b[36mrunner\u001b[0m:\u001b[36mbuild_logger\u001b[0m:\u001b[36m71\u001b[0m - \u001b[1m::: Best Model Save Path:  ./results/test/save/16TR_C25Nc16CD_CL_E20Ne1CD_20250117_1L/leaklinpoly/PIM_B_30_F_1_S_0_M_LEAKLINPOLY_H_8_P_3968.pt\u001b[0m\n",
      "\u001b[32m2025-04-25 18:45:32.748\u001b[0m | \u001b[1mINFO    \u001b[0m | \u001b[36mrunner\u001b[0m:\u001b[36mbuild_logger\u001b[0m:\u001b[36m74\u001b[0m - \u001b[1m::: Log-History     Path: ./results/test/log/16TR_C25Nc16CD_CL_E20Ne1CD_20250117_1L/leaklinpoly/history/PIM_B_30_F_1_S_0_M_LEAKLINPOLY_H_8_P_3968.csv\u001b[0m\n",
      "\u001b[32m2025-04-25 18:45:32.749\u001b[0m | \u001b[1mINFO    \u001b[0m | \u001b[36mrunner\u001b[0m:\u001b[36mbuild_logger\u001b[0m:\u001b[36m77\u001b[0m - \u001b[1m::: Log-Best        Path: ./results/test/log/16TR_C25Nc16CD_CL_E20Ne1CD_20250117_1L/leaklinpoly/best/PIM_B_30_F_1_S_0_M_LEAKLINPOLY_H_8_P_3968.csv\u001b[0m\n",
      "/opt/anaconda3/lib/python3.12/site-packages/torch/optim/lr_scheduler.py:60: UserWarning: The verbose parameter is deprecated. Please use get_last_lr() to access the learning rate.\n",
      "  warnings.warn(\n",
      "\u001b[32m2025-04-25 18:45:33.234\u001b[0m | \u001b[1mINFO    \u001b[0m | \u001b[36mmodules.train_funcs\u001b[0m:\u001b[36mtrain_model\u001b[0m:\u001b[36m83\u001b[0m - \u001b[1mTrainng sample shapes X: torch.Size([64, 32, 16, 2]) Y: torch.Size([64, 16, 2])\u001b[0m\n",
      "\u001b[32m2025-04-25 18:45:33.286\u001b[0m | \u001b[1mINFO    \u001b[0m | \u001b[36mmodules.train_funcs\u001b[0m:\u001b[36mtrain_model\u001b[0m:\u001b[36m92\u001b[0m - \u001b[1mout shape: torch.Size([64, 16, 2]) target shape: torch.Size([64, 16, 2])\u001b[0m\n",
      "/opt/anaconda3/lib/python3.12/site-packages/adabound/adabound.py:94: UserWarning: This overload of add_ is deprecated:\n",
      "\tadd_(Number alpha, Tensor other)\n",
      "Consider using one of the following signatures instead:\n",
      "\tadd_(Tensor other, *, Number alpha = 1) (Triggered internally at /Users/runner/work/pytorch/pytorch/pytorch/torch/csrc/utils/python_arg_parser.cpp:1581.)\n",
      "  exp_avg.mul_(beta1).add_(1 - beta1, grad)\n"
     ]
    }
   ],
   "source": [
    "run ../main.py "
   ]
  },
  {
   "cell_type": "code",
   "execution_count": null,
   "id": "3540cb03-b497-461d-87b1-c835265a4713",
   "metadata": {},
   "outputs": [],
   "source": []
  },
  {
   "cell_type": "code",
   "execution_count": null,
   "id": "920c3196-56ad-472e-a902-b406cdd0fa62",
   "metadata": {},
   "outputs": [],
   "source": []
  },
  {
   "cell_type": "code",
   "execution_count": null,
   "id": "df4d5374-fca6-4a3a-9e3f-4d06908e29d5",
   "metadata": {},
   "outputs": [],
   "source": []
  }
 ],
 "metadata": {
  "kernelspec": {
   "display_name": "Python 3 (ipykernel)",
   "language": "python",
   "name": "python3"
  },
  "language_info": {
   "codemirror_mode": {
    "name": "ipython",
    "version": 3
   },
   "file_extension": ".py",
   "mimetype": "text/x-python",
   "name": "python",
   "nbconvert_exporter": "python",
   "pygments_lexer": "ipython3",
   "version": "3.12.2"
  }
 },
 "nbformat": 4,
 "nbformat_minor": 5
}
