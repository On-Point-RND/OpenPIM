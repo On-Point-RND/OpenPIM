{
 "cells": [
  {
   "cell_type": "code",
   "execution_count": 1,
   "id": "a7ed115d-c989-4e4f-b5cc-a2fef7c41caf",
   "metadata": {},
   "outputs": [
    {
     "name": "stdout",
     "output_type": "stream",
     "text": [
      "::: Are Deterministic Algorithms Enabled:  False\n",
      "--------------------------------------------------------------------\n",
      "####################################################################################################\n",
      "# Step: Train PIM model                                                                            #\n",
      "####################################################################################################\n",
      "::: Available GPUs: None\n",
      "--------------------------------------------------------------------\n",
      "::: Number of PIM Model Parameters:  34068\n"
     ]
    },
    {
     "name": "stderr",
     "output_type": "stream",
     "text": [
      "/opt/anaconda3/lib/python3.12/site-packages/torch/optim/lr_scheduler.py:60: UserWarning: The verbose parameter is deprecated. Please use get_last_lr() to access the learning rate.\n",
      "  warnings.warn(\n",
      "/opt/anaconda3/lib/python3.12/site-packages/adabound/adabound.py:94: UserWarning: This overload of add_ is deprecated:\n",
      "\tadd_(Number alpha, Tensor other)\n",
      "Consider using one of the following signatures instead:\n",
      "\tadd_(Tensor other, *, Number alpha = 1) (Triggered internally at /Users/runner/work/pytorch/pytorch/pytorch/torch/csrc/utils/python_arg_parser.cpp:1581.)\n",
      "  exp_avg.mul_(beta1).add_(1 - beta1, grad)\n"
     ]
    },
    {
     "name": "stdout",
     "output_type": "stream",
     "text": [
      "::: Best Model Save Path:  ./results/save/1TR_C20Nc1CD_E20Ne1CD_20250117_5m/linear/CH_0/PIM_B_128_F_1_S_0_M_LINEAR_H_8_P_34068.pt\n",
      "::: Log-History     Path:  ./results/log/1TR_C20Nc1CD_E20Ne1CD_20250117_5m/linear/history/CH_0/PIM_B_128_F_1_S_0_M_LINEAR_H_8_P_34068.csv\n",
      "::: Log-Best        Path:  ./results/log/1TR_C20Nc1CD_E20Ne1CD_20250117_5m/linear/best/CH_0/PIM_B_128_F_1_S_0_M_LINEAR_H_8_P_34068.csv\n",
      "1000 iteration out of 7000.0 is complete\n"
     ]
    },
    {
     "name": "stderr",
     "output_type": "stream",
     "text": [
      "100%|████████████████████████████████████████| 192/192 [00:00<00:00, 698.23it/s]\n",
      "/opt/anaconda3/lib/python3.12/site-packages/scipy/signal/_spectral_py.py:462: UserWarning: Input data is complex, switching to return_onesided=False\n",
      "  freqs, Pxx = csd(x, x, fs=fs, window=window, nperseg=nperseg,\n",
      "100%|███████████████████████████████████████| 192/192 [00:00<00:00, 1120.68it/s]\n"
     ]
    },
    {
     "name": "stdout",
     "output_type": "stream",
     "text": [
      "Reduction_level: 18.715880255560354\n",
      "{'EPOCH': 0, 'iteration': 1000, 'n_iterations': '7000.00000000', 'TIME:': '0.03195707', 'LR': '0.00010000', 'BATCH_SIZE': 64, 'N_PARAM': 34068, 'BACKBONE': 'linear', 'HIDDEN_SIZE': 8, 'N_BACK': 128, 'N_FWD': 1, 'TRAIN_LOSS': '0.18449623', 'VAL_LOSS': '0.05062257', 'VAL_NMSE': '-13.60051751', 'VAL_REDUCTION_LEVEL': '18.41503815', 'TEST_LOSS': '0.04853587', 'TEST_NMSE': '-13.04310441', 'TEST_REDUCTION_LEVEL': '18.71588026'}\n",
      ">>> saving best model (18.415038 -> 18.415038 Reduction_level) from epoch 0 to ./results/save/1TR_C20Nc1CD_E20Ne1CD_20250117_5m/linear/CH_0/PIM_B_128_F_1_S_0_M_LINEAR_H_8_P_34068.pt\n",
      "2000 iteration out of 7000.0 is complete\n"
     ]
    },
    {
     "name": "stderr",
     "output_type": "stream",
     "text": [
      "100%|████████████████████████████████████████| 192/192 [00:00<00:00, 525.14it/s]\n",
      "/opt/anaconda3/lib/python3.12/site-packages/scipy/signal/_spectral_py.py:462: UserWarning: Input data is complex, switching to return_onesided=False\n",
      "  freqs, Pxx = csd(x, x, fs=fs, window=window, nperseg=nperseg,\n",
      "100%|████████████████████████████████████████| 192/192 [00:00<00:00, 494.54it/s]\n"
     ]
    },
    {
     "name": "stdout",
     "output_type": "stream",
     "text": [
      "Reduction_level: 19.868534320865848\n",
      "{'EPOCH': 0, 'iteration': 2000, 'n_iterations': '7000.00000000', 'TIME:': '0.06628497', 'LR': '0.00010000', 'BATCH_SIZE': 64, 'N_PARAM': 34068, 'BACKBONE': 'linear', 'HIDDEN_SIZE': 8, 'N_BACK': 128, 'N_FWD': 1, 'TRAIN_LOSS': '0.11545327', 'VAL_LOSS': '0.04491682', 'VAL_NMSE': '-14.12025213', 'VAL_REDUCTION_LEVEL': '19.61065464', 'TEST_LOSS': '0.04395641', 'TEST_NMSE': '-13.47316146', 'TEST_REDUCTION_LEVEL': '19.86853432'}\n",
      "3000 iteration out of 7000.0 is complete\n"
     ]
    },
    {
     "name": "stderr",
     "output_type": "stream",
     "text": [
      "100%|████████████████████████████████████████| 192/192 [00:00<00:00, 561.88it/s]\n",
      "100%|████████████████████████████████████████| 192/192 [00:00<00:00, 971.85it/s]\n"
     ]
    },
    {
     "name": "stdout",
     "output_type": "stream",
     "text": [
      "Reduction_level: 19.418126975513104\n",
      "{'EPOCH': 0, 'iteration': 3000, 'n_iterations': '7000.00000000', 'TIME:': '0.10069180', 'LR': '0.00010000', 'BATCH_SIZE': 64, 'N_PARAM': 34068, 'BACKBONE': 'linear', 'HIDDEN_SIZE': 8, 'N_BACK': 128, 'N_FWD': 1, 'TRAIN_LOSS': '0.09212773', 'VAL_LOSS': '0.04429842', 'VAL_NMSE': '-14.18044686', 'VAL_REDUCTION_LEVEL': '19.09716069', 'TEST_LOSS': '0.04357763', 'TEST_NMSE': '-13.50262880', 'TEST_REDUCTION_LEVEL': '19.41812698'}\n",
      "4000 iteration out of 7000.0 is complete\n"
     ]
    },
    {
     "name": "stderr",
     "output_type": "stream",
     "text": [
      "100%|████████████████████████████████████████| 192/192 [00:00<00:00, 657.23it/s]\n",
      "100%|████████████████████████████████████████| 192/192 [00:00<00:00, 548.80it/s]\n"
     ]
    },
    {
     "name": "stdout",
     "output_type": "stream",
     "text": [
      "Reduction_level: 20.162732370473925\n",
      "{'EPOCH': 0, 'iteration': 4000, 'n_iterations': '7000.00000000', 'TIME:': '0.13480541', 'LR': '0.00010000', 'BATCH_SIZE': 64, 'N_PARAM': 34068, 'BACKBONE': 'linear', 'HIDDEN_SIZE': 8, 'N_BACK': 128, 'N_FWD': 1, 'TRAIN_LOSS': '0.08008257', 'VAL_LOSS': '0.04323156', 'VAL_NMSE': '-14.28665757', 'VAL_REDUCTION_LEVEL': '19.83433819', 'TEST_LOSS': '0.04241851', 'TEST_NMSE': '-13.62192512', 'TEST_REDUCTION_LEVEL': '20.16273237'}\n",
      "5000 iteration out of 7000.0 is complete\n"
     ]
    },
    {
     "name": "stderr",
     "output_type": "stream",
     "text": [
      "100%|████████████████████████████████████████| 192/192 [00:00<00:00, 615.03it/s]\n",
      "100%|████████████████████████████████████████| 192/192 [00:00<00:00, 797.49it/s]\n"
     ]
    },
    {
     "name": "stdout",
     "output_type": "stream",
     "text": [
      "Reduction_level: 19.891441333920888\n",
      "{'EPOCH': 0, 'iteration': 5000, 'n_iterations': '7000.00000000', 'TIME:': '0.17363207', 'LR': '0.00010000', 'BATCH_SIZE': 64, 'N_PARAM': 34068, 'BACKBONE': 'linear', 'HIDDEN_SIZE': 8, 'N_BACK': 128, 'N_FWD': 1, 'TRAIN_LOSS': '0.07282605', 'VAL_LOSS': '0.04369060', 'VAL_NMSE': '-14.24127340', 'VAL_REDUCTION_LEVEL': '19.66024488', 'TEST_LOSS': '0.04267752', 'TEST_NMSE': '-13.59546423', 'TEST_REDUCTION_LEVEL': '19.89144133'}\n",
      "6000 iteration out of 7000.0 is complete\n"
     ]
    },
    {
     "name": "stderr",
     "output_type": "stream",
     "text": [
      "100%|████████████████████████████████████████| 192/192 [00:00<00:00, 684.44it/s]\n",
      "100%|████████████████████████████████████████| 192/192 [00:00<00:00, 461.48it/s]\n"
     ]
    },
    {
     "name": "stdout",
     "output_type": "stream",
     "text": [
      "Reduction_level: 20.188527965264676\n",
      "{'EPOCH': 0, 'iteration': 6000, 'n_iterations': '7000.00000000', 'TIME:': '0.20828706', 'LR': '0.00010000', 'BATCH_SIZE': 64, 'N_PARAM': 34068, 'BACKBONE': 'linear', 'HIDDEN_SIZE': 8, 'N_BACK': 128, 'N_FWD': 1, 'TRAIN_LOSS': '0.06798770', 'VAL_LOSS': '0.04172036', 'VAL_NMSE': '-14.44157004', 'VAL_REDUCTION_LEVEL': '19.86017135', 'TEST_LOSS': '0.04078972', 'TEST_NMSE': '-13.78772140', 'TEST_REDUCTION_LEVEL': '20.18852797'}\n",
      "7000 iteration out of 7000.0 is complete\n"
     ]
    },
    {
     "name": "stderr",
     "output_type": "stream",
     "text": [
      "100%|████████████████████████████████████████| 192/192 [00:00<00:00, 711.44it/s]\n",
      "100%|████████████████████████████████████████| 192/192 [00:00<00:00, 654.75it/s]\n"
     ]
    },
    {
     "name": "stdout",
     "output_type": "stream",
     "text": [
      "Reduction_level: 20.1420138304049\n",
      "{'EPOCH': 0, 'iteration': 7000, 'n_iterations': '7000.00000000', 'TIME:': '0.24159937', 'LR': '0.00010000', 'BATCH_SIZE': 64, 'N_PARAM': 34068, 'BACKBONE': 'linear', 'HIDDEN_SIZE': 8, 'N_BACK': 128, 'N_FWD': 1, 'TRAIN_LOSS': '0.06447924', 'VAL_LOSS': '0.04390016', 'VAL_NMSE': '-14.22011495', 'VAL_REDUCTION_LEVEL': '19.84316118', 'TEST_LOSS': '0.04306256', 'TEST_NMSE': '-13.56205463', 'TEST_REDUCTION_LEVEL': '20.14201383'}\n",
      "Training Completed\n",
      "\n"
     ]
    },
    {
     "data": {
      "text/plain": [
       "<Figure size 1000x700 with 0 Axes>"
      ]
     },
     "metadata": {},
     "output_type": "display_data"
    }
   ],
   "source": [
    "run ../main.py "
   ]
  },
  {
   "cell_type": "code",
   "execution_count": 2,
   "id": "b2f0d8fd-3ae9-4d98-b60d-a4a16c6d71ab",
   "metadata": {},
   "outputs": [
    {
     "name": "stdout",
     "output_type": "stream",
     "text": [
      "::: Are Deterministic Algorithms Enabled:  False\n",
      "--------------------------------------------------------------------\n",
      "####################################################################################################\n",
      "# Step: Run PIM model to get predictions                                                           #\n",
      "####################################################################################################\n",
      "::: Available GPUs: None\n",
      "--------------------------------------------------------------------\n"
     ]
    },
    {
     "name": "stderr",
     "output_type": "stream",
     "text": [
      "/Users/svetlanakuzakina/Documents/Python Scripts/Сколтех/PIM/CNNs/OpenPIM_16TR/steps/run_main_part_pim.py:41: FutureWarning: You are using `torch.load` with `weights_only=False` (the current default value), which uses the default pickle module implicitly. It is possible to construct malicious pickle data which will execute arbitrary code during unpickling (See https://github.com/pytorch/pytorch/blob/main/SECURITY.md#untrusted-models for more details). In a future release, the default value for `weights_only` will be flipped to `True`. This limits the functions that could be executed during unpickling. Arbitrary objects will no longer be allowed to be loaded via this mode unless they are explicitly allowlisted by the user via `torch.serialization.add_safe_globals`. We recommend you start setting `weights_only=True` for any use case where you don't have full control of the loaded file. Please open an issue on GitHub for any issues related to this experimental feature.\n",
      "  checkpoint = torch.load(path_pim_model, map_location=torch.device('cpu'))\n",
      "100%|████████████████████████████████████████| 960/960 [00:01<00:00, 688.57it/s]\n"
     ]
    },
    {
     "name": "stdout",
     "output_type": "stream",
     "text": [
      "PIM outputs saved to the ./pim_out folder.\n"
     ]
    }
   ],
   "source": [
    "run ../main.py --step run_pim"
   ]
  },
  {
   "cell_type": "code",
   "execution_count": 3,
   "id": "5cb37b94-3e6c-455c-9e49-b4e87170ed8c",
   "metadata": {},
   "outputs": [
    {
     "name": "stdout",
     "output_type": "stream",
     "text": [
      "::: Are Deterministic Algorithms Enabled:  False\n",
      "--------------------------------------------------------------------\n",
      "####################################################################################################\n",
      "# Step: Train PIM model on residuals                                                               #\n",
      "####################################################################################################\n",
      "::: Available GPUs: None\n",
      "--------------------------------------------------------------------\n",
      "::: Number of PIM Model Parameters:  34068\n",
      "pim_model_id:  PIM_B_128_F_1_S_0_M_LINEAR_H_8_P_34068_STEP_train_res\n",
      "::: Best Model Save Path:  ./results/save/1TR_C20Nc1CD_E20Ne1CD_20250117_5m/linear/train_res/PIM_B_128_F_1_S_0_M_LINEAR_H_8_P_34068_STEP_train_res.pt\n",
      "::: Log-History     Path:  ./results/log/1TR_C20Nc1CD_E20Ne1CD_20250117_5m/linear/history/train_res/PIM_B_128_F_1_S_0_M_LINEAR_H_8_P_34068_STEP_train_res.csv\n",
      "::: Log-Best        Path:  ./results/log/1TR_C20Nc1CD_E20Ne1CD_20250117_5m/linear/best/train_res/PIM_B_128_F_1_S_0_M_LINEAR_H_8_P_34068_STEP_train_res.csv\n",
      "::: Best Model Save Path:  ./results/save/1TR_C20Nc1CD_E20Ne1CD_20250117_5m/linear/train_res/CH_0/PIM_B_128_F_1_S_0_M_LINEAR_H_8_P_34068_STEP_train_res.pt\n",
      "::: Log-History     Path:  ./results/log/1TR_C20Nc1CD_E20Ne1CD_20250117_5m/linear/history/train_res/CH_0/PIM_B_128_F_1_S_0_M_LINEAR_H_8_P_34068_STEP_train_res.csv\n",
      "::: Log-Best        Path:  ./results/log/1TR_C20Nc1CD_E20Ne1CD_20250117_5m/linear/best/train_res/CH_0/PIM_B_128_F_1_S_0_M_LINEAR_H_8_P_34068_STEP_train_res.csv\n"
     ]
    },
    {
     "name": "stderr",
     "output_type": "stream",
     "text": [
      "/opt/anaconda3/lib/python3.12/site-packages/torch/optim/lr_scheduler.py:60: UserWarning: The verbose parameter is deprecated. Please use get_last_lr() to access the learning rate.\n",
      "  warnings.warn(\n"
     ]
    },
    {
     "name": "stdout",
     "output_type": "stream",
     "text": [
      "1000 iteration out of 7000.0 is complete\n"
     ]
    },
    {
     "name": "stderr",
     "output_type": "stream",
     "text": [
      "100%|████████████████████████████████████████| 192/192 [00:00<00:00, 418.76it/s]\n",
      "/opt/anaconda3/lib/python3.12/site-packages/scipy/signal/_spectral_py.py:462: UserWarning: Input data is complex, switching to return_onesided=False\n",
      "  freqs, Pxx = csd(x, x, fs=fs, window=window, nperseg=nperseg,\n",
      "100%|████████████████████████████████████████| 192/192 [00:00<00:00, 788.59it/s]\n"
     ]
    },
    {
     "name": "stdout",
     "output_type": "stream",
     "text": [
      "Reduction_level: 1.1380835778461105\n",
      "{'EPOCH': 0, 'iteration': 1000, 'n_iterations': '7000.00000000', 'TIME:': '0.04073135', 'LR': '0.00010000', 'BATCH_SIZE': 64, 'N_PARAM': 34068, 'BACKBONE': 'linear', 'HIDDEN_SIZE': 8, 'N_BACK': 128, 'N_FWD': 1, 'TRAIN_LOSS': '0.92633124', 'VAL_LOSS': '0.83635134', 'VAL_NMSE': '-0.79741932', 'VAL_REDUCTION_LEVEL': '1.23248059', 'TEST_LOSS': '0.82623934', 'TEST_NMSE': '-0.65742500', 'TEST_REDUCTION_LEVEL': '1.13808358'}\n",
      ">>> saving best model (1.232481 -> 1.232481 Reduction_level) from epoch 0 to ./results/save/1TR_C20Nc1CD_E20Ne1CD_20250117_5m/linear/train_res/CH_0/PIM_B_128_F_1_S_0_M_LINEAR_H_8_P_34068_STEP_train_res.pt\n",
      "2000 iteration out of 7000.0 is complete\n"
     ]
    },
    {
     "name": "stderr",
     "output_type": "stream",
     "text": [
      "100%|████████████████████████████████████████| 192/192 [00:00<00:00, 986.62it/s]\n",
      "/opt/anaconda3/lib/python3.12/site-packages/scipy/signal/_spectral_py.py:462: UserWarning: Input data is complex, switching to return_onesided=False\n",
      "  freqs, Pxx = csd(x, x, fs=fs, window=window, nperseg=nperseg,\n",
      "100%|████████████████████████████████████████| 192/192 [00:00<00:00, 773.03it/s]\n"
     ]
    },
    {
     "name": "stdout",
     "output_type": "stream",
     "text": [
      "Reduction_level: 1.1884482959290352\n",
      "{'EPOCH': 0, 'iteration': 2000, 'n_iterations': '7000.00000000', 'TIME:': '0.07520685', 'LR': '0.00010000', 'BATCH_SIZE': 64, 'N_PARAM': 34068, 'BACKBONE': 'linear', 'HIDDEN_SIZE': 8, 'N_BACK': 128, 'N_FWD': 1, 'TRAIN_LOSS': '0.88617737', 'VAL_LOSS': '0.83550134', 'VAL_NMSE': '-0.80196097', 'VAL_REDUCTION_LEVEL': '1.24044609', 'TEST_LOSS': '0.82251565', 'TEST_NMSE': '-0.67568935', 'TEST_REDUCTION_LEVEL': '1.18844830'}\n",
      "3000 iteration out of 7000.0 is complete\n"
     ]
    },
    {
     "name": "stderr",
     "output_type": "stream",
     "text": [
      "100%|████████████████████████████████████████| 192/192 [00:00<00:00, 578.34it/s]\n",
      "100%|████████████████████████████████████████| 192/192 [00:00<00:00, 623.66it/s]\n"
     ]
    },
    {
     "name": "stdout",
     "output_type": "stream",
     "text": [
      "Reduction_level: 1.1312208182849943\n",
      "{'EPOCH': 0, 'iteration': 3000, 'n_iterations': '7000.00000000', 'TIME:': '0.11265322', 'LR': '0.00010000', 'BATCH_SIZE': 64, 'N_PARAM': 34068, 'BACKBONE': 'linear', 'HIDDEN_SIZE': 8, 'N_BACK': 128, 'N_FWD': 1, 'TRAIN_LOSS': '0.87045958', 'VAL_LOSS': '0.82864987', 'VAL_NMSE': '-0.83811998', 'VAL_REDUCTION_LEVEL': '1.23358042', 'TEST_LOSS': '0.81735084', 'TEST_NMSE': '-0.70223406', 'TEST_REDUCTION_LEVEL': '1.13122082'}\n",
      "4000 iteration out of 7000.0 is complete\n"
     ]
    },
    {
     "name": "stderr",
     "output_type": "stream",
     "text": [
      "100%|████████████████████████████████████████| 192/192 [00:00<00:00, 729.42it/s]\n",
      "100%|████████████████████████████████████████| 192/192 [00:00<00:00, 674.56it/s]\n"
     ]
    },
    {
     "name": "stdout",
     "output_type": "stream",
     "text": [
      "Reduction_level: 1.203099064753392\n",
      "{'EPOCH': 0, 'iteration': 4000, 'n_iterations': '7000.00000000', 'TIME:': '0.15089715', 'LR': '0.00010000', 'BATCH_SIZE': 64, 'N_PARAM': 34068, 'BACKBONE': 'linear', 'HIDDEN_SIZE': 8, 'N_BACK': 128, 'N_FWD': 1, 'TRAIN_LOSS': '0.86400650', 'VAL_LOSS': '0.82610441', 'VAL_NMSE': '-0.85128166', 'VAL_REDUCTION_LEVEL': '1.29037933', 'TEST_LOSS': '0.81385049', 'TEST_NMSE': '-0.71952805', 'TEST_REDUCTION_LEVEL': '1.20309906'}\n",
      "5000 iteration out of 7000.0 is complete\n"
     ]
    },
    {
     "name": "stderr",
     "output_type": "stream",
     "text": [
      "100%|████████████████████████████████████████| 192/192 [00:00<00:00, 661.75it/s]\n",
      "100%|████████████████████████████████████████| 192/192 [00:00<00:00, 767.66it/s]\n"
     ]
    },
    {
     "name": "stdout",
     "output_type": "stream",
     "text": [
      "Reduction_level: 1.2532161734915093\n",
      "{'EPOCH': 0, 'iteration': 5000, 'n_iterations': '7000.00000000', 'TIME:': '0.18749723', 'LR': '0.00010000', 'BATCH_SIZE': 64, 'N_PARAM': 34068, 'BACKBONE': 'linear', 'HIDDEN_SIZE': 8, 'N_BACK': 128, 'N_FWD': 1, 'TRAIN_LOSS': '0.85888362', 'VAL_LOSS': '0.82609009', 'VAL_NMSE': '-0.85138872', 'VAL_REDUCTION_LEVEL': '1.29341551', 'TEST_LOSS': '0.81206272', 'TEST_NMSE': '-0.72964683', 'TEST_REDUCTION_LEVEL': '1.25321617'}\n",
      "6000 iteration out of 7000.0 is complete\n"
     ]
    },
    {
     "name": "stderr",
     "output_type": "stream",
     "text": [
      "100%|████████████████████████████████████████| 192/192 [00:00<00:00, 728.18it/s]\n",
      "100%|████████████████████████████████████████| 192/192 [00:00<00:00, 613.71it/s]\n"
     ]
    },
    {
     "name": "stdout",
     "output_type": "stream",
     "text": [
      "Reduction_level: 1.2694762650667997\n",
      "{'EPOCH': 0, 'iteration': 6000, 'n_iterations': '7000.00000000', 'TIME:': '0.22832970', 'LR': '0.00010000', 'BATCH_SIZE': 64, 'N_PARAM': 34068, 'BACKBONE': 'linear', 'HIDDEN_SIZE': 8, 'N_BACK': 128, 'N_FWD': 1, 'TRAIN_LOSS': '0.85503446', 'VAL_LOSS': '0.82468463', 'VAL_NMSE': '-0.85868530', 'VAL_REDUCTION_LEVEL': '1.32198290', 'TEST_LOSS': '0.81343272', 'TEST_NMSE': '-0.72209507', 'TEST_REDUCTION_LEVEL': '1.26947627'}\n",
      "7000 iteration out of 7000.0 is complete\n"
     ]
    },
    {
     "name": "stderr",
     "output_type": "stream",
     "text": [
      "100%|████████████████████████████████████████| 192/192 [00:00<00:00, 612.80it/s]\n",
      "100%|████████████████████████████████████████| 192/192 [00:00<00:00, 583.11it/s]\n"
     ]
    },
    {
     "name": "stdout",
     "output_type": "stream",
     "text": [
      "Reduction_level: 1.0591263585843436\n",
      "{'EPOCH': 0, 'iteration': 7000, 'n_iterations': '7000.00000000', 'TIME:': '0.26499097', 'LR': '0.00010000', 'BATCH_SIZE': 64, 'N_PARAM': 34068, 'BACKBONE': 'linear', 'HIDDEN_SIZE': 8, 'N_BACK': 128, 'N_FWD': 1, 'TRAIN_LOSS': '0.85232868', 'VAL_LOSS': '0.83571723', 'VAL_NMSE': '-0.80161564', 'VAL_REDUCTION_LEVEL': '1.19383788', 'TEST_LOSS': '0.82566981', 'TEST_NMSE': '-0.65900944', 'TEST_REDUCTION_LEVEL': '1.05912636'}\n",
      ">>> saving best model (1.232481 -> 1.193838 Reduction_level) from epoch 0 to ./results/save/1TR_C20Nc1CD_E20Ne1CD_20250117_5m/linear/train_res/CH_0/PIM_B_128_F_1_S_0_M_LINEAR_H_8_P_34068_STEP_train_res.pt\n",
      "Training Completed\n",
      "\n"
     ]
    },
    {
     "name": "stderr",
     "output_type": "stream",
     "text": [
      "/opt/anaconda3/lib/python3.12/site-packages/scipy/signal/_spectral_py.py:462: UserWarning: Input data is complex, switching to return_onesided=False\n",
      "  freqs, Pxx = csd(x, x, fs=fs, window=window, nperseg=nperseg,\n"
     ]
    }
   ],
   "source": [
    "run ../main.py --step train_res"
   ]
  },
  {
   "cell_type": "code",
   "execution_count": null,
   "id": "147ecfae-e763-46f7-8a98-cc2519f26965",
   "metadata": {},
   "outputs": [],
   "source": []
  },
  {
   "cell_type": "code",
   "execution_count": null,
   "id": "b741a681-29ef-412c-8488-82afc32965ee",
   "metadata": {},
   "outputs": [],
   "source": []
  },
  {
   "cell_type": "code",
   "execution_count": null,
   "id": "e7a20d0b-536a-4087-bbbd-1694c22fbc36",
   "metadata": {},
   "outputs": [],
   "source": []
  },
  {
   "cell_type": "code",
   "execution_count": null,
   "id": "3540cb03-b497-461d-87b1-c835265a4713",
   "metadata": {},
   "outputs": [],
   "source": []
  },
  {
   "cell_type": "code",
   "execution_count": null,
   "id": "920c3196-56ad-472e-a902-b406cdd0fa62",
   "metadata": {},
   "outputs": [],
   "source": []
  },
  {
   "cell_type": "code",
   "execution_count": null,
   "id": "df4d5374-fca6-4a3a-9e3f-4d06908e29d5",
   "metadata": {},
   "outputs": [],
   "source": []
  }
 ],
 "metadata": {
  "kernelspec": {
   "display_name": "Python 3 (ipykernel)",
   "language": "python",
   "name": "python3"
  },
  "language_info": {
   "codemirror_mode": {
    "name": "ipython",
    "version": 3
   },
   "file_extension": ".py",
   "mimetype": "text/x-python",
   "name": "python",
   "nbconvert_exporter": "python",
   "pygments_lexer": "ipython3",
   "version": "3.12.4"
  }
 },
 "nbformat": 4,
 "nbformat_minor": 5
}
