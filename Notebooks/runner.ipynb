{
 "cells": [
  {
   "cell_type": "code",
   "execution_count": 1,
   "id": "a7ed115d-c989-4e4f-b5cc-a2fef7c41caf",
   "metadata": {},
   "outputs": [
    {
     "name": "stderr",
     "output_type": "stream",
     "text": [
      "\u001b[32m2025-04-24 14:09:36.701\u001b[0m | \u001b[1mINFO    \u001b[0m | \u001b[36mrunner\u001b[0m:\u001b[36mreproducible\u001b[0m:\u001b[36m105\u001b[0m - \u001b[1m::: Are Deterministic Algorithms Enabled:  False\u001b[0m\n",
      "\u001b[32m2025-04-24 14:09:36.702\u001b[0m | \u001b[1mINFO    \u001b[0m | \u001b[36mrunner\u001b[0m:\u001b[36mset_device\u001b[0m:\u001b[36m127\u001b[0m - \u001b[1m::: Available GPUs: None\u001b[0m\n",
      "\u001b[32m2025-04-24 14:09:36.703\u001b[0m | \u001b[1mINFO    \u001b[0m | \u001b[36mrunner\u001b[0m:\u001b[36mset_device\u001b[0m:\u001b[36m128\u001b[0m - \u001b[1m--------------------------------------------------------------------\u001b[0m\n",
      "\u001b[32m2025-04-24 14:09:36.849\u001b[0m | \u001b[32m\u001b[1mSUCCESS \u001b[0m | \u001b[36mmodules.data_collector\u001b[0m:\u001b[36mload_and_split_data\u001b[0m:\u001b[36m132\u001b[0m - \u001b[32m\u001b[1mData load and split is done\u001b[0m\n"
     ]
    },
    {
     "name": "stdout",
     "output_type": "stream",
     "text": [
      "Concidered PIM_type:  total\n"
     ]
    },
    {
     "name": "stderr",
     "output_type": "stream",
     "text": [
      "\u001b[32m2025-04-24 14:09:38.118\u001b[0m | \u001b[32m\u001b[1mSUCCESS \u001b[0m | \u001b[36mmodules.data_cascaded\u001b[0m:\u001b[36mprepare_dataloaders\u001b[0m:\u001b[36m94\u001b[0m - \u001b[32m\u001b[1mDataloaders were created\u001b[0m\n",
      "\u001b[32m2025-04-24 14:09:38.126\u001b[0m | \u001b[1mINFO    \u001b[0m | \u001b[36msteps.train_pim_cascaded\u001b[0m:\u001b[36mmain\u001b[0m:\u001b[36m45\u001b[0m - \u001b[1m::: Number of External PIM Model Parameters:   2119\u001b[0m\n",
      "\u001b[32m2025-04-24 14:09:38.127\u001b[0m | \u001b[1mINFO    \u001b[0m | \u001b[36mrunner\u001b[0m:\u001b[36mbuild_logger\u001b[0m:\u001b[36m71\u001b[0m - \u001b[1m::: Best Model Save Path:  ./results/test/save/16TR_C25Nc16CD_CL_E20Ne1CD_20250117_1L/linear/first_model_ext/PIM_B_30_F_1_S_0_M_EXTLINEAR_H_8_P_2119.pt\u001b[0m\n",
      "\u001b[32m2025-04-24 14:09:38.127\u001b[0m | \u001b[1mINFO    \u001b[0m | \u001b[36mrunner\u001b[0m:\u001b[36mbuild_logger\u001b[0m:\u001b[36m74\u001b[0m - \u001b[1m::: Log-History     Path: ./results/test/log/16TR_C25Nc16CD_CL_E20Ne1CD_20250117_1L/linear/history/PIM_B_30_F_1_S_0_M_EXTLINEAR_H_8_P_2119.csv\u001b[0m\n",
      "\u001b[32m2025-04-24 14:09:38.127\u001b[0m | \u001b[1mINFO    \u001b[0m | \u001b[36mrunner\u001b[0m:\u001b[36mbuild_logger\u001b[0m:\u001b[36m77\u001b[0m - \u001b[1m::: Log-Best        Path: ./results/test/log/16TR_C25Nc16CD_CL_E20Ne1CD_20250117_1L/linear/best/PIM_B_30_F_1_S_0_M_EXTLINEAR_H_8_P_2119.csv\u001b[0m\n",
      "/opt/anaconda3/lib/python3.12/site-packages/torch/optim/lr_scheduler.py:60: UserWarning: The verbose parameter is deprecated. Please use get_last_lr() to access the learning rate.\n",
      "  warnings.warn(\n",
      "\u001b[32m2025-04-24 14:09:38.547\u001b[0m | \u001b[1mINFO    \u001b[0m | \u001b[36mmodules.train_funcs\u001b[0m:\u001b[36mtrain_model\u001b[0m:\u001b[36m83\u001b[0m - \u001b[1mTrainng sample shapes X: torch.Size([64, 32, 16, 2]) Y: torch.Size([64, 16, 2])\u001b[0m\n",
      "\u001b[32m2025-04-24 14:09:38.563\u001b[0m | \u001b[1mINFO    \u001b[0m | \u001b[36mmodules.train_funcs\u001b[0m:\u001b[36mtrain_model\u001b[0m:\u001b[36m92\u001b[0m - \u001b[1mout shape: torch.Size([64, 16, 2]) target shape: torch.Size([64, 16, 2])\u001b[0m\n",
      "/opt/anaconda3/lib/python3.12/site-packages/adabound/adabound.py:94: UserWarning: This overload of add_ is deprecated:\n",
      "\tadd_(Number alpha, Tensor other)\n",
      "Consider using one of the following signatures instead:\n",
      "\tadd_(Tensor other, *, Number alpha = 1) (Triggered internally at /Users/runner/work/pytorch/pytorch/pytorch/torch/csrc/utils/python_arg_parser.cpp:1581.)\n",
      "  exp_avg.mul_(beta1).add_(1 - beta1, grad)\n",
      "\u001b[32m2025-04-24 14:09:42.059\u001b[0m | \u001b[1mINFO    \u001b[0m | \u001b[36mmodules.train_funcs\u001b[0m:\u001b[36mtrain_model\u001b[0m:\u001b[36m106\u001b[0m - \u001b[1m100 iteration out of 100.0 is complete\u001b[0m\n",
      "100%|█████████████████████████████████████████| 768/768 [00:07<00:00, 97.30it/s]\n",
      "\u001b[32m2025-04-24 14:09:50.592\u001b[0m | \u001b[32m\u001b[1mSUCCESS \u001b[0m | \u001b[36mmodules.train_funcs\u001b[0m:\u001b[36mtrain_model\u001b[0m:\u001b[36m132\u001b[0m - \u001b[32m\u001b[1mMean Reduction_level val: -0.18496322095720652\u001b[0m\n",
      "\u001b[32m2025-04-24 14:09:50.593\u001b[0m | \u001b[32m\u001b[1mSUCCESS \u001b[0m | \u001b[36mmodules.train_funcs\u001b[0m:\u001b[36mtrain_model\u001b[0m:\u001b[36m135\u001b[0m - \u001b[32m\u001b[1mReduction_level val: {'CH_0': -0.2191569497967336, 'CH_1': -0.05349564548365038, 'CH_2': 0.3317273603458304, 'CH_3': 0.13741002507033784, 'CH_4': -0.17225999010444326, 'CH_5': -0.05140371045491321, 'CH_6': 0.011390230039850735, 'CH_7': -0.6184890369396072, 'CH_8': -0.28719178121516364, 'CH_9': -0.3347266145776615, 'CH_10': -0.1729314414066394, 'CH_11': -1.6735994961847567, 'CH_12': 0.0326715352379523, 'CH_13': 0.10218704251199995, 'CH_14': 0.09120903422054027, 'CH_15': -0.08275209657824689}\u001b[0m\n",
      "100%|█████████████████████████████████████████| 768/768 [00:08<00:00, 95.39it/s]\n",
      "\u001b[32m2025-04-24 14:09:59.264\u001b[0m | \u001b[32m\u001b[1mSUCCESS \u001b[0m | \u001b[36mmodules.train_funcs\u001b[0m:\u001b[36mtrain_model\u001b[0m:\u001b[36m132\u001b[0m - \u001b[32m\u001b[1mMean Reduction_level test: -0.1911410307238448\u001b[0m\n",
      "\u001b[32m2025-04-24 14:09:59.265\u001b[0m | \u001b[32m\u001b[1mSUCCESS \u001b[0m | \u001b[36mmodules.train_funcs\u001b[0m:\u001b[36mtrain_model\u001b[0m:\u001b[36m135\u001b[0m - \u001b[32m\u001b[1mReduction_level test: {'CH_0': -0.26105467103725744, 'CH_1': -0.056405412534189736, 'CH_2': 0.2767576492300492, 'CH_3': 0.03743830302666851, 'CH_4': -0.2010189869293626, 'CH_5': -0.15553651684483327, 'CH_6': -0.05363753874196675, 'CH_7': -0.5430956953664463, 'CH_8': -0.14340698430097376, 'CH_9': -0.30381354753800593, 'CH_10': -0.26264832346702605, 'CH_11': -1.5782979071622165, 'CH_12': -0.01287963188676855, 'CH_13': 0.13172339951550072, 'CH_14': 0.1082641424021702, 'CH_15': -0.04064476994685862}\u001b[0m\n",
      "\u001b[32m2025-04-24 14:10:02.414\u001b[0m | \u001b[1mINFO    \u001b[0m | \u001b[36mmodules.train_funcs\u001b[0m:\u001b[36mtrain_model\u001b[0m:\u001b[36m185\u001b[0m - \u001b[1mTraining Completed\n",
      "\u001b[0m\n"
     ]
    },
    {
     "name": "stdout",
     "output_type": "stream",
     "text": [
      ">>> saving best model (0.014884 -> 0.014884 loss) from epoch 0 to ./results/test/save/16TR_C25Nc16CD_CL_E20Ne1CD_20250117_1L/linear/first_model_ext/PIM_B_30_F_1_S_0_M_EXTLINEAR_H_8_P_2119.pt\n"
     ]
    },
    {
     "name": "stderr",
     "output_type": "stream",
     "text": [
      "100%|███████████████████████████████████████| 2304/2304 [00:23<00:00, 99.19it/s]\n",
      "100%|████████████████████████████████████████| 768/768 [00:07<00:00, 100.48it/s]\n",
      "100%|█████████████████████████████████████████| 768/768 [00:07<00:00, 99.66it/s]\n",
      "\u001b[32m2025-04-24 14:10:42.911\u001b[0m | \u001b[32m\u001b[1mSUCCESS \u001b[0m | \u001b[36mmodules.data_cascaded\u001b[0m:\u001b[36mprepare_dataloaders\u001b[0m:\u001b[36m94\u001b[0m - \u001b[32m\u001b[1mDataloaders were created\u001b[0m\n",
      "\u001b[32m2025-04-24 14:10:42.934\u001b[0m | \u001b[1mINFO    \u001b[0m | \u001b[36msteps.train_pim_cascaded\u001b[0m:\u001b[36mmain\u001b[0m:\u001b[36m113\u001b[0m - \u001b[1m::: Number of Leakage PIM Model Parameters:   2052\u001b[0m\n",
      "\u001b[32m2025-04-24 14:10:42.935\u001b[0m | \u001b[1mINFO    \u001b[0m | \u001b[36mrunner\u001b[0m:\u001b[36mbuild_logger\u001b[0m:\u001b[36m71\u001b[0m - \u001b[1m::: Best Model Save Path:  ./results/test/save/16TR_C25Nc16CD_CL_E20Ne1CD_20250117_1L/linear/second_model_int/PIM_B_30_F_1_S_0_M_LEAKLINEAR_H_8_P_2052.pt\u001b[0m\n",
      "\u001b[32m2025-04-24 14:10:42.936\u001b[0m | \u001b[1mINFO    \u001b[0m | \u001b[36mrunner\u001b[0m:\u001b[36mbuild_logger\u001b[0m:\u001b[36m74\u001b[0m - \u001b[1m::: Log-History     Path: ./results/test/log/16TR_C25Nc16CD_CL_E20Ne1CD_20250117_1L/linear/history/PIM_B_30_F_1_S_0_M_LEAKLINEAR_H_8_P_2052.csv\u001b[0m\n",
      "\u001b[32m2025-04-24 14:10:42.937\u001b[0m | \u001b[1mINFO    \u001b[0m | \u001b[36mrunner\u001b[0m:\u001b[36mbuild_logger\u001b[0m:\u001b[36m77\u001b[0m - \u001b[1m::: Log-Best        Path: ./results/test/log/16TR_C25Nc16CD_CL_E20Ne1CD_20250117_1L/linear/best/PIM_B_30_F_1_S_0_M_LEAKLINEAR_H_8_P_2052.csv\u001b[0m\n",
      "/opt/anaconda3/lib/python3.12/site-packages/torch/optim/lr_scheduler.py:60: UserWarning: The verbose parameter is deprecated. Please use get_last_lr() to access the learning rate.\n",
      "  warnings.warn(\n",
      "\u001b[32m2025-04-24 14:10:42.972\u001b[0m | \u001b[1mINFO    \u001b[0m | \u001b[36mmodules.train_funcs\u001b[0m:\u001b[36mtrain_model\u001b[0m:\u001b[36m83\u001b[0m - \u001b[1mTrainng sample shapes X: torch.Size([64, 32, 16, 2]) Y: torch.Size([64, 16, 2])\u001b[0m\n",
      "\u001b[32m2025-04-24 14:10:43.007\u001b[0m | \u001b[1mINFO    \u001b[0m | \u001b[36mmodules.train_funcs\u001b[0m:\u001b[36mtrain_model\u001b[0m:\u001b[36m92\u001b[0m - \u001b[1mout shape: torch.Size([64, 16, 2]) target shape: torch.Size([64, 16, 2])\u001b[0m\n",
      "\u001b[32m2025-04-24 14:10:53.500\u001b[0m | \u001b[1mINFO    \u001b[0m | \u001b[36mmodules.train_funcs\u001b[0m:\u001b[36mtrain_model\u001b[0m:\u001b[36m106\u001b[0m - \u001b[1m100 iteration out of 100.0 is complete\u001b[0m\n",
      "100%|█████████████████████████████████████████| 768/768 [00:16<00:00, 46.06it/s]\n",
      "\u001b[32m2025-04-24 14:11:10.824\u001b[0m | \u001b[32m\u001b[1mSUCCESS \u001b[0m | \u001b[36mmodules.train_funcs\u001b[0m:\u001b[36mtrain_model\u001b[0m:\u001b[36m132\u001b[0m - \u001b[32m\u001b[1mMean Reduction_level val: -0.2873525525750873\u001b[0m\n",
      "\u001b[32m2025-04-24 14:11:10.824\u001b[0m | \u001b[32m\u001b[1mSUCCESS \u001b[0m | \u001b[36mmodules.train_funcs\u001b[0m:\u001b[36mtrain_model\u001b[0m:\u001b[36m135\u001b[0m - \u001b[32m\u001b[1mReduction_level val: {'CH_0': -0.4303357142809716, 'CH_1': 0.2826218877132334, 'CH_2': -0.23308101111067714, 'CH_3': 0.18883262591657513, 'CH_4': 0.22732923607568978, 'CH_5': 0.639914157692445, 'CH_6': 0.8099021557582873, 'CH_7': -2.1809704936882355, 'CH_8': 0.000562183646970027, 'CH_9': 0.10329122379017264, 'CH_10': -0.1703666220945479, 'CH_11': -0.5810097941985859, 'CH_12': -1.4550404593575053, 'CH_13': -0.4416810073304589, 'CH_14': -1.2581822940198961, 'CH_15': -0.09942691571389162}\u001b[0m\n",
      "100%|█████████████████████████████████████████| 768/768 [00:16<00:00, 45.72it/s]\n",
      "\u001b[32m2025-04-24 14:11:28.235\u001b[0m | \u001b[32m\u001b[1mSUCCESS \u001b[0m | \u001b[36mmodules.train_funcs\u001b[0m:\u001b[36mtrain_model\u001b[0m:\u001b[36m132\u001b[0m - \u001b[32m\u001b[1mMean Reduction_level test: -0.19666363106788065\u001b[0m\n",
      "\u001b[32m2025-04-24 14:11:28.236\u001b[0m | \u001b[32m\u001b[1mSUCCESS \u001b[0m | \u001b[36mmodules.train_funcs\u001b[0m:\u001b[36mtrain_model\u001b[0m:\u001b[36m135\u001b[0m - \u001b[32m\u001b[1mReduction_level test: {'CH_0': -0.2106264905611539, 'CH_1': 0.27620403525623516, 'CH_2': 0.05608502998116904, 'CH_3': 0.1840516030049244, 'CH_4': 0.4996633518942062, 'CH_5': 0.5166268285287003, 'CH_6': 1.0881745659319648, 'CH_7': -1.9982778656749502, 'CH_8': 0.11577178720683179, 'CH_9': 0.11845749243103398, 'CH_10': 0.1709237392350289, 'CH_11': -0.5515165293039388, 'CH_12': -1.2945807890228025, 'CH_13': -0.4019013298554128, 'CH_14': -1.4561992697572137, 'CH_15': -0.2594742563807131}\u001b[0m\n",
      "\u001b[32m2025-04-24 14:11:31.309\u001b[0m | \u001b[1mINFO    \u001b[0m | \u001b[36mmodules.train_funcs\u001b[0m:\u001b[36mtrain_model\u001b[0m:\u001b[36m185\u001b[0m - \u001b[1mTraining Completed\n",
      "\u001b[0m\n"
     ]
    },
    {
     "name": "stdout",
     "output_type": "stream",
     "text": [
      ">>> saving best model (0.007759 -> 0.007759 loss) from epoch 0 to ./results/test/save/16TR_C25Nc16CD_CL_E20Ne1CD_20250117_1L/linear/second_model_int/PIM_B_30_F_1_S_0_M_LEAKLINEAR_H_8_P_2052.pt\n"
     ]
    },
    {
     "name": "stderr",
     "output_type": "stream",
     "text": [
      "100%|███████████████████████████████████████| 2304/2304 [00:50<00:00, 45.90it/s]\n",
      "100%|█████████████████████████████████████████| 768/768 [00:16<00:00, 46.22it/s]\n",
      "100%|█████████████████████████████████████████| 768/768 [00:16<00:00, 46.12it/s]\n",
      "\u001b[32m2025-04-24 14:12:56.721\u001b[0m | \u001b[32m\u001b[1mSUCCESS \u001b[0m | \u001b[36mmodules.data_cascaded\u001b[0m:\u001b[36mprepare_dataloaders\u001b[0m:\u001b[36m94\u001b[0m - \u001b[32m\u001b[1mDataloaders were created\u001b[0m\n",
      "\u001b[32m2025-04-24 14:12:56.749\u001b[0m | \u001b[1mINFO    \u001b[0m | \u001b[36msteps.train_pim_cascaded\u001b[0m:\u001b[36mmain\u001b[0m:\u001b[36m181\u001b[0m - \u001b[1m::: Number of Internal PIM Model Parameters:   1156\u001b[0m\n",
      "\u001b[32m2025-04-24 14:12:56.750\u001b[0m | \u001b[1mINFO    \u001b[0m | \u001b[36mrunner\u001b[0m:\u001b[36mbuild_logger\u001b[0m:\u001b[36m71\u001b[0m - \u001b[1m::: Best Model Save Path:  ./results/test/save/16TR_C25Nc16CD_CL_E20Ne1CD_20250117_1L/linear/third_model_int/PIM_B_30_F_1_S_0_M_INTLINEAR_H_8_P_1156.pt\u001b[0m\n",
      "\u001b[32m2025-04-24 14:12:56.751\u001b[0m | \u001b[1mINFO    \u001b[0m | \u001b[36mrunner\u001b[0m:\u001b[36mbuild_logger\u001b[0m:\u001b[36m74\u001b[0m - \u001b[1m::: Log-History     Path: ./results/test/log/16TR_C25Nc16CD_CL_E20Ne1CD_20250117_1L/linear/history/PIM_B_30_F_1_S_0_M_INTLINEAR_H_8_P_1156.csv\u001b[0m\n",
      "\u001b[32m2025-04-24 14:12:56.751\u001b[0m | \u001b[1mINFO    \u001b[0m | \u001b[36mrunner\u001b[0m:\u001b[36mbuild_logger\u001b[0m:\u001b[36m77\u001b[0m - \u001b[1m::: Log-Best        Path: ./results/test/log/16TR_C25Nc16CD_CL_E20Ne1CD_20250117_1L/linear/best/PIM_B_30_F_1_S_0_M_INTLINEAR_H_8_P_1156.csv\u001b[0m\n",
      "/opt/anaconda3/lib/python3.12/site-packages/torch/optim/lr_scheduler.py:60: UserWarning: The verbose parameter is deprecated. Please use get_last_lr() to access the learning rate.\n",
      "  warnings.warn(\n",
      "\u001b[32m2025-04-24 14:12:56.793\u001b[0m | \u001b[1mINFO    \u001b[0m | \u001b[36mmodules.train_funcs\u001b[0m:\u001b[36mtrain_model\u001b[0m:\u001b[36m83\u001b[0m - \u001b[1mTrainng sample shapes X: torch.Size([64, 32, 16, 2]) Y: torch.Size([64, 16, 2])\u001b[0m\n",
      "\u001b[32m2025-04-24 14:12:56.811\u001b[0m | \u001b[1mINFO    \u001b[0m | \u001b[36mmodules.train_funcs\u001b[0m:\u001b[36mtrain_model\u001b[0m:\u001b[36m92\u001b[0m - \u001b[1mout shape: torch.Size([64, 16, 2]) target shape: torch.Size([64, 16, 2])\u001b[0m\n",
      "\u001b[32m2025-04-24 14:13:00.740\u001b[0m | \u001b[1mINFO    \u001b[0m | \u001b[36mmodules.train_funcs\u001b[0m:\u001b[36mtrain_model\u001b[0m:\u001b[36m106\u001b[0m - \u001b[1m100 iteration out of 100.0 is complete\u001b[0m\n",
      "100%|█████████████████████████████████████████| 767/767 [00:08<00:00, 91.00it/s]\n",
      "\u001b[32m2025-04-24 14:13:09.773\u001b[0m | \u001b[32m\u001b[1mSUCCESS \u001b[0m | \u001b[36mmodules.train_funcs\u001b[0m:\u001b[36mtrain_model\u001b[0m:\u001b[36m132\u001b[0m - \u001b[32m\u001b[1mMean Reduction_level val: -1.2187886703061914\u001b[0m\n",
      "\u001b[32m2025-04-24 14:13:09.774\u001b[0m | \u001b[32m\u001b[1mSUCCESS \u001b[0m | \u001b[36mmodules.train_funcs\u001b[0m:\u001b[36mtrain_model\u001b[0m:\u001b[36m135\u001b[0m - \u001b[32m\u001b[1mReduction_level val: {'CH_0': -0.24332533744477303, 'CH_1': -0.019501952685999413, 'CH_2': -0.49304856743558645, 'CH_3': -0.22953622587552758, 'CH_4': -0.6000909666004688, 'CH_5': -2.326841813712825, 'CH_6': -1.2055375971065416, 'CH_7': -0.1446829826882663, 'CH_8': -3.423127628416438, 'CH_9': -0.7812765699304904, 'CH_10': -6.053551113212883, 'CH_11': -2.44832912586304, 'CH_12': -0.37408804482947744, 'CH_13': -0.13004108813279203, 'CH_14': -0.9384214790286265, 'CH_15': -0.08921823193532674}\u001b[0m\n",
      "100%|█████████████████████████████████████████| 767/767 [00:08<00:00, 90.94it/s]\n",
      "\u001b[32m2025-04-24 14:13:18.801\u001b[0m | \u001b[32m\u001b[1mSUCCESS \u001b[0m | \u001b[36mmodules.train_funcs\u001b[0m:\u001b[36mtrain_model\u001b[0m:\u001b[36m132\u001b[0m - \u001b[32m\u001b[1mMean Reduction_level test: -1.226720995111393\u001b[0m\n",
      "\u001b[32m2025-04-24 14:13:18.801\u001b[0m | \u001b[32m\u001b[1mSUCCESS \u001b[0m | \u001b[36mmodules.train_funcs\u001b[0m:\u001b[36mtrain_model\u001b[0m:\u001b[36m135\u001b[0m - \u001b[32m\u001b[1mReduction_level test: {'CH_0': -0.26446074865463487, 'CH_1': -0.4710922710700345, 'CH_2': -0.3972059833906556, 'CH_3': -0.30559700476185014, 'CH_4': -0.6461389900590149, 'CH_5': -2.3064252302591584, 'CH_6': -0.8582642379187106, 'CH_7': -0.2220520869264888, 'CH_8': -3.7233633635890655, 'CH_9': -0.6479797750024687, 'CH_10': -6.5279129940061225, 'CH_11': -1.9598340606713336, 'CH_12': -0.34434076298772, 'CH_13': -0.17645016120140156, 'CH_14': -0.7042343505476367, 'CH_15': -0.07218390073599323}\u001b[0m\n",
      "\u001b[32m2025-04-24 14:13:21.817\u001b[0m | \u001b[1mINFO    \u001b[0m | \u001b[36mmodules.train_funcs\u001b[0m:\u001b[36mtrain_model\u001b[0m:\u001b[36m185\u001b[0m - \u001b[1mTraining Completed\n",
      "\u001b[0m\n"
     ]
    },
    {
     "name": "stdout",
     "output_type": "stream",
     "text": [
      ">>> saving best model (0.009831 -> 0.009831 loss) from epoch 0 to ./results/test/save/16TR_C25Nc16CD_CL_E20Ne1CD_20250117_1L/linear/third_model_int/PIM_B_30_F_1_S_0_M_INTLINEAR_H_8_P_1156.pt\n"
     ]
    },
    {
     "data": {
      "text/plain": [
       "<Figure size 1000x700 with 0 Axes>"
      ]
     },
     "metadata": {},
     "output_type": "display_data"
    },
    {
     "data": {
      "text/plain": [
       "<Figure size 1000x700 with 0 Axes>"
      ]
     },
     "metadata": {},
     "output_type": "display_data"
    },
    {
     "data": {
      "text/plain": [
       "<Figure size 1000x700 with 0 Axes>"
      ]
     },
     "metadata": {},
     "output_type": "display_data"
    }
   ],
   "source": [
    "run ../main.py --PIM_backbone linear"
   ]
  },
  {
   "cell_type": "code",
   "execution_count": null,
   "id": "e7a20d0b-536a-4087-bbbd-1694c22fbc36",
   "metadata": {},
   "outputs": [],
   "source": []
  },
  {
   "cell_type": "code",
   "execution_count": null,
   "id": "3540cb03-b497-461d-87b1-c835265a4713",
   "metadata": {},
   "outputs": [],
   "source": []
  },
  {
   "cell_type": "code",
   "execution_count": null,
   "id": "920c3196-56ad-472e-a902-b406cdd0fa62",
   "metadata": {},
   "outputs": [],
   "source": []
  },
  {
   "cell_type": "code",
   "execution_count": null,
   "id": "df4d5374-fca6-4a3a-9e3f-4d06908e29d5",
   "metadata": {},
   "outputs": [],
   "source": []
  }
 ],
 "metadata": {
  "kernelspec": {
   "display_name": "Python 3 (ipykernel)",
   "language": "python",
   "name": "python3"
  },
  "language_info": {
   "codemirror_mode": {
    "name": "ipython",
    "version": 3
   },
   "file_extension": ".py",
   "mimetype": "text/x-python",
   "name": "python",
   "nbconvert_exporter": "python",
   "pygments_lexer": "ipython3",
   "version": "3.12.2"
  }
 },
 "nbformat": 4,
 "nbformat_minor": 5
}
