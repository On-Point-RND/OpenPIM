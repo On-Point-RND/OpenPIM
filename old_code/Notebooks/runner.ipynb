{
 "cells": [
  {
   "cell_type": "code",
   "execution_count": 1,
   "id": "6ee93ec2-bd4e-4f0d-bb69-f805e7ba9e98",
   "metadata": {},
   "outputs": [],
   "source": [
    "# run ../Experiments/run_experiments-Copy1.py simple 0 10 10 50000 simple_experiment ../Results/"
   ]
  },
  {
   "cell_type": "code",
   "execution_count": null,
   "id": "34c986f5-dff0-41c8-9327-8f0ef25a1f2a",
   "metadata": {},
   "outputs": [],
   "source": []
  },
  {
   "cell_type": "code",
   "execution_count": 2,
   "id": "c3416624-ad9f-4f0c-9fb7-8055ea14966a",
   "metadata": {},
   "outputs": [
    {
     "name": "stdout",
     "output_type": "stream",
     "text": [
      "***************************************************************************************************\n",
      "Running experiment: simple_experiment__back_19_fwd_4\n",
      "Metric on train sample:  5.502544354866816\n",
      "Metric on test sample:  -2.2627392624920772\n"
     ]
    }
   ],
   "source": [
    "run ../Experiments/runner.py 0 16L"
   ]
  },
  {
   "cell_type": "code",
   "execution_count": 3,
   "id": "76f75608-703d-47d3-b132-03d9b2c0b2c9",
   "metadata": {},
   "outputs": [
    {
     "data": {
      "text/plain": [
       "2.0"
      ]
     },
     "execution_count": 3,
     "metadata": {},
     "output_type": "execute_result"
    }
   ],
   "source": [
    "import numpy as np\n",
    "np.mean([1,2,3])"
   ]
  },
  {
   "cell_type": "code",
   "execution_count": null,
   "id": "244c8ff3-9200-4ec6-b3c3-6465e6062510",
   "metadata": {},
   "outputs": [],
   "source": []
  },
  {
   "cell_type": "code",
   "execution_count": null,
   "id": "2d9c534a-bbeb-4bc6-bd95-ef02a2684476",
   "metadata": {},
   "outputs": [],
   "source": []
  },
  {
   "cell_type": "code",
   "execution_count": null,
   "id": "bf87b4bd-d927-491d-921b-60f37a260dc4",
   "metadata": {},
   "outputs": [],
   "source": []
  },
  {
   "cell_type": "code",
   "execution_count": null,
   "id": "f34b3b92-f34d-46b5-867c-1417a5b7921c",
   "metadata": {},
   "outputs": [],
   "source": []
  },
  {
   "cell_type": "code",
   "execution_count": null,
   "id": "0af9e409-a622-4d69-b937-e390e09587c0",
   "metadata": {},
   "outputs": [],
   "source": []
  },
  {
   "cell_type": "code",
   "execution_count": null,
   "id": "2d24c638-22bb-47c6-a1dc-cbd8ffc64f90",
   "metadata": {},
   "outputs": [],
   "source": []
  },
  {
   "cell_type": "code",
   "execution_count": null,
   "id": "494dd6d7-1ba2-4e3d-b5d5-ec78b3408cd3",
   "metadata": {},
   "outputs": [],
   "source": []
  }
 ],
 "metadata": {
  "kernelspec": {
   "display_name": "Python 3 (ipykernel)",
   "language": "python",
   "name": "python3"
  },
  "language_info": {
   "codemirror_mode": {
    "name": "ipython",
    "version": 3
   },
   "file_extension": ".py",
   "mimetype": "text/x-python",
   "name": "python",
   "nbconvert_exporter": "python",
   "pygments_lexer": "ipython3",
   "version": "3.12.4"
  }
 },
 "nbformat": 4,
 "nbformat_minor": 5
}
