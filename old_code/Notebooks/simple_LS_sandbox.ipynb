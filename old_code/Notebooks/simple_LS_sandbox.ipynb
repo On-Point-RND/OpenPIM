{
 "cells": [
  {
   "cell_type": "code",
   "execution_count": null,
   "id": "188e2063-762b-429d-8c0e-7ec955cdd23e",
   "metadata": {},
   "outputs": [],
   "source": [
    "import numpy as np\n",
    "from scipy.io import loadmat\n",
    "import matplotlib.pyplot as plt\n",
    "import matplotlib.mlab as mlab\n",
    "import sys\n",
    "from scipy.signal import convolve, welch, periodogram\n",
    "from scipy.fft import fftshift\n",
    "\n",
    "sys.path.append('../Modules/')\n",
    "# from plotting import *\n",
    "from least_squares_models import *\n",
    "from metrics import *"
   ]
  },
  {
   "cell_type": "code",
   "execution_count": null,
   "id": "8de72928-3de0-4a3d-a85e-e7a6d7956e2a",
   "metadata": {},
   "outputs": [],
   "source": [
    "data = loadmat(\"../FOR_COOPERATION/1TR_C20Nc1CD_E20Ne1CD_20250117_5m/1TR_C20Nc1CD_E20Ne1CD_20250117_5m.mat\")\n",
    "fil = loadmat(\"../FOR_COOPERATION/rx_filter.mat\")\n",
    "# plot_spectrum(data)"
   ]
  },
  {
   "cell_type": "code",
   "execution_count": null,
   "id": "d1738594-df1c-494b-b150-4a140e12bced",
   "metadata": {},
   "outputs": [],
   "source": [
    "data.keys()"
   ]
  },
  {
   "cell_type": "code",
   "execution_count": null,
   "id": "5001d4d2-9061-44aa-9ed1-4132928320f7",
   "metadata": {},
   "outputs": [],
   "source": [
    "rxa = data[\"rxa\"][0]\n",
    "txa = data[\"txa\"][0]\n",
    "nfa = data[\"nfa\"][0]\n",
    "pim_ext = data[\"PIM_EXT\"][0]\n",
    "pim = data[\"PIM_COND\"][0] + data[\"PIM_EXT\"][0]\n",
    "    \n",
    "FC_TX = data['BANDS_DL'][0][0][0][0][0] / 10**6\n",
    "FC_RX = data['BANDS_UL'][0][0][0][0][0] / 10**6\n",
    "FS = data['Fs'][0][0] / 10**6\n",
    "PIM_SFT = data['PIM_sft'][0][0] / 10**6\n",
    "PIM_BW = data['BANDS_TX'][0][0][1][0][0] / 10**6"
   ]
  },
  {
   "cell_type": "code",
   "execution_count": null,
   "id": "17452944-467e-4b58-8366-1fabb72b2b36",
   "metadata": {},
   "outputs": [],
   "source": [
    "def create_model_matrix(x, bias=False):\n",
    "    basis_function = x * (np.abs(x) ** 2)\n",
    "    n = x.shape[0]\n",
    "    gen_mmat = np.empty((n,2), dtype=np.complex_)\n",
    "    gen_mmat[:,0] = basis_function\n",
    "    gen_mmat[:,1] = np.ones((n,), dtype=np.complex_)\n",
    "    mmat = gen_mmat \n",
    "    if bias == False:\n",
    "        mmat = gen_mmat[:, 0].reshape(n,1)\n",
    "    return mmat\n",
    "    \n",
    "\n",
    "def create_filtered_model_matrix(x, bias=False):\n",
    "    basis_function = x * (np.abs(x) ** 2)\n",
    "\n",
    "    # to bring amplitude of basis functions to the level of pim\n",
    "    # this is for simplicity, in real our model should learn this filter\n",
    "    bf_conv = convolve(basis_function, fil['flt_coeff'].flatten())\n",
    "    n = bf_conv.shape[0]\n",
    "    gen_mmat = np.empty((n,2), dtype=np.complex_)\n",
    "    gen_mmat[:,0] = bf_conv\n",
    "    gen_mmat[:,1] = np.ones((n,), dtype=np.complex_)\n",
    "    mmat = gen_mmat \n",
    "    if bias == False:\n",
    "        mmat = gen_mmat[:, 0].reshape(n,1)\n",
    "    return mmat\n",
    "\n",
    "\n",
    "def create_shifted_matrix(x, n_pts, n_past, n_after):\n",
    "    win_len = n_past + n_after + 1\n",
    "    gen_mmat = np.empty((n_pts,win_len), dtype=np.complex_)\n",
    "    for i in range(win_len):\n",
    "        gen_mmat[:,i] = x[i:i+n_pts]\n",
    "    return gen_mmat\n",
    "\n",
    "\n",
    "def real_model_matrix(cplx_tr_sig, bias=False):\n",
    "    x = np.real(cplx_tr_sig)\n",
    "    n = x.shape[0]\n",
    "    gen_mmat = np.empty((n,2))\n",
    "    gen_mmat[:,0] = x * (np.abs(x) ** 2)\n",
    "    gen_mmat[:,1] = np.ones((n,))\n",
    "    mmat = gen_mmat \n",
    "    if bias == False:\n",
    "        mmat = gen_mmat[:, 0].reshape(n,1)\n",
    "    return mmat"
   ]
  },
  {
   "cell_type": "markdown",
   "id": "9e51f2c3-af1f-40af-a085-f48e8c4b4d37",
   "metadata": {},
   "source": [
    "### Without filtering"
   ]
  },
  {
   "cell_type": "code",
   "execution_count": null,
   "id": "5495b76b-ba9b-4c3c-89b1-6fa43558383c",
   "metadata": {},
   "outputs": [],
   "source": [
    "A = create_model_matrix(txa, bias=True)\n",
    "print(A.shape)\n",
    "rhs = rxa\n",
    "w = np.linalg.inv(A.conj().T @ A) @ A.conj().T @ rhs\n",
    "print(w)"
   ]
  },
  {
   "cell_type": "code",
   "execution_count": null,
   "id": "59b54b64-77f2-4963-95cc-c2d9492b4b39",
   "metadata": {},
   "outputs": [],
   "source": [
    "pred_pim = A @ w\n",
    "filt_signal = rhs - pred_pim"
   ]
  },
  {
   "cell_type": "code",
   "execution_count": null,
   "id": "50e0dc4e-45aa-4557-9091-a15f39b2549d",
   "metadata": {},
   "outputs": [],
   "source": [
    "rxa_pow = cal_power(rxa,FS,FC_TX=FC_TX,PIM_SFT=PIM_SFT,PIM_BW=PIM_BW)\n",
    "filt_pow = cal_power(filt_signal, FS, FC_TX = FC_TX, PIM_SFT = PIM_SFT, PIM_BW = PIM_BW)\n",
    "perf = 10*np.log10(10**((rxa_pow)/10) - 1) - 10*np.log10(10**((filt_pow)/10) - 1)\n",
    "print(perf)"
   ]
  },
  {
   "cell_type": "code",
   "execution_count": null,
   "id": "03744422-f94f-4712-9e75-606d01c837bd",
   "metadata": {},
   "outputs": [],
   "source": [
    "rxa_pow"
   ]
  },
  {
   "cell_type": "code",
   "execution_count": null,
   "id": "60ecf6d8-47bb-4c7c-8d24-9aee1323bbf0",
   "metadata": {},
   "outputs": [],
   "source": [
    "10**((rxa_pow)/10)"
   ]
  },
  {
   "cell_type": "code",
   "execution_count": null,
   "id": "1d668dab-050f-470e-99e5-c310857267ec",
   "metadata": {},
   "outputs": [],
   "source": [
    "rxa_pow_my"
   ]
  },
  {
   "cell_type": "code",
   "execution_count": null,
   "id": "379a7bf0-ec34-4075-9d64-ec137015b14b",
   "metadata": {},
   "outputs": [],
   "source": [
    "10*np.log10(10**((filt_pow)/10) - 1)"
   ]
  },
  {
   "cell_type": "code",
   "execution_count": null,
   "id": "89db98da-ed54-41f4-aa0f-603a3b8e7896",
   "metadata": {},
   "outputs": [],
   "source": [
    "rxa_pow_my = compute_power(rxa, FS, PIM_SFT, PIM_BW)\n",
    "filt_pow_my = compute_power(filt_signal, FS, PIM_SFT, PIM_BW)"
   ]
  },
  {
   "cell_type": "code",
   "execution_count": null,
   "id": "bedac28b-f171-4735-af83-d2afcecceb83",
   "metadata": {},
   "outputs": [],
   "source": [
    "10*np.log10((rxa_pow_my - 1) / (filt_pow_my - 1))"
   ]
  },
  {
   "cell_type": "code",
   "execution_count": null,
   "id": "493b112f-f388-4f8e-bef9-1ef7b214203b",
   "metadata": {},
   "outputs": [],
   "source": [
    "calculate_metrics(rxa, filt_signal, FS, FC_TX, PIM_SFT, PIM_BW)"
   ]
  },
  {
   "cell_type": "code",
   "execution_count": null,
   "id": "689fb08c-7f4a-4e33-b19e-ea75c7f27f14",
   "metadata": {},
   "outputs": [],
   "source": [
    "initial_power = compute_power(rxa, FS , PIM_SFT, PIM_BW)\n",
    "filt_power = compute_power(filt_signal,FS, PIM_SFT, PIM_BW)\n",
    "print(initial_power, filt_power)\n",
    "calc_perf2(initial_power, filt_power)"
   ]
  },
  {
   "cell_type": "code",
   "execution_count": null,
   "id": "4ec808a3-288d-4767-96ad-b5004e515b18",
   "metadata": {},
   "outputs": [],
   "source": [
    "plt.plot(psd_sig)"
   ]
  },
  {
   "cell_type": "code",
   "execution_count": null,
   "id": "52d978a1-0c4d-4119-b101-8528c2c62461",
   "metadata": {},
   "outputs": [],
   "source": [
    "plt.plot(fftshift(pxx))"
   ]
  },
  {
   "cell_type": "code",
   "execution_count": null,
   "id": "d3762b74-fec7-47f3-869a-7b4b488864ba",
   "metadata": {},
   "outputs": [],
   "source": [
    "ax = plt.subplot(1,1,1)\n",
    "psd_TX,f = ax.psd(txa, Fs = FS, Fc = FC_TX, NFFT = 2048, window = np.kaiser(2048,10), noverlap = 1, pad_to = 2048)\n",
    "# psd_RX,f = ax.psd(rxa, Fs = FS, Fc = FC_TX, NFFT = 2048, window = np.kaiser(2048,10), noverlap = 1, pad_to = 2048)\n",
    "# psd_NF,f = ax.psd(pim, Fs = FS, Fc = FC_TX, NFFT = 2048, window = np.kaiser(2048,10), noverlap = 1, pad_to = 2048)\n",
    "# psd_PIM,f = ax.psd(filt_signal, Fs = FS, Fc = FC_TX, NFFT = 2048, window = np.kaiser(2048,10), noverlap = 1, pad_to = 2048)\n",
    "ax.set_ylabel(r'PSD, $V^2$/Hz [dB]')\n",
    "ax.set_xlabel('Frequency, MHz')\n",
    "ax.set_title('Power spectral density')\n",
    "plt.show()"
   ]
  },
  {
   "cell_type": "code",
   "execution_count": null,
   "id": "9b6f2440-393f-4c74-a33e-fa970347f31a",
   "metadata": {},
   "outputs": [],
   "source": [
    "ax = plt.subplot(1,1,1)\n",
    "psd_RX,f = ax.psd(pim, Fs = FS, Fc = FC_TX, NFFT = 2048, window = np.kaiser(2048,10), noverlap = 1, pad_to = 2048)\n",
    "psd_NF,f = ax.psd(pred_pim, Fs = FS, Fc = FC_TX, NFFT = 2048, window = np.kaiser(2048,10), noverlap = 1, pad_to = 2048)\n",
    "ax.set_ylabel(r'PSD, $V^2$/Hz [dB]')\n",
    "ax.set_xlabel('Frequency, MHz')\n",
    "ax.set_title('Power spectral density')\n",
    "plt.show()"
   ]
  },
  {
   "cell_type": "markdown",
   "id": "4d686c09-ae57-498c-84c6-49177bca6b1a",
   "metadata": {},
   "source": [
    "### With preliminary applying filter to basis txa basis functions"
   ]
  },
  {
   "cell_type": "code",
   "execution_count": null,
   "id": "3a3f9382-cf10-4169-8fb4-82ecae3b5c4d",
   "metadata": {},
   "outputs": [],
   "source": [
    "A = create_filtered_model_matrix(txa, bias=True)\n",
    "print(A.shape)\n",
    "rhs = convolve(rxa, fil['flt_coeff'].flatten())\n",
    "w = np.linalg.inv(A.conj().T @ A) @ A.conj().T @ rhs\n",
    "print(w)"
   ]
  },
  {
   "cell_type": "code",
   "execution_count": null,
   "id": "774fb5ab-0810-407f-9482-7178e9eb9986",
   "metadata": {},
   "outputs": [],
   "source": [
    "pred_pim = A @ w\n",
    "filt_signal = rhs - pred_pim"
   ]
  },
  {
   "cell_type": "code",
   "execution_count": null,
   "id": "b6ffc775-a1ff-4cb1-83ea-56b76252c9c3",
   "metadata": {},
   "outputs": [],
   "source": [
    "ax = plt.subplot(1,1,1)\n",
    "# psd_TX,f = ax.psd(txa, Fs = FS, Fc = FC_TX, NFFT = 2048, window = np.kaiser(2048,10), noverlap = 1, pad_to = 2048)\n",
    "psd_RX,f = ax.psd(rxa, Fs = FS, Fc = FC_TX, NFFT = 2048, window = np.kaiser(2048,10), noverlap = 1, pad_to = 2048)\n",
    "# psd_NF,f = ax.psd(pim, Fs = FS, Fc = FC_TX, NFFT = 2048, window = np.kaiser(2048,10), noverlap = 1, pad_to = 2048)\n",
    "psd_PIM,f = ax.psd(filt_signal, Fs = FS, Fc = FC_TX, NFFT = 2048, window = np.kaiser(2048,10), noverlap = 1, pad_to = 2048)\n",
    "ax.set_ylabel(r'PSD, $V^2$/Hz [dB]')\n",
    "ax.set_xlabel('Frequency, MHz')\n",
    "ax.set_title('Power spectral density')\n",
    "plt.show()"
   ]
  },
  {
   "cell_type": "code",
   "execution_count": null,
   "id": "12e481ac-53b7-40f5-8af9-60606f93eb0f",
   "metadata": {},
   "outputs": [],
   "source": [
    "ax = plt.subplot(1,1,1)\n",
    "psd_RX,f = ax.psd(pim, Fs = FS, Fc = FC_TX, NFFT = 2048, window = np.kaiser(2048,10), noverlap = 1, pad_to = 2048)\n",
    "psd_NF,f = ax.psd(pred_pim, Fs = FS, Fc = FC_TX, NFFT = 2048, window = np.kaiser(2048,10), noverlap = 1, pad_to = 2048)\n",
    "ax.set_ylabel(r'PSD, $V^2$/Hz [dB]')\n",
    "ax.set_xlabel('Frequency, MHz')\n",
    "ax.set_title('Power spectral density')\n",
    "plt.show()"
   ]
  },
  {
   "cell_type": "markdown",
   "id": "d9ac221e-2fe6-4228-ad01-6c7aada7c60f",
   "metadata": {},
   "source": [
    "### Memory channel"
   ]
  },
  {
   "cell_type": "code",
   "execution_count": null,
   "id": "37754ac5-a24a-4abf-9310-a7e56aa4f482",
   "metadata": {},
   "outputs": [],
   "source": [
    "n_pts = 200000\n",
    "n_back = 40\n",
    "n_fwd = 10\n",
    "bf = txa * (np.abs(txa) ** 2)\n",
    "A = create_shifted_matrix(bf, n_pts, n_back, n_fwd)\n",
    "print(A.shape)\n",
    "rhs = rxa[n_back : n_pts + n_back]\n",
    "print(rhs.shape)\n",
    "w = np.linalg.inv(A.conj().T @ A) @ A.conj().T @ rhs"
   ]
  },
  {
   "cell_type": "code",
   "execution_count": null,
   "id": "3a16f8e2-92d0-4ed8-a45f-03da604399ac",
   "metadata": {},
   "outputs": [],
   "source": [
    "pred_pim = A @ w\n",
    "filt_signal = rhs - pred_pim"
   ]
  },
  {
   "cell_type": "code",
   "execution_count": null,
   "id": "0e535eee-8cf7-4a3e-a5ce-ca23eca2773b",
   "metadata": {},
   "outputs": [],
   "source": [
    "ax = plt.subplot(1,1,1)\n",
    "# psd_TX,f = ax.psd(txa, Fs = FS, Fc = FC_TX, NFFT = 2048, window = np.kaiser(2048,10), noverlap = 1, pad_to = 2048)\n",
    "psd_RX,f = ax.psd(rxa, Fs = FS, Fc = FC_TX, NFFT = 2048, window = np.kaiser(2048,10), noverlap = 1, pad_to = 2048)\n",
    "# psd_NF,f = ax.psd(pred_pim, Fs = FS, Fc = FC_TX, NFFT = 2048, window = np.kaiser(2048,10), noverlap = 1, pad_to = 2048)\n",
    "psd_PIM,f = ax.psd(filt_signal, Fs = FS, Fc = FC_TX, NFFT = 2048, window = np.kaiser(2048,10), noverlap = 1, pad_to = 2048)\n",
    "ax.set_ylabel(r'PSD, $V^2$/Hz [dB]')\n",
    "ax.set_xlabel('Frequency, MHz')\n",
    "ax.set_title('Power spectral density')\n",
    "plt.show()"
   ]
  },
  {
   "cell_type": "code",
   "execution_count": null,
   "id": "059df9e3-0076-4ab0-a0da-1de24a6d0ac2",
   "metadata": {},
   "outputs": [],
   "source": [
    "ax = plt.subplot(1,1,1)\n",
    "psd_RX,f = ax.psd(pim, Fs = FS, Fc = FC_TX, NFFT = 2048, window = np.kaiser(2048,10), noverlap = 1, pad_to = 2048)\n",
    "psd_NF,f = ax.psd(pred_pim, Fs = FS, Fc = FC_TX, NFFT = 2048, window = np.kaiser(2048,10), noverlap = 1, pad_to = 2048)\n",
    "ax.set_ylabel(r'PSD, $V^2$/Hz [dB]')\n",
    "ax.set_xlabel('Frequency, MHz')\n",
    "ax.set_title('Power spectral density')\n",
    "plt.show()"
   ]
  },
  {
   "cell_type": "code",
   "execution_count": null,
   "id": "314d6b18-7667-409f-927f-180115ec180b",
   "metadata": {},
   "outputs": [],
   "source": []
  }
 ],
 "metadata": {
  "kernelspec": {
   "display_name": "Python 3 (ipykernel)",
   "language": "python",
   "name": "python3"
  },
  "language_info": {
   "codemirror_mode": {
    "name": "ipython",
    "version": 3
   },
   "file_extension": ".py",
   "mimetype": "text/x-python",
   "name": "python",
   "nbconvert_exporter": "python",
   "pygments_lexer": "ipython3",
   "version": "3.10.13"
  }
 },
 "nbformat": 4,
 "nbformat_minor": 5
}
