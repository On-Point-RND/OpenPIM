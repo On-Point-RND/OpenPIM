{
 "cells": [
  {
   "cell_type": "code",
   "execution_count": null,
   "id": "188e2063-762b-429d-8c0e-7ec955cdd23e",
   "metadata": {},
   "outputs": [],
   "source": [
    "import numpy as np\n",
    "import matplotlib.pyplot as plt"
   ]
  },
  {
   "cell_type": "markdown",
   "id": "1faeebca-cec0-41ba-84f2-aeb547974c1f",
   "metadata": {},
   "source": [
    "### Toy example of pim generation"
   ]
  },
  {
   "cell_type": "code",
   "execution_count": null,
   "id": "0ae21b82-e72f-4c6d-9fe7-9dc97300ca7b",
   "metadata": {},
   "outputs": [],
   "source": [
    "A1, A2 = 10, 10\n",
    "f1, f2 = 100, 140\n",
    "w1 = 2 * np.pi * f1\n",
    "w2 = 2 * np.pi * f2\n",
    "t = np.linspace(0, 10, 10000)\n",
    "txa = A1 * np.cos(w1 * t) + A2 * np.cos(w2 * t)\n",
    "pim = (1e-04) * txa * (txa) ** 2"
   ]
  },
  {
   "cell_type": "code",
   "execution_count": null,
   "id": "d773094b-95fc-4e3c-81a9-9839a0b4c1da",
   "metadata": {},
   "outputs": [],
   "source": [
    "1/(t[1] - t[0])"
   ]
  },
  {
   "cell_type": "code",
   "execution_count": null,
   "id": "47c173f5-bdc6-4559-b2e6-730c23995269",
   "metadata": {},
   "outputs": [],
   "source": [
    "ax = plt.subplot(1,1,1)\n",
    "psd_sig,f = ax.psd(txa,Fs = 1000,NFFT = 2048,window = np.kaiser(2048,10),noverlap = 1,pad_to = 2048)\n",
    "psd_pim,f = ax.psd(pim,Fs = 1000,NFFT = 2048,window = np.kaiser(2048,10),noverlap = 1,pad_to = 2048)"
   ]
  },
  {
   "cell_type": "code",
   "execution_count": null,
   "id": "0db2cfb1-6d16-4938-951a-8fb4807e1228",
   "metadata": {},
   "outputs": [],
   "source": [
    "f1_pack = np.arange(90, 115, 5)\n",
    "f2_pack = np.arange(140, 165, 5)\n",
    "w1 = 2 * np.pi * f1_pack\n",
    "w2 = 2 * np.pi * f2_pack\n",
    "n = len(f1_pack)\n",
    "win_len = 256\n",
    "\n",
    "t = np.linspace(0, 10, 10000)\n",
    "txa = np.zeros(t.shape[0])\n",
    "for i in range(n):\n",
    "    txa += A1 * np.cos(w1[i] * t) + A2 * np.cos(w2[i] * t)\n",
    "pim = (1e-04) * txa * np.abs(txa) ** 2"
   ]
  },
  {
   "cell_type": "code",
   "execution_count": null,
   "id": "85c96ae4-0f23-4e0a-8154-974a4120e67b",
   "metadata": {},
   "outputs": [],
   "source": [
    "FS = np.round(1 / (t[1] - t[0]))\n",
    "print(FS)"
   ]
  },
  {
   "cell_type": "code",
   "execution_count": null,
   "id": "8e82e47b-417f-48c8-a55a-77e0f6a0e192",
   "metadata": {},
   "outputs": [],
   "source": [
    "ax = plt.subplot(1,1,1)\n",
    "psd_sig,f = ax.psd(txa,Fs = 1000,NFFT = win_len,window = np.kaiser(win_len,10),noverlap = 1,pad_to = win_len)\n",
    "psd_pim,f = ax.psd(pim,Fs = 1000,NFFT = win_len,window = np.kaiser(win_len,10),noverlap = 1,pad_to = win_len)"
   ]
  },
  {
   "cell_type": "code",
   "execution_count": null,
   "id": "7991ca96-e5fb-42ac-a699-cb32cb110bb8",
   "metadata": {},
   "outputs": [],
   "source": []
  }
 ],
 "metadata": {
  "kernelspec": {
   "display_name": "Python 3 (ipykernel)",
   "language": "python",
   "name": "python3"
  },
  "language_info": {
   "codemirror_mode": {
    "name": "ipython",
    "version": 3
   },
   "file_extension": ".py",
   "mimetype": "text/x-python",
   "name": "python",
   "nbconvert_exporter": "python",
   "pygments_lexer": "ipython3",
   "version": "3.10.13"
  }
 },
 "nbformat": 4,
 "nbformat_minor": 5
}
