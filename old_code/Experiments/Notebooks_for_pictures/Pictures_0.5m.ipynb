{
 "cells": [
  {
   "cell_type": "code",
   "execution_count": null,
   "id": "f273e5f9-e13c-4ba3-b725-d33d98298cd8",
   "metadata": {},
   "outputs": [],
   "source": [
    "import numpy as np\n",
    "import pandas as pd\n",
    "import matplotlib.pyplot as plt\n",
    "import sys\n",
    "# !ls ../../Results/Polynomial_experiments/Simple/"
   ]
  },
  {
   "cell_type": "code",
   "execution_count": null,
   "id": "0ee59e68-d4a6-476c-848b-6775195d6f1a",
   "metadata": {},
   "outputs": [],
   "source": [
    "simple_metrics = pd.read_csv('../../Results/Polynomial_experiments/Simple/0.5m_simple_metrics.tsv')"
   ]
  },
  {
   "cell_type": "code",
   "execution_count": null,
   "id": "2e275366-594a-4ae1-a977-7c2187891993",
   "metadata": {},
   "outputs": [],
   "source": [
    "X, Y = np.array(simple_metrics['Back']).reshape(100,100), np.array(simple_metrics['Forward']).reshape(100,100)\n",
    "metric = np.array(simple_metrics['Test_metric']).reshape(100,100)\n",
    "\n",
    "# fig = plt.figure(figsize = (16,10))\n",
    "fig = plt.figure(figsize = (10, 7), dpi=500)\n",
    "ax = plt.axes(projection='3d')\n",
    "# ax.plot_surface(X, Y, metric, cmap='viridis_r', alpha = 0.75)\n",
    "ax.plot_surface(Y, X, metric, cmap='viridis_r', alpha = 0.75)\n",
    "ax.set_xlabel('Forward', fontsize=15)\n",
    "ax.set_ylabel('Back', fontsize=15)\n",
    "# ax.set_zlabel('\\nLoss', fontsize=15)\n",
    "ax.set_title(r'$Model: PIM = (a + b \\cdot i) \\cdot txa \\cdot |txa|^2$', fontsize=18)\n",
    "\n",
    "ax.set_xlim([0,100])\n",
    "ax.set_ylim([0,100])\n",
    "ax.set_zlim([0,15])\n",
    "plt.show()\n"
   ]
  },
  {
   "cell_type": "code",
   "execution_count": null,
   "id": "38decac1-9f6b-4f62-914c-4db29ddfb6ff",
   "metadata": {},
   "outputs": [],
   "source": []
  },
  {
   "cell_type": "code",
   "execution_count": null,
   "id": "4d69533b-cf43-4919-b750-13e433f6363a",
   "metadata": {},
   "outputs": [],
   "source": []
  },
  {
   "cell_type": "code",
   "execution_count": null,
   "id": "c17905bc-85de-400e-8064-7c3a0db13665",
   "metadata": {},
   "outputs": [],
   "source": []
  },
  {
   "cell_type": "code",
   "execution_count": null,
   "id": "2f315817-d3c3-4cd5-ab63-53ed371bb558",
   "metadata": {},
   "outputs": [],
   "source": [
    "polynomial_metrics = pd.read_csv('../../Results/Polynomial_experiments/Polynomial/0.5m_polynomial_metrics.tsv')\n",
    "\n",
    "polynome_degrees = polynomial_metrics.Degree.unique().tolist()\n",
    "polynome_degrees.sort()\n",
    "max_polynome_metrics = []\n",
    "for degree in polynome_degrees:\n",
    "    max_polynome_metrics.append(max(polynomial_metrics.loc[polynomial_metrics.Degree==degree]['Test_metric']))\n",
    "\n",
    "fig = plt.figure(figsize = (11,7))\n",
    "plt.plot(polynome_degrees,max_polynome_metrics, linewidth = 3, color = 'crimson')\n",
    "plt.xlim([0,9])\n",
    "# plt.ylim([-0.01,0.01])\n",
    "plt.xlabel('Polynome degree', fontsize=16)\n",
    "plt.ylabel('Max metric over all (Back, Forward) steps', fontsize=16)\n",
    "plt.title('Model: Polynomes', fontsize = 20)\n",
    "plt.grid(True)"
   ]
  },
  {
   "cell_type": "code",
   "execution_count": null,
   "id": "37aeba52-9d35-4977-8763-275ab251e173",
   "metadata": {},
   "outputs": [],
   "source": []
  },
  {
   "cell_type": "code",
   "execution_count": null,
   "id": "daf367d7-8f80-4670-b777-acc5d33090ec",
   "metadata": {},
   "outputs": [],
   "source": [
    "odd_polynomial_metrics = pd.read_csv('../../Results/Polynomial_experiments/Odd_polynomial/0.5m_odd_polynomial_metrics.tsv')\n",
    "\n",
    "odd_polynome_degrees = odd_polynomial_metrics.Degree.unique().tolist()\n",
    "odd_polynome_degrees.sort()\n",
    "odd_max_polynome_metrics = []\n",
    "for degree in odd_polynome_degrees:\n",
    "    odd_max_polynome_metrics.append(max(odd_polynomial_metrics.loc[odd_polynomial_metrics.Degree==degree]['Test_metric']))\n",
    "\n",
    "fig = plt.figure(figsize = (11,7))\n",
    "plt.plot(odd_polynome_degrees,odd_max_polynome_metrics, linewidth = 3, color = 'royalblue')\n",
    "plt.xlim([0,9])\n",
    "# plt.ylim([-0.01,0.01])\n",
    "plt.xlabel('Polynome degree', fontsize=16)\n",
    "plt.ylabel('Max metric over all (Back, Forward) steps', fontsize=16)\n",
    "plt.title('Model: Odd polynomes', fontsize = 20)\n",
    "plt.grid(True)"
   ]
  },
  {
   "cell_type": "code",
   "execution_count": null,
   "id": "570336b6-5d03-4ad4-93e1-9261ff3fbec4",
   "metadata": {},
   "outputs": [],
   "source": []
  },
  {
   "cell_type": "code",
   "execution_count": null,
   "id": "d940bf78-09c2-4bb3-806d-b13621338323",
   "metadata": {},
   "outputs": [],
   "source": [
    "simple_polynomial_metrics = pd.read_csv('../../Results/Polynomial_experiments/Simple_polynomial/0.5m_simple_polynomial_metrics.tsv')\n",
    "\n",
    "simple_polynome_degrees = simple_polynomial_metrics.Degree.unique().tolist()\n",
    "simple_polynome_degrees.sort()\n",
    "simple_max_polynome_metrics = []\n",
    "for degree in simple_polynome_degrees:\n",
    "    simple_max_polynome_metrics.append(max(simple_polynomial_metrics.loc[simple_polynomial_metrics.Degree==degree]['Test_metric']))\n",
    "\n",
    "fig = plt.figure(figsize = (11,7))\n",
    "plt.plot(simple_polynome_degrees,simple_max_polynome_metrics, linewidth = 3, color = 'royalblue')\n",
    "plt.xlim([0,9])\n",
    "# plt.ylim([-0.01,0.01])\n",
    "plt.xlabel('Polynome degree', fontsize=16)\n",
    "plt.ylabel('Max metric over all (Back, Forward) steps', fontsize=16)\n",
    "plt.title('Model: Simple polynomes', fontsize = 20)\n",
    "plt.grid(True)"
   ]
  },
  {
   "cell_type": "code",
   "execution_count": null,
   "id": "25bed40f-a765-47d0-b23f-47d2ba4d215a",
   "metadata": {},
   "outputs": [],
   "source": [
    "simple_polynomial_metrics = pd.read_csv('../../Results/Polynomial_experiments/Abs_polynomial/0.5m_abs_polynomial_metrics.tsv')\n",
    "\n",
    "simple_polynome_degrees = simple_polynomial_metrics.Degree.unique().tolist()\n",
    "simple_polynome_degrees.sort()\n",
    "simple_max_polynome_metrics = []\n",
    "for degree in simple_polynome_degrees:\n",
    "    simple_max_polynome_metrics.append(max(simple_polynomial_metrics.loc[simple_polynomial_metrics.Degree==degree]['Test_metric']))\n",
    "\n",
    "fig = plt.figure(figsize = (11,7))\n",
    "plt.plot(simple_polynome_degrees,simple_max_polynome_metrics, linewidth = 3, color = 'royalblue')\n",
    "plt.xlim([0,9])\n",
    "# plt.ylim([-0.01,0.01])\n",
    "plt.xlabel('Polynome degree', fontsize=16)\n",
    "plt.ylabel('Max metric over all (Back, Forward) steps', fontsize=16)\n",
    "plt.title('Model: Simple polynomes', fontsize = 20)\n",
    "plt.grid(True)"
   ]
  },
  {
   "cell_type": "code",
   "execution_count": null,
   "id": "263c3c1e-960e-4273-a43e-979d2b6a4d6a",
   "metadata": {},
   "outputs": [],
   "source": []
  },
  {
   "cell_type": "code",
   "execution_count": null,
   "id": "5d28cfcf-6734-4dfb-806f-f0a6c231470f",
   "metadata": {},
   "outputs": [],
   "source": []
  },
  {
   "cell_type": "code",
   "execution_count": null,
   "id": "14981c5a-fd57-4287-8ab2-5f11fd331d02",
   "metadata": {},
   "outputs": [],
   "source": []
  },
  {
   "cell_type": "code",
   "execution_count": null,
   "id": "0f86e2d4-5396-4d77-80bb-bde546d1284d",
   "metadata": {},
   "outputs": [],
   "source": []
  },
  {
   "cell_type": "code",
   "execution_count": null,
   "id": "c773d153-81e9-4782-84fb-622cf6c3f075",
   "metadata": {},
   "outputs": [],
   "source": []
  }
 ],
 "metadata": {
  "kernelspec": {
   "display_name": "Python 3 (ipykernel)",
   "language": "python",
   "name": "python3"
  },
  "language_info": {
   "codemirror_mode": {
    "name": "ipython",
    "version": 3
   },
   "file_extension": ".py",
   "mimetype": "text/x-python",
   "name": "python",
   "nbconvert_exporter": "python",
   "pygments_lexer": "ipython3",
   "version": "3.10.13"
  }
 },
 "nbformat": 4,
 "nbformat_minor": 5
}
