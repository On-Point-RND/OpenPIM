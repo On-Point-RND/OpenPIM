{
 "cells": [
  {
   "cell_type": "code",
   "execution_count": null,
   "id": "f273e5f9-e13c-4ba3-b725-d33d98298cd8",
   "metadata": {},
   "outputs": [],
   "source": [
    "import numpy as np\n",
    "import pandas as pd\n",
    "import matplotlib.pyplot as plt\n",
    "import sys\n",
    "# !ls ../../Results/Polynomial_experiments/Simple/"
   ]
  },
  {
   "cell_type": "code",
   "execution_count": null,
   "id": "0ee59e68-d4a6-476c-848b-6775195d6f1a",
   "metadata": {},
   "outputs": [],
   "source": [
    "simple_metrics = pd.read_csv('../../Results/Polynomial_experiments/Simple/5m_simple_metrics.tsv')"
   ]
  },
  {
   "cell_type": "code",
   "execution_count": null,
   "id": "2e275366-594a-4ae1-a977-7c2187891993",
   "metadata": {},
   "outputs": [],
   "source": [
    "X, Y = np.array(simple_metrics['Back']).reshape(100,100), np.array(simple_metrics['Forward']).reshape(100,100)\n",
    "metric = np.array(simple_metrics['Test_metric']).reshape(100,100)\n",
    "\n",
    "# fig = plt.figure(figsize = (16,10))\n",
    "fig = plt.figure(figsize = (10, 7), dpi=500)\n",
    "ax = plt.axes(projection='3d')\n",
    "# ax.plot_surface(X, Y, metric, cmap='viridis_r', alpha = 0.75)\n",
    "ax.plot_surface(Y, X, metric, cmap='viridis_r', alpha = 0.75)\n",
    "ax.set_xlabel('Forward', fontsize=15)\n",
    "ax.set_ylabel('Back', fontsize=15)\n",
    "# ax.set_zlabel('\\nLoss', fontsize=15)\n",
    "ax.set_title(r'$Model: PIM = (a + b \\cdot i) \\cdot txa \\cdot |txa|^2$', fontsize=18)\n",
    "\n",
    "ax.set_xlim([0,100])\n",
    "ax.set_ylim([0,100])\n",
    "ax.set_zlim([0,15])\n",
    "plt.show()\n"
   ]
  },
  {
   "cell_type": "code",
   "execution_count": null,
   "id": "38decac1-9f6b-4f62-914c-4db29ddfb6ff",
   "metadata": {},
   "outputs": [],
   "source": []
  },
  {
   "cell_type": "code",
   "execution_count": null,
   "id": "4d69533b-cf43-4919-b750-13e433f6363a",
   "metadata": {},
   "outputs": [],
   "source": []
  },
  {
   "cell_type": "code",
   "execution_count": null,
   "id": "c17905bc-85de-400e-8064-7c3a0db13665",
   "metadata": {},
   "outputs": [],
   "source": []
  },
  {
   "cell_type": "code",
   "execution_count": null,
   "id": "2f315817-d3c3-4cd5-ab63-53ed371bb558",
   "metadata": {},
   "outputs": [],
   "source": [
    "polynomial_metrics = pd.read_csv('../../Results/Polynomial_experiments/Polynomial/5m_polynomial_metrics.tsv')\n",
    "\n",
    "polynome_degrees = polynomial_metrics.Degree.unique().tolist()\n",
    "polynome_degrees.sort()\n",
    "max_polynome_metrics = []\n",
    "for degree in polynome_degrees:\n",
    "    max_polynome_metrics.append(max(polynomial_metrics.loc[polynomial_metrics.Degree==degree]['Test_metric']))\n",
    "\n",
    "fig = plt.figure(figsize = (11,7))\n",
    "plt.plot(polynome_degrees,max_polynome_metrics, linewidth = 3, color = 'crimson')\n",
    "plt.xlim([0,9])\n",
    "plt.ylim([-0.01,0.01])\n",
    "plt.xlabel('Polynome degree', fontsize=16)\n",
    "plt.ylabel('Max metric over all (Back, Forward) steps', fontsize=16)\n",
    "plt.title('Model: Polynomes', fontsize = 20)\n",
    "plt.grid(True)"
   ]
  },
  {
   "cell_type": "code",
   "execution_count": null,
   "id": "37aeba52-9d35-4977-8763-275ab251e173",
   "metadata": {},
   "outputs": [],
   "source": []
  },
  {
   "cell_type": "code",
   "execution_count": null,
   "id": "daf367d7-8f80-4670-b777-acc5d33090ec",
   "metadata": {},
   "outputs": [],
   "source": [
    "odd_polynomial_metrics = pd.read_csv('../../Results/Polynomial_experiments/Odd_polynomial/5m_odd_polynomial_metrics.tsv')\n",
    "\n",
    "odd_polynome_degrees = odd_polynomial_metrics.Degree.unique().tolist()\n",
    "odd_polynome_degrees.sort()\n",
    "odd_max_polynome_metrics = []\n",
    "for degree in odd_polynome_degrees:\n",
    "    odd_max_polynome_metrics.append(max(odd_polynomial_metrics.loc[odd_polynomial_metrics.Degree==degree]['Test_metric']))\n",
    "\n",
    "fig = plt.figure(figsize = (11,7))\n",
    "plt.plot(odd_polynome_degrees,odd_max_polynome_metrics, linewidth = 3, color = 'royalblue')\n",
    "plt.xlim([0,9])\n",
    "plt.ylim([-0.01,0.01])\n",
    "plt.xlabel('Polynome degree', fontsize=16)\n",
    "plt.ylabel('Max metric over all (Back, Forward) steps', fontsize=16)\n",
    "plt.title('Model: Odd polynomes', fontsize = 20)\n",
    "plt.grid(True)"
   ]
  },
  {
   "cell_type": "code",
   "execution_count": null,
   "id": "570336b6-5d03-4ad4-93e1-9261ff3fbec4",
   "metadata": {},
   "outputs": [],
   "source": []
  },
  {
   "cell_type": "code",
   "execution_count": null,
   "id": "fd494897-00e7-4945-9c9d-db1a637f89df",
   "metadata": {},
   "outputs": [],
   "source": [
    "# from scipy.io import loadmat\n",
    "# data = loadmat(\"../../Data/FOR_COOPERATION/1TR_C20Nc1CD_E20Ne1CD_20250117_5m/1TR_C20Nc1CD_E20Ne1CD_20250117_5m.mat\")\n",
    "\n",
    "# FC_TX = data['BANDS_DL'][0][0][0][0][0] / 10**6\n",
    "# FC_RX = data['BANDS_UL'][0][0][0][0][0] / 10**6\n",
    "# FS = data['Fs'][0][0] / 10**6\n",
    "# PIM_SFT = data['PIM_sft'][0][0] / 10**6\n",
    "# PIM_BW = data['BANDS_TX'][0][0][1][0][0] / 10**6\n",
    "# PIM_total_BW = data['BANDS_TX'][0][0][3][0][0] / 10**6\n",
    "\n",
    "# simple_df = pd.read_csv('../../Results/Polynomial_experiments/Simple/simple_experiment__back_28_fwd_15m_experiment.tsv')\n",
    "# rxa = simple_df['Rxa']\n",
    "# filtered = simple_df['Filtered_signal']"
   ]
  },
  {
   "cell_type": "code",
   "execution_count": null,
   "id": "be552906-e17b-497d-b08f-05cffd84637f",
   "metadata": {},
   "outputs": [],
   "source": [
    "# ax = plt.subplot(1,1,1)\n",
    "# psd_RX,f = ax.psd(np.array(rxa, dtype = np.complex_), Fs = FS, Fc = FC_TX, NFFT = 2048, window = np.kaiser(2048,10), noverlap = 1, pad_to = 2048)\n",
    "# psd_NF,f = ax.psd(np.array(filtered, dtype = np.complex_), Fs = FS, Fc = FC_TX, NFFT = 2048, window = np.kaiser(2048,10), noverlap = 1, pad_to = 2048)\n",
    "# ax.set_ylabel(r'PSD, $V^2$/Hz [dB]')\n",
    "# ax.set_xlabel('Frequency, MHz')\n",
    "# ax.set_title('Power spectral density')\n",
    "# plt.show()"
   ]
  },
  {
   "cell_type": "code",
   "execution_count": null,
   "id": "8c79a037-19a5-4ab4-9191-94a5517bfea6",
   "metadata": {},
   "outputs": [],
   "source": [
    "# sys.path.append('../../Modules/')\n",
    "# from least_squares_models import *\n",
    "# PIM_power = cal_power(np.array(rxa, dtype = np.complex_), FS = FS, FC_TX = FC_TX, PIM_SFT = PIM_SFT, PIM_BW = PIM_BW)\n",
    "# filtered_power = cal_power(np.array(filtered, dtype = np.complex_), FS = FS, FC_TX = FC_TX, PIM_SFT = PIM_SFT, PIM_BW = PIM_BW)"
   ]
  },
  {
   "cell_type": "code",
   "execution_count": null,
   "id": "2a5d4d3e-012b-41d6-9f48-ee35f4c5f8aa",
   "metadata": {},
   "outputs": [],
   "source": [
    "# print('PIM level: ', round(PIM_power, 2))\n",
    "# print('Filtered signal level: ',round(filtered_power, 2))"
   ]
  },
  {
   "cell_type": "code",
   "execution_count": null,
   "id": "fa75e58c-c0a0-43a5-9c4f-a286cfb9e163",
   "metadata": {},
   "outputs": [],
   "source": []
  },
  {
   "cell_type": "code",
   "execution_count": null,
   "id": "75daae8e-c4c8-43d5-b9a0-abba34ee6fa1",
   "metadata": {},
   "outputs": [],
   "source": []
  },
  {
   "cell_type": "code",
   "execution_count": null,
   "id": "6594cf8c-a40d-4e30-9c10-4b2857f06ef4",
   "metadata": {},
   "outputs": [],
   "source": []
  },
  {
   "cell_type": "code",
   "execution_count": null,
   "id": "d940bf78-09c2-4bb3-806d-b13621338323",
   "metadata": {},
   "outputs": [],
   "source": [
    "simple_polynomial_metrics = pd.read_csv('../../Results/Polynomial_experiments/Simple_polynomial/5m_simple_polynomial_metrics.tsv')\n",
    "\n",
    "simple_polynome_degrees = simple_polynomial_metrics.Degree.unique().tolist()\n",
    "simple_polynome_degrees.sort()\n",
    "simple_max_polynome_metrics = []\n",
    "for degree in simple_polynome_degrees:\n",
    "    simple_max_polynome_metrics.append(max(simple_polynomial_metrics.loc[simple_polynomial_metrics.Degree==degree]['Test_metric']))\n",
    "\n",
    "fig = plt.figure(figsize = (11,7))\n",
    "plt.plot(simple_polynome_degrees,simple_max_polynome_metrics, linewidth = 3, color = 'royalblue')\n",
    "plt.xlim([0,9])\n",
    "# plt.ylim([-0.01,0.01])\n",
    "plt.xlabel('Polynome degree', fontsize=16)\n",
    "plt.ylabel('Max metric over all (Back, Forward) steps', fontsize=16)\n",
    "plt.title(r'$Model: a_0 + a_1 x |x|^2 + a_2 (x |x|^2) ^2 + ...$', fontsize = 20)\n",
    "plt.grid(True)"
   ]
  },
  {
   "cell_type": "code",
   "execution_count": null,
   "id": "25bed40f-a765-47d0-b23f-47d2ba4d215a",
   "metadata": {},
   "outputs": [],
   "source": [
    "abs_polynomial_metrics = pd.read_csv('../../Results/Polynomial_experiments/Abs_polynomial/5m_abs_polynomial_metrics.tsv')\n",
    "\n",
    "abs_polynome_degrees = abs_polynomial_metrics.Degree.unique().tolist()\n",
    "abs_polynome_degrees.sort()\n",
    "abs_max_polynome_metrics = []\n",
    "for degree in abs_polynome_degrees:\n",
    "    abs_max_polynome_metrics.append(max(abs_polynomial_metrics.loc[abs_polynomial_metrics.Degree==degree]['Test_metric']))\n",
    "\n",
    "fig = plt.figure(figsize = (11,7))\n",
    "plt.plot(abs_polynome_degrees,abs_max_polynome_metrics, linewidth = 3, color = 'royalblue')\n",
    "plt.xlim([0,9])\n",
    "# plt.ylim([-0.01,0.01])\n",
    "plt.xlabel('Polynome degree', fontsize=16)\n",
    "plt.ylabel('Max metric over all (Back, Forward) steps', fontsize=16)\n",
    "plt.title(r'$Model: a_0 + a_1 x (b_1 |x| + b_2 |x|^2 + ...)$', fontsize = 20)\n",
    "plt.grid(True)"
   ]
  },
  {
   "cell_type": "code",
   "execution_count": null,
   "id": "e8bc5178-04d2-425e-9ae3-4905c4223840",
   "metadata": {},
   "outputs": [],
   "source": [
    "simple_polynomial_metrics[simple_polynomial_metrics.Degree == 9]"
   ]
  },
  {
   "cell_type": "code",
   "execution_count": null,
   "id": "94b8c2a4-f276-4074-a32f-1dbc036b8e0b",
   "metadata": {},
   "outputs": [],
   "source": []
  },
  {
   "cell_type": "code",
   "execution_count": null,
   "id": "51c3d3fc-de41-4320-b728-b3b296612242",
   "metadata": {},
   "outputs": [],
   "source": [
    "from scipy.io import loadmat\n",
    "data = loadmat(\"../../Data/FOR_COOPERATION/1TR_C20Nc1CD_E20Ne1CD_20250117_5m/1TR_C20Nc1CD_E20Ne1CD_20250117_5m.mat\")\n",
    "\n",
    "FC_TX = data['BANDS_DL'][0][0][0][0][0] / 10**6\n",
    "FC_RX = data['BANDS_UL'][0][0][0][0][0] / 10**6\n",
    "FS = data['Fs'][0][0] / 10**6\n",
    "PIM_SFT = data['PIM_sft'][0][0] / 10**6\n",
    "PIM_BW = data['BANDS_TX'][0][0][1][0][0] / 10**6\n",
    "PIM_total_BW = data['BANDS_TX'][0][0][3][0][0] / 10**6\n",
    "\n",
    "simple_df = pd.read_csv('../../Results/Polynomial_experiments/Simple_polynomial/simple_polynomial_experiment__back_19_fwd_19_degree_2_5m_id_0_experiment.tsv')\n",
    "rxa = simple_df['Rxa']\n",
    "filtered = simple_df['Filtered_signal']"
   ]
  },
  {
   "cell_type": "code",
   "execution_count": null,
   "id": "0384ef18-b2aa-460a-b3de-6e7172689ad3",
   "metadata": {},
   "outputs": [],
   "source": [
    "ax = plt.subplot(1,1,1)\n",
    "psd_RX,f = ax.psd(np.array(rxa, dtype = np.complex_), Fs = FS, Fc = FC_TX, NFFT = 2048, window = np.kaiser(2048,10), noverlap = 1, pad_to = 2048)\n",
    "psd_NF,f = ax.psd(np.array(filtered, dtype = np.complex_), Fs = FS, Fc = FC_TX, NFFT = 2048, window = np.kaiser(2048,10), noverlap = 1, pad_to = 2048)\n",
    "ax.set_ylabel(r'PSD, $V^2$/Hz [dB]')\n",
    "ax.set_xlabel('Frequency, MHz')\n",
    "ax.set_title('Power spectral density')\n",
    "plt.show()"
   ]
  },
  {
   "cell_type": "code",
   "execution_count": null,
   "id": "c799c9be-b5e8-48b4-b59a-dcce10e15229",
   "metadata": {},
   "outputs": [],
   "source": [
    "sys.path.append('../../Modules/')\n",
    "from least_squares_models import *\n",
    "PIM_power = cal_power(np.array(rxa, dtype = np.complex_), FS = FS, FC_TX = FC_TX, PIM_SFT = PIM_SFT, PIM_BW = PIM_BW)\n",
    "filtered_power = cal_power(np.array(filtered, dtype = np.complex_), FS = FS, FC_TX = FC_TX, PIM_SFT = PIM_SFT, PIM_BW = PIM_BW)"
   ]
  },
  {
   "cell_type": "code",
   "execution_count": null,
   "id": "4665eba6-c419-45ed-9b9d-9ed28b155806",
   "metadata": {},
   "outputs": [],
   "source": [
    "print('PIM level: ', round(PIM_power, 2))\n",
    "print('Filtered signal level: ',round(filtered_power, 2)) "
   ]
  },
  {
   "cell_type": "code",
   "execution_count": null,
   "id": "c36f0e39-9974-40fc-8c9b-c57c3452d266",
   "metadata": {},
   "outputs": [],
   "source": []
  },
  {
   "cell_type": "code",
   "execution_count": null,
   "id": "6fc1ae48-20c5-4d8c-91c8-07bd43689e65",
   "metadata": {},
   "outputs": [],
   "source": []
  },
  {
   "cell_type": "code",
   "execution_count": null,
   "id": "f0ebc684-ee1f-46a6-a9e8-63b01cd85460",
   "metadata": {},
   "outputs": [],
   "source": []
  },
  {
   "cell_type": "code",
   "execution_count": null,
   "id": "5d28cfcf-6734-4dfb-806f-f0a6c231470f",
   "metadata": {},
   "outputs": [],
   "source": [
    "qasi_linear_metrics = pd.read_csv('../../Results/Polynomial_experiments/Qasi-linear/5m_qasi-linear_metrics.tsv')\n",
    "max(qasi_linear_metrics.Test_metric)"
   ]
  },
  {
   "cell_type": "code",
   "execution_count": null,
   "id": "14981c5a-fd57-4287-8ab2-5f11fd331d02",
   "metadata": {},
   "outputs": [],
   "source": [
    "qasi_linear_metrics = pd.read_csv('../../Results/Polynomial_experiments/Qasi-linear/0.5m_qasi-linear_metrics.tsv')\n",
    "max(qasi_linear_metrics.Test_metric)"
   ]
  },
  {
   "cell_type": "code",
   "execution_count": null,
   "id": "0f86e2d4-5396-4d77-80bb-bde546d1284d",
   "metadata": {},
   "outputs": [],
   "source": []
  },
  {
   "cell_type": "code",
   "execution_count": null,
   "id": "c773d153-81e9-4782-84fb-622cf6c3f075",
   "metadata": {},
   "outputs": [],
   "source": []
  }
 ],
 "metadata": {
  "kernelspec": {
   "display_name": "Python 3 (ipykernel)",
   "language": "python",
   "name": "python3"
  },
  "language_info": {
   "codemirror_mode": {
    "name": "ipython",
    "version": 3
   },
   "file_extension": ".py",
   "mimetype": "text/x-python",
   "name": "python",
   "nbconvert_exporter": "python",
   "pygments_lexer": "ipython3",
   "version": "3.10.13"
  }
 },
 "nbformat": 4,
 "nbformat_minor": 5
}
