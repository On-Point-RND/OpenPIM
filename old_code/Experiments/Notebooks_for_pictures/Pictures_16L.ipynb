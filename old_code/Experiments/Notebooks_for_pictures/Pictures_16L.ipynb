{
 "cells": [
  {
   "cell_type": "code",
   "execution_count": null,
   "id": "f273e5f9-e13c-4ba3-b725-d33d98298cd8",
   "metadata": {},
   "outputs": [],
   "source": [
    "import numpy as np\n",
    "import pandas as pd\n",
    "import matplotlib.pyplot as plt\n",
    "import sys\n",
    "# !ls ../../Results/Polynomial_experiments/Simple/"
   ]
  },
  {
   "cell_type": "code",
   "execution_count": null,
   "id": "becc87b9-b605-45ae-a022-c049d77e94ba",
   "metadata": {},
   "outputs": [],
   "source": [
    "from scipy.io import loadmat\n",
    "data = loadmat(\"../../Data/FOR_COOPERATION/1TR_C20Nc1CD_E20Ne1CD_20250117_5m/1TR_C20Nc1CD_E20Ne1CD_20250117_5m.mat\")\n",
    "sys.path.append('../../Modules/')\n",
    "from least_squares_models import *\n",
    "\n",
    "FC_TX = data['BANDS_DL'][0][0][0][0][0] / 10**6\n",
    "FC_RX = data['BANDS_UL'][0][0][0][0][0] / 10**6\n",
    "FS = data['Fs'][0][0] / 10**6\n",
    "PIM_SFT = data['PIM_sft'][0][0] / 10**6\n",
    "PIM_BW = data['BANDS_TX'][0][0][1][0][0] / 10**6\n",
    "PIM_total_BW = data['BANDS_TX'][0][0][3][0][0] / 10**6"
   ]
  },
  {
   "cell_type": "code",
   "execution_count": null,
   "id": "c8b07680-a4d1-4650-9a45-b2e44f1d6238",
   "metadata": {},
   "outputs": [],
   "source": []
  },
  {
   "cell_type": "code",
   "execution_count": null,
   "id": "6330b960-f161-40ea-8ac0-7f811c523532",
   "metadata": {},
   "outputs": [],
   "source": []
  },
  {
   "cell_type": "code",
   "execution_count": null,
   "id": "68557d00-7e36-47cb-8ac2-eff530d2f455",
   "metadata": {},
   "outputs": [],
   "source": [
    "all_powers = []\n",
    "for id in range(16):\n",
    "    simple_df = pd.read_csv('../../Results/Polynomial_experiments/Simple/simple_experiment__back_0_fwd_0_16L_id_' + str(id) + '_experiment.tsv')\n",
    "    rxa = simple_df['Rxa']\n",
    "    filtered = simple_df['Filtered_signal']\n",
    "    \n",
    "    PIM_power = cal_power(np.array(rxa, dtype = np.complex_), FS = FS, FC_TX = FC_TX, PIM_SFT = PIM_SFT, PIM_BW = PIM_BW)\n",
    "    filtered_power = cal_power(np.array(filtered, dtype = np.complex_), FS = FS, FC_TX = FC_TX, PIM_SFT = PIM_SFT, PIM_BW = PIM_BW)\n",
    "    all_powers.append(PIM_power - filtered_power)\n",
    "\n",
    "print('Min. diff.: ', min(all_powers), ' , index: ', all_powers.index(min(all_powers)))\n",
    "print('Max. diff.: ', max(all_powers), ' , index: ', all_powers.index(max(all_powers)))"
   ]
  },
  {
   "cell_type": "code",
   "execution_count": null,
   "id": "1d41b72c-f03e-4092-92dc-30af6b597cb3",
   "metadata": {},
   "outputs": [],
   "source": []
  },
  {
   "cell_type": "code",
   "execution_count": null,
   "id": "4be38787-9b73-4ed3-b692-91694afb19c7",
   "metadata": {},
   "outputs": [],
   "source": []
  },
  {
   "cell_type": "code",
   "execution_count": null,
   "id": "debbd8f1-52ae-42b9-94a4-742e02434610",
   "metadata": {},
   "outputs": [],
   "source": [
    "id = 15\n",
    "simple_df = pd.read_csv('../../Results/Polynomial_experiments/Simple/simple_experiment__back_19_fwd_4_16L_id_' + str(id) + '_experiment.tsv')\n",
    "rxa = simple_df['Rxa']\n",
    "filtered = simple_df['Filtered_signal']\n",
    "\n",
    "ax = plt.subplot(1,1,1)\n",
    "psd_RX,f = ax.psd(np.array(rxa, dtype = np.complex_), Fs = FS, Fc = FC_TX, NFFT = 2048, window = np.kaiser(2048,10), \n",
    "                  noverlap = 1, pad_to = 2048)\n",
    "psd_NF,f = ax.psd(np.array(filtered, dtype = np.complex_), Fs = FS, Fc = FC_TX, NFFT = 2048, window = np.kaiser(2048,10), \n",
    "                  noverlap = 1, pad_to = 2048)\n",
    "ax.set_ylabel(r'PSD, $V^2$/Hz [dB]')\n",
    "ax.set_xlabel('Frequency, MHz')\n",
    "ax.set_title('CH_' + str(id))\n",
    "plt.show()\n",
    "\n",
    "PIM_power = cal_power(np.array(rxa, dtype = np.complex_), FS = FS, FC_TX = FC_TX, PIM_SFT = PIM_SFT, PIM_BW = PIM_BW)\n",
    "filtered_power = cal_power(np.array(filtered, dtype = np.complex_), FS = FS, FC_TX = FC_TX, PIM_SFT = PIM_SFT, PIM_BW = PIM_BW)\n",
    "print('PIM level: ', round(PIM_power, 2))\n",
    "print('Filtered signal level: ',round(filtered_power, 2))\n",
    "print('Loss: ', round(calc_perf(PIM_power,filtered_power),2))"
   ]
  },
  {
   "cell_type": "code",
   "execution_count": null,
   "id": "793f11cf-005a-4b69-93b6-707ee45fc9ae",
   "metadata": {},
   "outputs": [],
   "source": []
  },
  {
   "cell_type": "code",
   "execution_count": null,
   "id": "52a1e4ce-6b85-4f69-b76d-a645054ce50f",
   "metadata": {},
   "outputs": [],
   "source": [
    "sys.path.append('../../Modules/')\n",
    "from least_squares_models import *\n",
    "PIM_power = cal_power(np.array(rxa, dtype = np.complex_), FS = FS, FC_TX = FC_TX, PIM_SFT = PIM_SFT, PIM_BW = PIM_BW)\n",
    "filtered_power = cal_power(np.array(filtered, dtype = np.complex_), FS = FS, FC_TX = FC_TX, PIM_SFT = PIM_SFT, PIM_BW = PIM_BW)\n",
    "print('PIM level: ', round(PIM_power, 2))\n",
    "print('Filtered signal level: ',round(filtered_power, 2))"
   ]
  },
  {
   "cell_type": "code",
   "execution_count": null,
   "id": "d5dc4954-647e-4111-ad20-68075e6e0cbb",
   "metadata": {},
   "outputs": [],
   "source": []
  },
  {
   "cell_type": "code",
   "execution_count": null,
   "id": "3d09f828-8683-4730-8827-ebde0f06da1d",
   "metadata": {},
   "outputs": [],
   "source": [
    "simple_metrics"
   ]
  },
  {
   "cell_type": "code",
   "execution_count": null,
   "id": "e2c4dcb8-8a71-478a-8b6f-e3b53ad47269",
   "metadata": {},
   "outputs": [],
   "source": [
    "X"
   ]
  },
  {
   "cell_type": "code",
   "execution_count": null,
   "id": "0ee59e68-d4a6-476c-848b-6775195d6f1a",
   "metadata": {},
   "outputs": [],
   "source": [
    "simple_metrics = pd.read_csv('../../Results/Polynomial_experiments/Simple/16L_simple_metrics.tsv')"
   ]
  },
  {
   "cell_type": "code",
   "execution_count": null,
   "id": "2e275366-594a-4ae1-a977-7c2187891993",
   "metadata": {},
   "outputs": [],
   "source": [
    "X, Y = np.array(simple_metrics['Back']).reshape(20,5), np.array(simple_metrics['Forward']).reshape(20,5)\n",
    "metric = np.array(simple_metrics['Test_metric']).reshape(20,5)\n",
    "\n",
    "# fig = plt.figure(figsize = (16,10))\n",
    "fig = plt.figure(figsize = (10, 7), dpi=500)\n",
    "ax = plt.axes(projection='3d')\n",
    "# ax.plot_surface(X, Y, metric, cmap='viridis_r', alpha = 0.75)\n",
    "ax.plot_surface(Y, X, metric, cmap='viridis_r', alpha = 0.75)\n",
    "ax.set_xlabel('Forward', fontsize=15)\n",
    "ax.set_ylabel('Back', fontsize=15)\n",
    "ax.set_zlabel('\\nMean Loss', fontsize=15)\n",
    "ax.set_title(r'$Model: PIM = (a_1 + b_1 \\cdot i) \\cdot txa_1 \\cdot |txa_1|^2 + (a_2 + b_2 \\cdot i) \\cdot txa_2 \\cdot |txa_2|^2 + ...$', fontsize=16)\n",
    "\n",
    "ax.set_xlim([0,4])\n",
    "ax.set_ylim([0,20])\n",
    "ax.set_zlim([-3,1])\n",
    "plt.show()\n"
   ]
  },
  {
   "cell_type": "code",
   "execution_count": null,
   "id": "38decac1-9f6b-4f62-914c-4db29ddfb6ff",
   "metadata": {},
   "outputs": [],
   "source": [
    "m = max(simple_metrics.Test_metric)\n",
    "simple_metrics[simple_metrics.Test_metric == m]"
   ]
  },
  {
   "cell_type": "code",
   "execution_count": null,
   "id": "bae93bdf-4bc6-4150-b96a-40d391bf72db",
   "metadata": {},
   "outputs": [],
   "source": [
    "m"
   ]
  },
  {
   "cell_type": "code",
   "execution_count": null,
   "id": "ea0dc651-da64-41cd-b4d1-c1a93ab47eba",
   "metadata": {},
   "outputs": [],
   "source": []
  },
  {
   "cell_type": "code",
   "execution_count": null,
   "id": "fca29f39-0392-4942-b7e2-e09151849a74",
   "metadata": {},
   "outputs": [],
   "source": []
  },
  {
   "cell_type": "code",
   "execution_count": null,
   "id": "0271e29f-50e5-4385-a258-382f0b59d320",
   "metadata": {},
   "outputs": [],
   "source": []
  },
  {
   "cell_type": "code",
   "execution_count": null,
   "id": "b147f4f1-5152-4ead-b74c-811eae754faf",
   "metadata": {},
   "outputs": [],
   "source": []
  }
 ],
 "metadata": {
  "kernelspec": {
   "display_name": "Python 3 (ipykernel)",
   "language": "python",
   "name": "python3"
  },
  "language_info": {
   "codemirror_mode": {
    "name": "ipython",
    "version": 3
   },
   "file_extension": ".py",
   "mimetype": "text/x-python",
   "name": "python",
   "nbconvert_exporter": "python",
   "pygments_lexer": "ipython3",
   "version": "3.10.13"
  }
 },
 "nbformat": 4,
 "nbformat_minor": 5
}
